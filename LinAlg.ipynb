{
 "cells": [
  {
   "cell_type": "markdown",
   "id": "5c7412a8-a003-499f-aa3b-082a29e7bbfd",
   "metadata": {},
   "source": [
    "# Lineare Algebra \n",
    "\n",
    "Matrix-Multiplikation, Skalarprodukt, Lösung von LGS, Determinante, Dimension eines Kerns, Transposition, Normen, Matrixrang\n",
    "\n",
    "Dimension von Räumen? Dimension von Schnitten von Räumen?\n",
    "\n",
    "Jeroen fragen LR-Zerlegung"
   ]
  },
  {
   "cell_type": "code",
   "execution_count": null,
   "id": "ce349c9d-4c1b-492c-a6c9-2f10e5de7d7e",
   "metadata": {},
   "outputs": [],
   "source": [
    "import numpy as np\n",
    "import matplotlib.pyplot as plt"
   ]
  },
  {
   "cell_type": "markdown",
   "id": "cf6c595a-8368-4544-969b-ba6b7faa5d09",
   "metadata": {},
   "source": [
    "## Matrizen und Vektoren\n",
    "\n",
    "Matrizen und Vektoren in Python werden als *numpy arrays* dargestellt. Vektoren sind 1-dimensionale *arrays*, Matrizen 2-dimensionale *arrays*. Addition, Subtraktion und punktweise Multiplikation und auch punktweise Division erfolgt mit den gewöhnlichen Operatoren <code>+-*/</code>. \n",
    "\n",
    "Zur Illustration erzeugen wir zwei Vektoren <code>u,v</code> mit dem <code>np.array</code>-Befehl aus einer gewöhnlichen Liste und addieren die beiden Vektoren."
   ]
  },
  {
   "cell_type": "code",
   "execution_count": null,
   "id": "db8ac81c-86c9-428f-a5ec-a9bfc72edb15",
   "metadata": {},
   "outputs": [],
   "source": [
    "v=np.array([1,2,3]) # aus der Liste [1,2,3] machen wir ein numpy-array, also einen Vektor\n",
    "u=np.array([3,2,1])\n",
    "u+v"
   ]
  },
  {
   "cell_type": "markdown",
   "id": "5064278f-24dc-448e-b779-aa96e53c0f83",
   "metadata": {},
   "source": [
    "Punktweise Multiplikation funktioniert genauso. Achtung: Das ist **nicht** das Skalarprodukt."
   ]
  },
  {
   "cell_type": "code",
   "execution_count": null,
   "id": "c4d756e2-86dc-4c1d-8bce-0c729aa7711f",
   "metadata": {},
   "outputs": [],
   "source": [
    "u*v"
   ]
  },
  {
   "cell_type": "markdown",
   "id": "712eed09-dca4-420e-92d7-9a9d201a7f05",
   "metadata": {},
   "source": [
    "Und das Skalarprodukt? Bekommen wir mit <code>np.dot</code>. (Hier noch etwas Kleingedrucktes: Für Vektoren aus $\\mathbb C^n$ ist das nicht das Standardskalarprodukt; dies erhalten wir mit <code>np.vdot</code>. Dokumentation [hier.](https://numpy.org/doc/stable/reference/generated/numpy.vdot.html))"
   ]
  },
  {
   "cell_type": "code",
   "execution_count": null,
   "id": "179de938-1a1b-415b-969c-4ef6005fac64",
   "metadata": {},
   "outputs": [],
   "source": [
    "np.dot(u,v)"
   ]
  },
  {
   "cell_type": "markdown",
   "id": "034958a3-b505-4d20-8b53-5fd3af24df77",
   "metadata": {},
   "source": [
    "Als nächstes beschaffen wir uns eine Matrix. Am einfachsten ist es vielleicht eine Matrix zunächst als Liste von Listen darzustellen und dann in einen *numpy-array* umzuwandeln. Das geht so. "
   ]
  },
  {
   "cell_type": "code",
   "execution_count": null,
   "id": "f2c1f95b-afaa-4558-9963-4507e7855507",
   "metadata": {},
   "outputs": [],
   "source": [
    "A=np.array([[1,2,3],[1,0,1],[-3,2,-1]])\n",
    "A"
   ]
  },
  {
   "cell_type": "markdown",
   "id": "4cdddb74-395c-48de-a939-e324637221e8",
   "metadata": {},
   "source": [
    "Matrizen können genau wie Vektoren addiert werden. Addieren wir einfach mal die Einheitsmatrix -- die $n\\times n$-Einheitsmatrix erhalten wir mit <code>np.eye(n)</code>."
   ]
  },
  {
   "cell_type": "code",
   "execution_count": null,
   "id": "c84a6cfd-863b-420a-b3f7-36f43067e463",
   "metadata": {},
   "outputs": [],
   "source": [
    "A+np.eye(3)"
   ]
  },
  {
   "cell_type": "markdown",
   "id": "defb9238-3a94-469b-8b84-3dcb7e65c58f",
   "metadata": {},
   "source": [
    "Wir können eine Matrix auch mit einem Skalar multiplizieren. Machen wir dies mal mit der 1-Matrix, die Matrix, die in jedem Eintrag 1 ist. "
   ]
  },
  {
   "cell_type": "code",
   "execution_count": null,
   "id": "fb02ebe9-dc4b-49b4-95ce-22c919929995",
   "metadata": {},
   "outputs": [],
   "source": [
    "J=np.ones(shape=(3,4)) # 3x4-Einsermatrix\n",
    "42*J"
   ]
  },
  {
   "cell_type": "markdown",
   "id": "4a7ef535-7368-4771-ad28-23e156a8fb63",
   "metadata": {},
   "source": [
    "Vektor-Matrixmultiplikation erfolgt mit dem Operator <code>@</code>."
   ]
  },
  {
   "cell_type": "code",
   "execution_count": null,
   "id": "fec0fe26-4879-44b9-969f-0d3455daff10",
   "metadata": {},
   "outputs": [],
   "source": [
    "A@u"
   ]
  },
  {
   "cell_type": "markdown",
   "id": "cab21733-2941-471b-aaa2-81e576851dc5",
   "metadata": {},
   "source": [
    "### Aufgabe: Drehmatrix\n",
    "Die Matrix\n",
    "$$\n",
    "D_\\alpha=\\begin{pmatrix}\\cos\\alpha & -\\sin\\alpha\\\\\\sin\\alpha & \\cos\\alpha\\end{pmatrix}\n",
    "$$\n",
    "dreht 2-dimensionale Vektoren um einen Winkel von $\\alpha$. \n",
    "* Definieren Sie eine Rotationsmatrix mit Winkel $360^\\circ/11$ und speichern Sie die Matrix in einer Variable namens <code>D</code>. Sie werden dazu sicher die Funktionen <code>math.sin</code>, <code>math.cos</code> sowie die Konstante <code>math.pi</code> benötigen. Beachten Sie, dass die Funktionen <code>math.sin</code>, <code>math.cos</code> mit dem [Bogenmaß](https://de.wikipedia.org/wiki/Radiant_(Einheit)) statt dem Winkel arbeiten.\n",
    "* Multiplizieren Sie den Vektor $$\\begin{pmatrix}1\\\\1\\end{pmatrix}$$ mit <code>D</code>. Das Resultat soll in einer Variable namens <code>p</code> abgelegt werden.\n",
    "\n",
    "*Hinweis* Der Code weiter unten gibt Ihnen ein schönes 11-Eck aus, wenn Sie die Matrix richtig definiert haben."
   ]
  },
  {
   "cell_type": "code",
   "execution_count": null,
   "id": "497ae8bf-85ff-41eb-bbdb-1790352fd3f7",
   "metadata": {},
   "outputs": [],
   "source": [
    "import math # Wir müssen die math-Bibliothek importieren\n",
    "### BEGIN SOLUTION\n",
    "\n",
    "### END SOLUTION"
   ]
  },
  {
   "cell_type": "markdown",
   "id": "e0fca21f-8646-4ed9-a2e8-c610cf1ca5f4",
   "metadata": {},
   "source": [
    "Wir verifizieren, ob die Matrix <code>D</code> richtig definiert wurde, in dem wir ein 11-Eck plotten."
   ]
  },
  {
   "cell_type": "code",
   "execution_count": null,
   "id": "9721d71c-0c6e-4fb6-9fcb-33a7572a7f1a",
   "metadata": {},
   "outputs": [],
   "source": [
    "point=np.ones(2)\n",
    "points=[]\n",
    "for _ in range(11):\n",
    "    points.append(point)\n",
    "    point=D@point\n",
    "fig,ax=plt.subplots(figsize=(3,3))\n",
    "points.append(np.ones(2))\n",
    "points=np.array(points)\n",
    "ax.plot(points[:,0],points[:,1],\"o-\")"
   ]
  },
  {
   "cell_type": "markdown",
   "id": "d634089c-f402-4051-936f-3d2f15a59538",
   "metadata": {},
   "source": [
    "Der Operator <code>@</code> ist auch zuständig für allgemeine Matrixmultiplikation. Wir multiplizieren mal eine Matrix mit einer Diagonalmatrix, die wir uns mit <code>np.diag</code> beschaffen."
   ]
  },
  {
   "cell_type": "code",
   "execution_count": null,
   "id": "2c73dcb0-ee6a-424e-9bcf-bc7af64e305e",
   "metadata": {},
   "outputs": [],
   "source": [
    "A=np.array([[1,2,3,4],[1,-1,1,-1],[0,0,2,0]])\n",
    "D=np.diag([10,1,0.1])\n",
    "D@A"
   ]
  },
  {
   "cell_type": "markdown",
   "id": "d445ddbf-5a19-40e1-bb0f-f847de944405",
   "metadata": {},
   "source": [
    "Als letzte elementare Operation machen wir eine Transposition. Dies geschieht einfach durch Anhängen von <code>.T</code> an die Matrix (oder den Vektor) wie hier:"
   ]
  },
  {
   "cell_type": "code",
   "execution_count": null,
   "id": "3ba9bc25-0b68-44d7-8cab-d2d46c07ba4e",
   "metadata": {},
   "outputs": [],
   "source": [
    "A.T"
   ]
  },
  {
   "cell_type": "markdown",
   "id": "09422a68-e7c7-4bee-b066-28d1f94c97ff",
   "metadata": {},
   "source": [
    "## Gleichungssysteme lösen und Rang\n",
    "\n",
    "Gegeben $Ax=b$, was ist $x$? Das ist die Standardfrage in linearer Algebra -- und natürlich gibt es einen einfachen Weg, die Lösung mit *numpy* zu berechnen. Wir brauchen dazu die Methode <code>solve</code>, die im Paket <code>numpy.linalg</code> bereit gestellt wird. Dh, wir rufen sie mit <code>np.linalg.solve</code> auf. "
   ]
  },
  {
   "cell_type": "code",
   "execution_count": null,
   "id": "4f8e5504-5140-439e-84c2-383d4482c3e6",
   "metadata": {},
   "outputs": [],
   "source": [
    "A=np.array([[1,2,3],[4,5,6],[1,1,2]])\n",
    "b=np.array([1,0,1])\n",
    "np.linalg.solve(A,b)"
   ]
  },
  {
   "cell_type": "markdown",
   "id": "4668743a-24c6-4e0d-b263-45fc7a18307c",
   "metadata": {},
   "source": [
    "Wie wir aus der linearen Algebra wissen: $Ax=b$ muss keine Lösung haben, wenn $A$ nicht vollen Rang hat. Den Rang einer Matrix bestimmen wir so:"
   ]
  },
  {
   "cell_type": "code",
   "execution_count": null,
   "id": "b745bf3f-faaf-4bd2-b167-3bcc9bea9f49",
   "metadata": {},
   "outputs": [],
   "source": [
    "np.linalg.matrix_rank(A)"
   ]
  },
  {
   "cell_type": "markdown",
   "id": "ccca3f8a-6238-499e-a3e8-64bf9001e8df",
   "metadata": {},
   "source": [
    "## Determinante\n",
    "\n",
    "Determinanten werden mit <code>np.linalg.det</code> berechnet. Wir testen die Methode anhand der [Vandermonde-Matrix](https://de.wikipedia.org/wiki/Vandermonde-Matrix)\n",
    "$$\n",
    "V=\\begin{pmatrix}\n",
    "1 & \\alpha_1^1 & \\alpha_1^2&\\ldots &\\alpha_1^{n-1}\\\\\n",
    "1 & \\alpha_2^1 & \\alpha_2^2&\\ldots &\\alpha_2^{n-1}\\\\\n",
    "\\vdots & \\vdots & \\vdots & \\vdots & \\vdots\\\\\n",
    "1 & \\alpha_n^1 & \\alpha_n^2&\\ldots &\\alpha_n^{n-1}\n",
    "\\end{pmatrix}\n",
    "$$\n",
    "wobei $\\alpha_1,\\ldots,\\alpha_n\\in\\mathbb R$. Aus der linearen Algebra (bzw Wikipedia...) wissen wir, dass die Determinante der Matrix gleich \n",
    "$$\n",
    "\\det V=\\prod_{i<j}(\\alpha_j-\\alpha_i)\n",
    "$$\n",
    "ist. Prüfen wir das nach!\n",
    "\n",
    "Als erstes schreiben wir eine Methode, um eine Vandermonde-Matrix zu erzeugen. Beachten Sie dabei <code>x**i</code>: Hier werden die Einträge des Vektors $x$ punktweise zur $i$. Potenz genommen."
   ]
  },
  {
   "cell_type": "code",
   "execution_count": null,
   "id": "77b4ce5d-0388-44d5-9d53-f47de353b055",
   "metadata": {},
   "outputs": [],
   "source": [
    "def vandermonde(x):\n",
    "    x=np.array(x)\n",
    "    n=len(x)\n",
    "    return np.array([x**i for i in range(n)]).T\n",
    "\n",
    "vandermonde([2,3,4,5])"
   ]
  },
  {
   "cell_type": "markdown",
   "id": "58fc4ad4-5dba-4a64-a8ad-d3f131684492",
   "metadata": {},
   "source": [
    "Nun die Determinante."
   ]
  },
  {
   "cell_type": "code",
   "execution_count": null,
   "id": "57cf67ea-17f1-4686-b530-296255433706",
   "metadata": {},
   "outputs": [],
   "source": [
    "x=[2,3,4,5]\n",
    "V=vandermonde(x)\n",
    "np.linalg.det(V)"
   ]
  },
  {
   "cell_type": "markdown",
   "id": "8131a04c-5d29-436e-a69f-c4618f374999",
   "metadata": {},
   "source": [
    "Aha, wir beobachten kleinere numerische Ungenauigkeiten. Nutzen wir unser Wissen über die Determinante, um die Gegenprobe zu machen. Hier kommt die Funktion <code>np.prod</code> zum Einsatz, die -- ganz analog zu <code>np.sum</code> -- alle Elemente einer Liste (oder eines *arrays*) miteinander multipliziert."
   ]
  },
  {
   "cell_type": "code",
   "execution_count": null,
   "id": "c58db33a-087e-4c0c-ae26-294095c862e7",
   "metadata": {},
   "outputs": [],
   "source": [
    "np.prod([x[j]-x[i] for i in range(len(x)) for j in range(i+1,len(x))])"
   ]
  },
  {
   "cell_type": "markdown",
   "id": "bdb3858f-ed9b-46c3-a903-77eb1118a84c",
   "metadata": {},
   "source": [
    "Wunderbar! Bis auf den kleinen Fehler, der der numerischen Genauigkeit geschuldet ist, kommt das gleiche wie oben heraus."
   ]
  },
  {
   "cell_type": "markdown",
   "id": "35160b46-d002-45a5-acd8-750e538ed4c1",
   "metadata": {},
   "source": [
    "## Eigenwerte\n",
    "\n",
    "Auf dem aktuellen Übungsblatt finden Sie folgende Aufgabe:\n",
    "\n",
    "Finde alle Eigenwerte der $n\\times n$-Matrix\n",
    "$$\n",
    "A=\n",
    "\\begin{pmatrix} \n",
    "a & b & b & \\ldots & b & b\\\\\n",
    "b & a & b & \\ldots & b & b\\\\\n",
    "  &   & \\ddots &   &   &  \\\\\n",
    "b & b & b &        & a & b\\\\\n",
    "b & b & b &        & b & a\n",
    "\\end{pmatrix}\\quad\\text{ wobei }a,b\\in\\mathbb R\n",
    "$$\n",
    "Leider haben Sie keine Idee. (Auch nicht, nachdem Sie nachgeschaut haben, was [Eigenwerte](https://de.wikipedia.org/wiki/Eigenwerte_und_Eigenvektoren) sind.) Sie beschließen daher, ein paar numerische Experimente zu machen. \n",
    "\n",
    "Dazu benötigen Sie als erstes eine Methode, um die Matrix $A$ mit beliebiger Dimension und beliebigen Werten für $a,b$ zu erzeugen. Hilfreich sind zwei <code>numpy</code>-Werkzeuge: <code>np.ones(shape)</code> und <code>np.diag(vector)</code>. Der erste Befehl erzeugt einen *array* der Dimension <code>shape</code> gefüllt mit Einsen; der zweite Befehl eine Diagonalmatrix mit den Einträgen von <code>vector</code> auf der Diagonalen. Also so:"
   ]
  },
  {
   "cell_type": "code",
   "execution_count": null,
   "id": "373e672f-ee2c-40e7-8f2d-19914870561c",
   "metadata": {},
   "outputs": [],
   "source": [
    "np.ones((2,3)) # shape=(2,3)"
   ]
  },
  {
   "cell_type": "code",
   "execution_count": null,
   "id": "dd7a2dea-d76c-4e44-b4ce-ac3fffbab996",
   "metadata": {},
   "outputs": [],
   "source": [
    "np.diag([1,2,3])"
   ]
  },
  {
   "cell_type": "markdown",
   "id": "1936910e-083b-4b1b-a51c-be381249c3a2",
   "metadata": {},
   "source": [
    "Da \n",
    "$$\n",
    "A=b\\cdot J+\\text{diag}(a-b),\n",
    "$$\n",
    "wobei $J$ die Matrix mit jedem Eintrag gleich $1$ ist, erhalten wir die Matrix $A$ so:"
   ]
  },
  {
   "cell_type": "code",
   "execution_count": null,
   "id": "e8ca1188-2cec-4237-801b-03e64db183dc",
   "metadata": {},
   "outputs": [],
   "source": [
    "def ab_matrix(a,b,n):\n",
    "    A=np.ones((n,n))*b\n",
    "    v=np.ones(n)*(a-b)\n",
    "    return A+np.diag(v)\n",
    "\n",
    "A=ab_matrix(27,42,4)\n",
    "A"
   ]
  },
  {
   "cell_type": "markdown",
   "id": "12063e02-2eb6-4ee2-a1d5-ad94c110b5f7",
   "metadata": {},
   "source": [
    "Wunderbar. Jetzt brauchen wir noch eine Methode für die Eigenwerte, zB <code>np.linalg.eigvals</code>. Testen wir mit einer Diagonalmatrix."
   ]
  },
  {
   "cell_type": "code",
   "execution_count": null,
   "id": "5997fc49-cdd8-407f-a3c1-0294a139e43e",
   "metadata": {},
   "outputs": [],
   "source": [
    "np.linalg.eigvals(np.diag([1,2,3]))"
   ]
  },
  {
   "cell_type": "markdown",
   "id": "4dfbb7f1-e973-49c2-9def-11288781cbfc",
   "metadata": {},
   "source": [
    "Sehr gut. Machen wir ein paar Versuche."
   ]
  },
  {
   "cell_type": "code",
   "execution_count": null,
   "id": "c17a7ee7-f8be-4f0b-bc86-81c7934b0a51",
   "metadata": {},
   "outputs": [],
   "source": [
    "np.linalg.eigvals(ab_matrix(2,7,4))"
   ]
  },
  {
   "cell_type": "code",
   "execution_count": null,
   "id": "3a855c97-fcac-4861-96e0-1557600e1bdd",
   "metadata": {},
   "outputs": [],
   "source": [
    "np.linalg.eigvals(ab_matrix(7,2,4))"
   ]
  },
  {
   "cell_type": "markdown",
   "id": "e531c69e-5325-4894-b573-d336d27e79a8",
   "metadata": {},
   "source": [
    "Oh? Ich erhalte hier als Resultate komplexe Zahlen mit sehr kleinem Imaginärteil. Je nachdem, auf was für einem System Sie dieses Notebook laufen lassen, ist dies bei Ihnen nicht zwingend der Fall. Wir sehen: <code>np.linalg.eigvals</code> ist ein numerisches Verfahren und daher halt nicht vollkommen exakt. Hier erhalten wir imaginäre Terme, die ganz offensichtlich numerische Artefakte sind. (Eine symmetrische Matrix hat nur reelle Eigenwerte.) \n",
    "\n",
    "Abgesehen von den numerischen Instabilitäten haben wir auch einen ersten Hinweis auf die Eigenwerte erhalten: Es gibt offensichtlich zwei verschiedene und der eine (mit Vielfachheit) könnte $a-b$ sein. Überprüfen wir die Hypothese."
   ]
  },
  {
   "cell_type": "code",
   "execution_count": null,
   "id": "9a4f423e-8280-4ed4-b05a-210f7f3b92f4",
   "metadata": {},
   "outputs": [],
   "source": [
    "np.linalg.eigvals(ab_matrix(123,23,3))"
   ]
  },
  {
   "cell_type": "markdown",
   "id": "2d9a9e94-c791-4ff4-92a5-3142d00251df",
   "metadata": {},
   "source": [
    "Sieht überzeugend aus. Was ist mit dem anderen Eigenwerte (mit einfacher Vielfachheit)? Machen wir ein paar mehr Tests."
   ]
  },
  {
   "cell_type": "code",
   "execution_count": null,
   "id": "ce00f402-bb11-454f-accb-5686abd6aeb0",
   "metadata": {},
   "outputs": [],
   "source": [
    "test_params=[(11,5,3),(5,11,3),(11,5,4),(1,2,3),(1,2,4)]\n",
    "for a,b,n in test_params:\n",
    "    eigvals=np.linalg.eigvals(ab_matrix(a,b,n))\n",
    "    print(\"a,b,n: {},{},{} -> {}\".format(a,b,n,eigvals))"
   ]
  },
  {
   "cell_type": "markdown",
   "id": "979ef5a1-0f86-4cb2-bf40-01e38a71f13b",
   "metadata": {},
   "source": [
    "Aha! Der fehlende Eigenwerte ändert sich mit der Dimension $n$. Wenn man genau hinguckt, kann man $a+(n-1)b$ vermuten. Auch dies lässt sich testen. Dh, wir vermuten: einer der Eigenwerte ist $a+(n-1)b$ (mit einfacher Vielfachheit), der andere ist $a-b$ (mit Vielfachheit $n-1$). Definieren wir eine Funktion, die für $a,b,n$ die von uns vorhergesagten Eigenwerte zurück liefert."
   ]
  },
  {
   "cell_type": "code",
   "execution_count": null,
   "id": "afd7bf1c-630b-469f-8dc0-40df8ae60018",
   "metadata": {},
   "outputs": [],
   "source": [
    "def hypothesis(a,b,n):\n",
    "    return np.array(sorted([a-b]*(n-1)+[a+(n-1)*b])) # wir sortieren, um einfacher vergleichen zu können.\n",
    "\n",
    "hypothesis(11,5,3),hypothesis(5,11,3)"
   ]
  },
  {
   "cell_type": "markdown",
   "id": "49178317-7a10-41f7-b058-a9b1a041f52e",
   "metadata": {},
   "source": [
    "Nun schreiben wir uns eine kleine Prozedur, um anhand von Zufallszahlen für $a,b,n$ unsere Hypothese zu überprüfen. Dabei vergleichen wir die mittels <code>np.eigenvals</code> ermittelten tatsächlichen Eigenwerte mit der Ausgabe von <code>hypothesis(a,b,n)</code>. Da es sich bei den Eigenwerten um eine numerische Approximation handelt, müssen wir zulassen, dass die ermittelten Werte ein wenig abweichen. Wir gucken dazu, ob die Einträge von <code>np.abs(np.eigenvals(a,b,n)-hypothesis(a,b,n))</code> größer als ein <code>epsilon</code> sind. Dazu verwenden wir <code>np.any(boolean_vector)</code>: die Methode gibt <code>True</code> zurück, wenn mindestens einer der Einträge von <code>boolean_vector</code> wahr ist."
   ]
  },
  {
   "cell_type": "code",
   "execution_count": null,
   "id": "fe4cd34c-4f4d-44be-8653-8517de20d1b3",
   "metadata": {},
   "outputs": [],
   "source": [
    "import random\n",
    "\n",
    "passed=True\n",
    "repeats=100\n",
    "epsilon=0.000001\n",
    "for _ in range(repeats):\n",
    "    a=(random.random()-0.5)*10 # gleichverteilte Zufallszahl aus [-5,5]\n",
    "    b=(random.random()-0.5)*10 # gleichverteilte Zufallszahl aus [-5,5]\n",
    "    n=random.randint(2,10)     # gleichverteilte Zufallszahl aus {2,3,...,10}\n",
    "    eigvals=sorted(np.linalg.eigvals(ab_matrix(a,b,n))) # sortieren für Vergleich\n",
    "    if np.any(np.abs(eigvals-hypothesis(a,b,n))>epsilon):\n",
    "        print(\"Test fehlgeschlagen!\")\n",
    "        print(\"a,b,n: {},{},{}\".format(a,b,n))\n",
    "        passed=False\n",
    "        break # Abbruch der Schleife\n",
    "if passed:\n",
    "    print(\"alle Tests bestanden!\")"
   ]
  },
  {
   "cell_type": "markdown",
   "id": "060a01a7-218a-4fd4-abac-7ff9d2b9e812",
   "metadata": {},
   "source": [
    "So, da Sie nun einigermaßen sicher sind, was die Antwort ist, können Sie nun viel zielgerichteter versuchen, die Übungsaufgabe -- theoretisch -- zu lösen. Übrigens: Bei so einem Test sollte man immer gucken, dass der Test auch tatsächlich auslöst, wenn die Bedingung verletzt wird. Wir können das leicht überprüfen, in dem wir <code>epsilon</code> auf 0 setzen."
   ]
  },
  {
   "cell_type": "markdown",
   "id": "14a155af-e153-488c-a128-50de9013c3e3",
   "metadata": {},
   "source": [
    "## Determinante einer einfachen Matrix\n",
    "In dieser Aufgabe sollen Sie die Determinante von $n\\times n$-Matrizen der Art\n",
    "$$\n",
    "\\begin{pmatrix}\n",
    "k & k+1 & k+2 & k+2 & \\dots & k+2 & k+2 & k+1\\\\\n",
    "k+1 & k & k+1 & k+2 & \\dots & k+2 & k+2 & k+2 \\\\\n",
    "k+2 & k+1 & k & k+1 & \\dots & k+2 & k+2 & k+2 \\\\\n",
    "\\vdots & \\ddots & \\ddots & \\ddots & &&&\\\\\n",
    "k+2 & k+2 & k+2 & k+2 & \\dots & k+1 & k & k+1\\\\\n",
    "k+1 & k+2 & k+2 & k+2 & \\dots & k+2 & k+1 & k\n",
    "\\end{pmatrix}\n",
    "$$\n",
    "bestimmen. Dabei ist $k\\in\\mathbb R$. \n",
    "\n",
    "Als erstes schreiben wir eine Methode, um Matrizen dieser Art zu erzeugen."
   ]
  },
  {
   "cell_type": "code",
   "execution_count": null,
   "id": "bac67dd6-3307-40d3-841f-b18975dcd50d",
   "metadata": {},
   "outputs": [],
   "source": [
    "def kmatrix(k,n):\n",
    "    line=[k+1,k,k+1]+[k+2]*(n-3)\n",
    "    return np.array([np.roll(line,i) for i in range(-1,n-1)])\n",
    "   \n",
    "kmatrix(1,6)"
   ]
  },
  {
   "cell_type": "markdown",
   "id": "4a0c0ab6-c33a-4220-9474-5539af60443f",
   "metadata": {},
   "source": [
    "Der Erzeugungscode ist nicht so wichtig. Nur so viel: <code>np.roll</code> *rotiert* eine Liste. Dh, <code>np.roll([41,42,43],1)</code> ergibt <code>[43,41,42]</code>. Wird der shift-Parameter <code>1</code> durch andere Werte ersetzt, so wird die Liste weiter rotiert."
   ]
  },
  {
   "cell_type": "markdown",
   "id": "d8d94d9e-05db-4358-8a19-e356426ff577",
   "metadata": {},
   "source": [
    "### Aufgabe: Determinante bestimmen\n",
    "* Bestimmen Sie die Determinante von <code>kmatrix(k,n)</code> für verschiedene Werte <code>k,n</code>.\n",
    "* Entwickeln Sie eine Hypothese für eine einfache Formel für die Determinante in Abhängigkeit von $k,n$. Achtung: Eventuell sollte Ihre Formel eine Fallunterscheidung machen, je nachdem, ob $n$ gerade ist oder nicht.\n",
    "* Testen Sie anhand von Zufallswerten für $k,n$, ob die Formel stimmt.\n",
    "* Implementieren Sie Ihre Formel in einer Methode <code>guessed_det(k,n)</code>. (Diese Methode soll natürlich **nicht** die Methode <code>np.linalg.det</code> verwenden.)"
   ]
  },
  {
   "cell_type": "code",
   "execution_count": null,
   "id": "b4069f41-3626-4ce9-8f37-f2662b6eccd7",
   "metadata": {},
   "outputs": [],
   "source": [
    "### BEGIN SOLUTION\n",
    "\n",
    "### END SOLUTION"
   ]
  },
  {
   "cell_type": "markdown",
   "id": "8e53388f-eadf-4f3b-8a38-67ab508845e7",
   "metadata": {},
   "source": [
    "## QR-Zerlegung\n",
    "\n",
    "Sei $A\\in\\mathbb R^{m\\times n}$ eine Matrix. Dann ist die *QR-Zerlegung* von $A$, eine Darstellung von $A$ als Produkt $A=QR$, wobei $Q\\in\\mathbb R^{m\\times m}$ eine Orthonormalmatrix und $R\\in\\mathbb R^{m\\times n}$ eine obere Dreiecksmatrix ist. In Anwendungen ist oft die Anzahl der Zeilen $m$ größer als die Anzahl der Spalten $n$. Dann hat $R$ die Form\n",
    "$$\n",
    "R=\\begin{pmatrix}R'\\\\ 0\\end{pmatrix}\n",
    "$$\n",
    "wobei $R'\\in\\mathbb R^{n\\times n}$ eine obere Dreiecksmatrix ist. Das bedeutet aber, dass in $A=QR$ die hinteren $m-n$ Spalten von $Q$ mit $0$ multipliziert werden und somit irrelevant sind. Definieren wir $Q'\\in\\mathbb R^{m\\times n}$ als die Matrix der ersten $n$ Spalten von $Q$, dann ist somit immer noch $A=Q'R'$. Numerische QR-Zerlegungen geben gewöhnlich diese reduzierte QR-Zerlegung $Q',R'$ zurück, so auch in *numpy*.\n",
    "\n",
    "Zur Visualisierung basteln wir uns zunächst eine Funktion, die die Nicht-Nulleinträge einer Matrix anzeigt. Wie die genau funktioniert, ist nicht so wichtig. (Es gibt auch eine eingebaute Funktion, <code>plt.spy</code>, die finde ich jedoch nicht so schön.)\n",
    "\n",
    "Wir erzeugen dann noch eine 100x50-Zufallsmatrix mit $0,1$-Einträge und lassen die uns anzeigen."
   ]
  },
  {
   "cell_type": "code",
   "execution_count": null,
   "id": "6e5c9d26-a757-43e7-9897-8abd3541ccfb",
   "metadata": {},
   "outputs": [],
   "source": [
    "import matplotlib.pyplot as plt\n",
    "def spy(matrix,vmin=0,vmax=1):\n",
    "    fig,ax=plt.subplots()\n",
    "    ax.imshow(np.abs(matrix),cmap=\"binary\",vmin=vmin,vmax=vmax)\n",
    "    ax.axis('off')\n",
    "\n",
    "A=np.random.randint(0,2,size=(100,50)) # 100x50-Matrix mit zufälligen 0,1-Einträge\n",
    "spy(A)"
   ]
  },
  {
   "cell_type": "markdown",
   "id": "9b0abb5f-0080-48d2-9604-1e14339baac5",
   "metadata": {},
   "source": [
    "Wir probieren die QR-Zerlegung aus, die den wenig überraschenden Namen <code>np.linalg.qr</code> trägt. Wir geben uns die Zahl der Zeilen und Spalten von $Q$ und $R$ aus:"
   ]
  },
  {
   "cell_type": "code",
   "execution_count": null,
   "id": "36f10d6f-7f37-4b0d-af1b-b719f112d741",
   "metadata": {},
   "outputs": [],
   "source": [
    "Q,R=np.linalg.qr(A)\n",
    "Q.shape,R.shape"
   ]
  },
  {
   "cell_type": "markdown",
   "id": "56039f4b-ae26-4ea2-82b6-29819c0c4a4b",
   "metadata": {},
   "source": [
    "Aha, wir haben es also mit einer *reduzierten* QR-Zerlegung zu tun. Als nächstes visualisieren wir die Einträge von <code>Q</code> und <code>R</code>. Um besser die Dimensionen der Matrizen zu vergleichen und zu sehen, wo die Matrizen anfangen und aufhören, kommt hier ein ein wenig obskurer Visualisierungscode. Einfach ignorieren."
   ]
  },
  {
   "cell_type": "code",
   "execution_count": null,
   "id": "3ce0ea4e-feea-48ca-8b85-919f496beefb",
   "metadata": {
    "editable": true,
    "slideshow": {
     "slide_type": ""
    },
    "tags": []
   },
   "outputs": [],
   "source": [
    "def bdry(matrix,scale=1,size=1):\n",
    "    ### male Rand um die Matrix\n",
    "    m,n=matrix.shape\n",
    "    res=np.ones(shape=(m+2*size,n+2*size))*scale\n",
    "    res[size:-size,size:-size]=matrix\n",
    "    return res\n",
    "\n",
    "def show_QR(Q,R):\n",
    "    QQ=bdry(Q)\n",
    "    RR=bdry(R)\n",
    "    m,n=QQ.shape\n",
    "    full_R=np.vstack([RR,np.zeros(shape=(m-n,n))])\n",
    "    hspace=max(n//10,1)\n",
    "    filler=np.zeros(shape=(m,hspace))\n",
    "    QR=np.hstack([QQ,filler,full_R])\n",
    "    spy(QR)\n",
    "    \n",
    "show_QR(Q,R)"
   ]
  },
  {
   "cell_type": "markdown",
   "id": "3aedd0f9-39aa-45aa-8eb3-bf457b1e9791",
   "metadata": {
    "editable": true,
    "slideshow": {
     "slide_type": ""
    },
    "tags": []
   },
   "source": [
    "Sehr schön. Wir sehen, <code>Q</code> ist dicht besetzt, hat nur wenige Null-Einträge. Die blasse Farbe deutet darauf hin, dass die Einträge alle eher nahe bei Null sind. Die Matrix <code>R</code> hingegen hat durchaus Einträge von größerem Absolutbetrag. Und sie hat tatsächlich obere Dreiecksform."
   ]
  },
  {
   "cell_type": "markdown",
   "id": "a1fab558-840a-46fb-bfc3-db19adcf9743",
   "metadata": {
    "editable": true,
    "slideshow": {
     "slide_type": ""
    },
    "tags": []
   },
   "source": [
    "## least squares\n",
    "\n",
    "Was kann man mit der QR-Zerlegung anfangen? ZB das *least squares*-Problem lösen. \n",
    "\n",
    "In der Praxis hat man oft Datenpunkte $(p_1,q_1),\\dots,(p_n,q_n)$, im einfachsten Fall aus dem $\\mathbb R^2$, und möchte eine Gerade durch diese Punkte legen. Dh, gesucht sind $\\alpha,\\beta\\in\\mathbb R$, so dass \n",
    "$$\n",
    "q_i\\approx \\alpha p_i+\\beta\\text{ für alle }i\n",
    "$$\n",
    "Bei echten Daten wird in der Regel nicht Gleichheit für alle Punkte möglich sein. Stattdessen suchen wir $\\alpha,\\beta$, so dass der Quadratfehler minimiert wird, also\n",
    "$$\n",
    "\\min_{\\alpha,\\beta}\\sum_{i=1}^n(\\alpha p_i +\\beta-q_i)^2 \\tag{$*$}\n",
    "$$"
   ]
  },
  {
   "cell_type": "markdown",
   "id": "abce9d80-deeb-4071-a1b9-b0519cee8c00",
   "metadata": {},
   "source": [
    "Erzeugen wir ein paar Testdaten und plotten diese."
   ]
  },
  {
   "cell_type": "code",
   "execution_count": null,
   "id": "a4a74db0-a960-421c-831f-6743bc71a158",
   "metadata": {},
   "outputs": [],
   "source": [
    "a,b=1.2,3.24\n",
    "N=50\n",
    "pp=np.random.random(size=N)*10\n",
    "qq=a*pp+b+np.random.normal(size=N)\n",
    "\n",
    "fig,ax=plt.subplots(figsize=(5,3))\n",
    "ax.scatter(pp,qq,alpha=0.8)"
   ]
  },
  {
   "cell_type": "markdown",
   "id": "42aad6f9-d7b9-4c2d-98de-4826b3fbc6d2",
   "metadata": {},
   "source": [
    "Wir wollen das Problem $(*)$ in die Form \n",
    "$$\n",
    "\\min_x ||Ax-b||_2^2\\tag{$**$}\n",
    "$$\n",
    "umschreiben. Dabei ist $A$ eine Matrix und $b$ ein Vektor.\n",
    "\n",
    "Dazu schreiben wir \n",
    "$$\n",
    "b=\\begin{pmatrix}\n",
    "q_1\\\\q_2\\\\\\vdots \\\\q_n\n",
    "\\end{pmatrix}\n",
    "\\quad\n",
    "\\text{ und }\\quad\n",
    "A=\\begin{pmatrix}\n",
    "p_1 & 1\\\\\n",
    "p_2 & 1\\\\\n",
    "\\vdots & \\vdots\\\\\n",
    "p_n & 1 \n",
    "\\end{pmatrix}\n",
    "$$\n",
    "Gesucht ist dann ein $$x=\\begin{pmatrix}\\alpha \\\\ \\beta \\end{pmatrix}$$\n",
    "\n",
    "Wie bilden wir die Matrix $A$ mit Python? Wir nutzen <code>np.stack</code>. Angewandt auf eine Liste <code>[B,C]</code> von Matrizen wird eine neue Matrix, mit <code>B,C</code> als Blöcken erstellt. Ob wir die Matrix\n",
    "$$\n",
    "\\begin{pmatrix}B\\\\C \\end{pmatrix}\\quad\\text{ oder }\\quad\n",
    "\\begin{pmatrix}B &C \\end{pmatrix}\n",
    "$$\n",
    "erhalten, steuern wir mit dem Parameter <code>axis</code>. Genaueres findet sich in der [Dokumentation](https://numpy.org/doc/stable/reference/generated/numpy.stack.html). Wir brauchen <code>axis=-1</code>. Außerdem benötigen wir einen Vektor mit lauter Eins-Einträge -- den liefert <code>np.ones</code>. Der Parameter <code>shape=N</code> garantiert, dass wir <code>N</code> Einsen bekommen."
   ]
  },
  {
   "cell_type": "code",
   "execution_count": null,
   "id": "3066ea13-a589-4d35-8b41-958a7dfbf516",
   "metadata": {},
   "outputs": [],
   "source": [
    "A=np.stack([pp,np.ones(shape=N)],axis=-1)\n",
    "A[:5] # zeige die ersten fünf Zeilen"
   ]
  },
  {
   "cell_type": "markdown",
   "id": "16735572-eb7a-48dd-ae11-efd412230721",
   "metadata": {},
   "source": [
    "Sehr gut. Was können wir mit $(**)$ anfangen? Wir vereinfachen mit einer QR-Zerlegung von $A$. Dann gilt für beliebiges $x$\n",
    "$$\n",
    "||Ax-b||_2^2=||QRx-b||^2_2=||Q(Rx-Q^\\intercal b)||_2^2\n",
    "$$\n",
    "Als orthonormale Matrix verändert $Q$ die Norm nicht, dh\n",
    "$$\n",
    "||Ax-b||_2^2=||Rx-Q^\\intercal b||_2^2\n",
    "$$\n",
    "Die Matrix $R$ hat obere Dreiecksform, aber mehr Zeilen als Spalten. Dh sie hat die Form\n",
    "$$\n",
    "R=\\begin{pmatrix}R'\\\\0 \\end{pmatrix}\n",
    "$$\n",
    "wobei $R'$ ebenfalls eine obere Dreiecksmatrix ist; im Unterschied zu $R$ ist $R'$ jedoch eine Quadratmatrix. Wenn wir nun $Q^\\intercal b$ ebenfalls entsprechend der Blockstruktur von $R$ schreiben, also\n",
    "$$\n",
    "Q^\\intercal b = \\begin{pmatrix} b'\\\\ b''\\end{pmatrix}\n",
    "$$\n",
    "dann\n",
    "$$\n",
    "||Ax-b||_2^2=||Rx-Q^\\intercal b||_2^2 = \\left\\lVert  \\begin{pmatrix}R'\\\\0 \\end{pmatrix}x-\\begin{pmatrix} b'\\\\ b''\\end{pmatrix}\\right\\rVert_2^2 = ||R'x-b'||_2^2 + ||b''||_2^2\n",
    "$$\n",
    "\n",
    "\n",
    "In einem überbestimmten System hat die Matrix $R'$ üblicherweise vollen Rang, so dass wir nun direkt \n",
    "$$\n",
    "R'x=b'\\tag{$***$}\n",
    "$$\n",
    "lösen können, und damit $\\min_x ||Ax-b||_2^2$ lösen. \n",
    "\n",
    "Letzter Hinweis: Die Matrix $R'$ ist schon genau die Matrix der reduzierten QR-Zerlegung, also die Matrix, die <code>np.linalg.qr</code> zurückliefert."
   ]
  },
  {
   "cell_type": "markdown",
   "id": "b51afba2-7fc7-43cb-abaf-b0b0e4f20191",
   "metadata": {
    "editable": true,
    "slideshow": {
     "slide_type": ""
    },
    "tags": []
   },
   "source": [
    "### Aufgabe: least squares\n",
    "* Berechnen Sie eine QR-Zerlegung der Matrix A\n",
    "* Nutzen Sie diese um $(***)$ zu lösen. Die Lösung $x$ sollte dann aus zwei Zahlen bestehen. Speichern Sie diese in den Variablen <code>alpha</code> und <code>beta</code>.\n",
    "\n",
    "Was Sie gerade berechnen: Steigung $\\alpha$ und Achsenabschnitt $\\beta$ der besten Gerade $\\alpha x + \\beta$ durch die Datenpunkte $(p_i,q_i)$."
   ]
  },
  {
   "cell_type": "code",
   "execution_count": null,
   "id": "06f6a9de-a5d2-409e-945c-ba85df4ea90c",
   "metadata": {
    "editable": true,
    "slideshow": {
     "slide_type": ""
    },
    "tags": []
   },
   "outputs": [],
   "source": [
    "### BEGIN SOLUTION\n",
    "\n",
    "### END SOLUTION"
   ]
  },
  {
   "cell_type": "code",
   "execution_count": null,
   "id": "a4dcbd83-eea4-405e-8707-4251f469d9f1",
   "metadata": {},
   "outputs": [],
   "source": [
    "### Dies ist eine TESTZELLE. \n",
    "### Wenn die Ausführung zu einem Fehler führt, haben Sie etwas falsch gemacht\n",
    "### Wenn bei Ausführung nichts passiert, dann ist Ihre Lösung richtig oder zumindest nicht grob falsch\n",
    "assert 1<=alpha and alpha<=10\n",
    "assert 1<=beta and beta<=10"
   ]
  },
  {
   "cell_type": "markdown",
   "id": "46893dde-904f-4f0d-a23f-b8f0785f703e",
   "metadata": {},
   "source": [
    "Zur Veranschaulichung plotten wir die Gerade noch. Wenn Sie hier nicht sehen, dass die rote Gerade mittig durch die Punkte durchgeht, haben Sie einen Fehler gemacht."
   ]
  },
  {
   "cell_type": "code",
   "execution_count": null,
   "id": "1c7feb38-892f-47d0-bf94-fbd86c391198",
   "metadata": {},
   "outputs": [],
   "source": [
    "fig,ax=plt.subplots(figsize=(5,3))\n",
    "ax.scatter(pp,qq,alpha=0.8)\n",
    "xx=np.sort(pp)\n",
    "ax.plot(xx,alpha*xx+beta,'red')"
   ]
  }
 ],
 "metadata": {
  "kernelspec": {
   "display_name": "Python 3 (ipykernel)",
   "language": "python",
   "name": "python3"
  },
  "language_info": {
   "codemirror_mode": {
    "name": "ipython",
    "version": 3
   },
   "file_extension": ".py",
   "mimetype": "text/x-python",
   "name": "python",
   "nbconvert_exporter": "python",
   "pygments_lexer": "ipython3",
   "version": "3.11.7"
  }
 },
 "nbformat": 4,
 "nbformat_minor": 5
}

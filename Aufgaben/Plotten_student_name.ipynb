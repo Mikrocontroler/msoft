{
 "cells": [
  {
   "cell_type": "markdown",
   "id": "5093d474-9640-4780-bfd0-15d90400cd7a",
   "metadata": {},
   "source": [
    "# Wissenschaftliches Rechnen und plotten\n",
    "\n",
    "Oftmals können wir uns einen guten Überblick über das Verhalten einer Funktion verschaffen, indem wir sie schnell plotten. Auch das Konvergenzverhalten von Reihen und Mengen im $\\mathbb R^2$ werden durch Visualisierungen viel greifbarer. Wir wollen in diesem Notebook einige Möglichkeiten der Visualisierung betrachten. Nebenbei behandeln wir das effiziente Auswerten von Funktionen und das Rechnen mit komplexen Zahlen in python.\n",
    "\n",
    "<center>\n",
    "<a href=\"https://youtu.be/mrPofO-iFw0\" target=\"_blank\">\n",
    "<img src=\"data:image/png;base64,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\" style=\"border:5px solid #515A5A; padding:3px; margin:5px\">\n",
    "</a>\n",
    "</center>"
   ]
  },
  {
   "cell_type": "markdown",
   "id": "8d14c45d-265a-4ac3-89ca-6b77ceba1b1f",
   "metadata": {},
   "source": [
    "Die Bibliothek <code>matplotlib</code> stellt eine Vielfalt von Methoden zum plotten zur Verfügung. Die Dokumentation ist [hier](https://matplotlib.org/stable/users/index). <code>matplotlib</code> ist recht mächtig, aber leider auch ein wenig sperrig zu bedienen. Das fängt bereits mit dem <code>import</code> an. Zum Laden müssen wir folgenden Befehl ausführen:"
   ]
  },
  {
   "cell_type": "code",
   "execution_count": null,
   "id": "976cf34f-4778-4792-9cf0-2ed5ee4c357b",
   "metadata": {},
   "outputs": [],
   "source": [
    "import matplotlib.pyplot"
   ]
  },
  {
   "cell_type": "markdown",
   "id": "c5c41590-fdf2-4ab8-a76c-78dcb3bfb630",
   "metadata": {},
   "source": [
    "Da das sehr lang ist, führen wir einen *alias* ein, einen alternativen Namen, den wir anstelle von <code>matplotlib.pyplot</code> verwenden können. Dies geschieht mit dem Befehl <code>as</code>. "
   ]
  },
  {
   "cell_type": "code",
   "execution_count": null,
   "id": "581386b3-b2b6-4ab0-9f74-0a8407bd804e",
   "metadata": {},
   "outputs": [],
   "source": [
    "import matplotlib.pyplot as plt  ### plt ist die gebräuchliche Abkürzung"
   ]
  },
  {
   "cell_type": "markdown",
   "id": "dc7880e5-f2e8-4195-9b61-dcd0c38f204a",
   "metadata": {},
   "source": [
    "Welchem Zweck dient das? Wann immer wir nun einen Befehl aus der <code>matplotlib</code>-Bibliothek brauchen, etwa den <code>plot</code>-Befehl, können wir die Abkürzung nutzen: <code>plt.plot</code>. Mehr dazu unten.\n",
    "\n",
    "Wo wir dabei sind, machen wir gleich noch einen <code>import</code>, nämlich von <code>numpy</code> -- das ist die Grundlage für jedes wissenschaftliche Rechnen. Insbesondere stellt <code>numpy</code> eine *array*-Klasse bereit. Die funktioniert ähnlich wie die python-eigenen Listen, ist aber hoch-optimiert. "
   ]
  },
  {
   "cell_type": "code",
   "execution_count": null,
   "id": "e2b37cd0-1d3b-43b2-b205-6236f7c5d1df",
   "metadata": {},
   "outputs": [],
   "source": [
    "import numpy as np ### np ist die gebräuchliche Abkürzung\n",
    "import math # brauchen wir für pi, e usw"
   ]
  },
  {
   "cell_type": "markdown",
   "id": "e6573d9d-25ca-4556-a1d1-afa7799e5b5b",
   "metadata": {},
   "source": [
    "## Ein erster Funktionsplot\n",
    "\n",
    "Wie in praktischen allen Softwaresystemen, die in der Mathematik eingesetzt werden, können wir einfache Funktionen plotten. Als Beispiel schauen wir uns\n",
    "$$f(x)=e^{-\\frac{x^2}{2}}$$\n",
    "an. \n",
    "\n",
    "Als erstes erzeugen wir mit <code>np.linspace(a,b,n)</code> eine Liste (genauer: ein *array*) von $n$ äquidistanten Punkten aus dem Intervall $[a,b]$. Zur Illustration:"
   ]
  },
  {
   "cell_type": "code",
   "execution_count": null,
   "id": "eaad43a1-c79b-4ab2-8273-4a12a346c590",
   "metadata": {},
   "outputs": [],
   "source": [
    "xx=np.linspace(0,1,11)\n",
    "xx"
   ]
  },
  {
   "cell_type": "markdown",
   "id": "9826a8a9-de29-4933-8383-39fa2908ab2e",
   "metadata": {},
   "source": [
    "Warum <code>xx</code>? Ich will damit andeuten, dass es sich nicht um eine einzige Zahl handelt. Ist das die beste Notation? Keine Ahnung. \n",
    "\n",
    "Wenn Sie noch einmal auf die letzte Ausgabe schauen: Da steht das Stichwort <code>array</code>. Wir verifizieren:"
   ]
  },
  {
   "cell_type": "code",
   "execution_count": null,
   "id": "0ebd78f6-4d5c-46b3-bee2-825e26eea34d",
   "metadata": {},
   "outputs": [],
   "source": [
    "type(xx)"
   ]
  },
  {
   "cell_type": "markdown",
   "id": "f22f5d97-bc69-490a-bc4e-bfbaf6b43171",
   "metadata": {},
   "source": [
    "Wir sehen: es handelt sich um eine *array*-Klasse aus dem <code>numpy</code>-Paket. Das ist wichtig, weil wir damit weitere Funktionalität geschenkt bekommen. Sehen wir gleich unten. \n",
    "\n",
    "Wir wollen die Funktion $f$ an 500 Stellen auswerten. Dafür erzeugen wir 500 Stützstellen zwischen -4 und 4, die wir in <code>xx</code> speichern."
   ]
  },
  {
   "cell_type": "code",
   "execution_count": null,
   "id": "600c4fb0-b3d9-44a6-b818-116ca27edab5",
   "metadata": {},
   "outputs": [],
   "source": [
    "xx=np.linspace(-4,4,500)"
   ]
  },
  {
   "cell_type": "markdown",
   "id": "a57bed68-be16-4b26-8584-0d3751b41a1a",
   "metadata": {},
   "source": [
    "Wir berechnen wir nun die Funktionswerte? Wir schreiben die Funktiongleichung hin:"
   ]
  },
  {
   "cell_type": "code",
   "execution_count": null,
   "id": "2a3cb36d-deff-4318-bf4e-45e3506ee3eb",
   "metadata": {},
   "outputs": [],
   "source": [
    "yy=math.e**(-xx**2/2)"
   ]
  },
  {
   "cell_type": "markdown",
   "id": "c420d437-193a-468e-a59c-d48f05f455be",
   "metadata": {},
   "source": [
    "Wie Sie sehen, schreiben wir einfach die Funktionsgleichung hin und, quasi magisch, wird dies auf jedes $x$ in <code>xx</code> angewandt! Achtung -- diese Magie kommt von <code>numpy</code>, dh, dass dies geht, liegt daran, dass <code>xx</code> ein <code>numpy</code>-array ist. \n",
    "Mit einer python-Liste geht das nicht. "
   ]
  },
  {
   "cell_type": "code",
   "execution_count": null,
   "id": "76205303-a279-417a-82f7-3786c7106bae",
   "metadata": {},
   "outputs": [],
   "source": [
    "X=[0,0.1,0.2,0.3,0.4] # python-Liste -- kein numpy-array\n",
    "# der folgende Code verursacht einen Fehler\n",
    "# Y=math.e**(-X**2/2)"
   ]
  },
  {
   "cell_type": "markdown",
   "id": "46991331-82da-4bad-82f5-34b88764b9af",
   "metadata": {},
   "source": [
    "Kommen wir zum plot. Wenn Sie es eilig haben, können Sie einfach <code>plt.plot(xx,yy)</code> schreiben. (Das sieht dann fast so aus wie in Matlab.)\n",
    "\n",
    "Ich will's aber ein wenig komplizierter halten, da es dann später einfacher wird, sehr komplizierte plots zu programmieren."
   ]
  },
  {
   "cell_type": "code",
   "execution_count": null,
   "id": "c6030b3e-e153-401a-ba89-447c080b3c8b",
   "metadata": {},
   "outputs": [],
   "source": [
    "fig,ax=plt.subplots(figsize=(5,3))  # Achtung, python, hier kommt ein plot -- der Größe (Breite,Höhe)==(5,3)\n",
    "ax.plot(xx,yy) # der eigentliche plot-Befehl"
   ]
  },
  {
   "cell_type": "markdown",
   "id": "8246522c-54da-441a-984f-403dfd386b43",
   "metadata": {},
   "source": [
    "In der ersten Zeile <code>fig,ax=plt.subplots(figsize=(5,3))</code> wird ein Objekt <code>fig</code> und ein Objekt <code>ax</code> zurück gegeben. <code>fig</code> (wie *figure*) repräsentiert den gesamten plot, der aus diversen Unterplots bestehen könnte (hier nicht der Fall). Das <code>fig</code>-Objekt werden Sie selten brauchen. Das Objekt <code>ax</code> (wie *axis*) repräsentiert den eigentlichen plot, daher verwenden wir es, um die Funktion zu zeichnen. \n",
    "\n",
    "So, vielleicht sind Sie nicht mit der Farbe der Kurve einverstanden und die Dicke der Kurve gefällt Ihnen auch nicht. Kann man alles einstellen."
   ]
  },
  {
   "cell_type": "code",
   "execution_count": null,
   "id": "0a7c0c6c-f4e7-475e-8004-272c2f6bfc30",
   "metadata": {},
   "outputs": [],
   "source": [
    "fig,ax=plt.subplots(figsize=(5,3))  \n",
    "ax.plot(xx,yy,color=\"red\",linewidth=5) "
   ]
  },
  {
   "cell_type": "markdown",
   "id": "9a8ddd18-597c-42e5-abb5-c97510f02390",
   "metadata": {},
   "source": [
    "Weitere Einstellmöglichkeiten gibt's [hier.](https://matplotlib.org/stable/api/_as_gen/matplotlib.pyplot.plot.html)"
   ]
  },
  {
   "cell_type": "markdown",
   "id": "20749f88-11be-4d0c-b9fa-16360604d010",
   "metadata": {},
   "source": [
    "## Harmonische Reihe\n",
    "\n",
    "Die harmonische Reihe \n",
    "$$\n",
    "\\sum_{k=1}^\\infty \\frac{1}{k}\n",
    "$$\n",
    "ist so harmonisch, dass sie divergiert, dh, dass der Reihenwert $\\infty$ wird. Und genauer kann man sich überlegen, dass die Partialsummen, die *harmonischen Zahlen*\n",
    "$$\n",
    "H_n=\\sum_{k=1}^n\\frac{1}{k}\n",
    "$$\n",
    "in etwa wie der Logarithmus wachsen\n",
    "$$\n",
    "H_n \\approx \\ln(n)\n",
    "$$\n",
    "Überprüfen wir das numerisch! Dazu plotten wir $\\mathbb N\\to\\mathbb R$, $n\\mapsto H_n$. Da der Wertebereich hier nur ganze Zahlen zulässt, ist die Funktion <code>np.linspace</code> nicht die richtige. Stattdessen nehmen wir <code>np.arange</code> -- das ist das <code>numpy</code>-Pendant zu <code>range</code>."
   ]
  },
  {
   "cell_type": "code",
   "execution_count": null,
   "id": "53fc7aa9-dd59-4826-a0da-e616019190c2",
   "metadata": {},
   "outputs": [],
   "source": [
    "np.arange(7,12)"
   ]
  },
  {
   "cell_type": "markdown",
   "id": "6acd9e55-d44b-4ee4-86a5-a6ad5d49e9f3",
   "metadata": {},
   "source": [
    "So, wir berechnen die ersten 99 harmonischen Zahlen. Dh, als Stützwerte definieren wir:"
   ]
  },
  {
   "cell_type": "code",
   "execution_count": null,
   "id": "1427ca8b-8d41-4496-a102-5e900be7b6bf",
   "metadata": {},
   "outputs": [],
   "source": [
    "nn=np.arange(1,100)"
   ]
  },
  {
   "cell_type": "markdown",
   "id": "ef288285-7b2e-422b-bd67-4daca9f20524",
   "metadata": {},
   "source": [
    "Als nächstes beschaffen wir uns eine Liste mit den ganzen Kehrwerten\n",
    "$$\n",
    "\\frac{1}{1},\\frac{1}{2},\\frac{1}{3},\\frac{1}{4},\\ldots\n",
    "$$\n",
    "Das geht einfach mit <code>1/nn</code>. Wir demonstrieren hier gleich, dass sich <code>numpy</code>-arrays so ähnlich wie Listen verhalten: Mit dem *slice*-Operator <code>[:10]</code> können wir uns die ersten 10 Elemente anzeigen lassen:"
   ]
  },
  {
   "cell_type": "code",
   "execution_count": null,
   "id": "e490979f-0a17-47fa-a443-40caf2d2dde2",
   "metadata": {},
   "outputs": [],
   "source": [
    "1/nn[:10]"
   ]
  },
  {
   "cell_type": "markdown",
   "id": "351532d4-da9d-4d34-ba3e-a0413efcc98b",
   "metadata": {},
   "source": [
    "So <code>1/nn</code> gibt uns eine Liste mit allen Werten $\\frac{1}{k}$. Wir brauchen aber die Teilsummen $\\sum_{k=1}^n\\frac{1}{n}$. Auch hier gibt's einen praktischen Befehl: <code>np.cumsum</code>. Der Befehl berechnet die *kumulative* Summe eines *arrays*. \n",
    "\n",
    "Also:"
   ]
  },
  {
   "cell_type": "code",
   "execution_count": null,
   "id": "765a5fc4-25c6-4ed7-b383-2954dcb3a455",
   "metadata": {},
   "outputs": [],
   "source": [
    "L=np.arange(10) # startet mit 0\n",
    "L,np.cumsum(L)"
   ]
  },
  {
   "cell_type": "markdown",
   "id": "b2a9acbd-9e64-4fca-83f5-a88d81d04104",
   "metadata": {},
   "source": [
    "Plotten wir. Da wir die harmonischen Zahlen nur für natürliche Zahlen definiert sind, ist die Darstellung mit einer durchgezogenen Linie irreführend. Daher plotten wir einen Kreis für jede harmonische Zahl, und zwar, durch den zusätzlichen Parameter <code>'o'</code>. [Hier](https://matplotlib.org/stable/api/markers_api.html) ist eine Liste von Alternativen zu <code>'o'</code>, die zu anderen Plotsymbolen führen. <code>'x'</code> zB führt zum Plot von Kreuzen."
   ]
  },
  {
   "cell_type": "code",
   "execution_count": null,
   "id": "d13a4ba1-f7e7-452f-9a38-e60b868d0449",
   "metadata": {},
   "outputs": [],
   "source": [
    "nn=np.arange(1,100)\n",
    "Hn=np.cumsum(1/nn) # die harmonischen Zahlen\n",
    "\n",
    "fig,ax=plt.subplots(figsize=(5,3))\n",
    "ax.plot(nn,Hn,'o')\n",
    "ax.set_xlabel(\"n\") # label an der x-Achse\n",
    "ax.set_ylabel(\"H_n\") # label an der y-Achse"
   ]
  },
  {
   "cell_type": "markdown",
   "id": "b6bddb69-3a44-40f2-b735-1fc7b490c07e",
   "metadata": {},
   "source": [
    "Zwei Verbesserungen: \n",
    "* Weil die Kreise bei höherem $n$ so dicht sitzen, gehen die in einander über. Um die einzelnen Kreise besser zu sehen, machen wir sie durch Angabe von <code>alpha=0.8</code> ein wenig transparent.\n",
    "* Zum Vergleich plotten wir auch die Funktion $\\ln(n)$. "
   ]
  },
  {
   "cell_type": "code",
   "execution_count": null,
   "id": "63f2c9f2-dcea-40d9-bedd-24ade59a7128",
   "metadata": {},
   "outputs": [],
   "source": [
    "fig,ax=plt.subplots(figsize=(5,3))\n",
    "ax.plot(nn,Hn,'o',alpha=0.5)\n",
    "ax.set_xlabel(\"n\") # label an der x-Achse\n",
    "ax.set_ylabel(\"H_n\") # label an der y-Achse\n",
    "\n",
    "ax.plot(nn,np.log(nn))"
   ]
  },
  {
   "cell_type": "markdown",
   "id": "006932de-8a90-4483-aee6-cc1ab926f25f",
   "metadata": {},
   "source": [
    "Hmmm, so ganz passt $\\ln(n)$ nicht. [Wikipedia](https://de.wikipedia.org/wiki/Euler-Mascheroni-Konstante) klärt auf: Es gilt viel mehr\n",
    "$$\n",
    "H_n\\approx \\ln(n)+\\gamma,\n",
    "$$\n",
    "wobei $\\gamma\\approx 0.5722$ die *Euler-Mascheroni-Konstante* ist. Wir versuchen's noch einmal mit dem plot. Diesmal plotten wir $\\ln(n)+\\gamma$ auch transparent und dicker. Zusätzlich lassen wir eine Legende anzeigen."
   ]
  },
  {
   "cell_type": "code",
   "execution_count": null,
   "id": "fbf9ef26-4ba9-4563-8eeb-2d1c1c267c0a",
   "metadata": {},
   "outputs": [],
   "source": [
    "fig,ax=plt.subplots(figsize=(5,3))\n",
    "ax.plot(nn,Hn,'o',alpha=0.5,label=\"H_n\") # label -> Legende\n",
    "ax.set_xlabel(\"n\") # label an der x-Achse\n",
    "ax.set_ylabel(\"H_n\") # label an der y-Achse\n",
    "\n",
    "ax.plot(nn,np.log(nn)+0.5722,alpha=0.7,linewidth=2,label=\"ln+gamma\",color='black')\n",
    "ax.legend() # Legende anschalten"
   ]
  },
  {
   "cell_type": "markdown",
   "id": "c1e1a8c4-dd82-44b4-9a3a-c022f3cf247e",
   "metadata": {},
   "source": [
    "Wunderbarer fit! "
   ]
  },
  {
   "cell_type": "markdown",
   "id": "8f52d90e-d4e3-4a99-be5e-bdc3dae09978",
   "metadata": {
    "editable": true,
    "slideshow": {
     "slide_type": ""
    },
    "tags": []
   },
   "source": [
    "### Aufgabe: Leibniz-Reihe\n",
    "Approximieren Sie die [Leibniz-Reihe](https://de.wikipedia.org/wiki/Leibniz-Reihe) \n",
    "$$\n",
    "\\sum_{n=0}^\\infty\\frac{(-1)^n}{2n+1}=\\frac{\\pi}{4}\n",
    "$$\n",
    "Berechnen Sie dazu, analog wie zur harmonische Reihe oben, die ersten 100 Partialsummen \n",
    "$$\n",
    "S_N=\\sum_{n=0}^N\\frac{(-1)^n}{2n+1},\\quad N=0,1,\\ldots\n",
    "$$\n",
    "und plotten Sie die Paare $(N,S_N)$. Den Wert der Reihe können Sie mit <code>ax.axhline(math.pi/4,color=\"red\")</code> ebenfalls im Plot unterbringen. "
   ]
  },
  {
   "cell_type": "code",
   "execution_count": null,
   "id": "d1021bb8-7b02-4d5b-b8e8-ceba17f8a778",
   "metadata": {
    "nbgrader": {
     "grade": true,
     "grade_id": "cell-99948189fef94735",
     "locked": false,
     "points": 3,
     "schema_version": 3,
     "solution": true,
     "task": false
    }
   },
   "outputs": [],
   "source": [
    "### BEGIN SOLUTION\n",
"# Ihre Lösung hier\n",
    "### END SOLUTION"
   ]
  },
  {
   "cell_type": "markdown",
   "id": "2a6227f6-5501-40ae-b731-0565560f6008",
   "metadata": {},
   "source": [
    "## Primzahlen zählen\n",
    "\n",
    "Wie viele Primzahlen unter 100 gibt es? Wie viele Primzahlen unter 1000? Wir definieren dazu die *Primzahlfunktion*\n",
    "$$\n",
    "\\pi(n) = |\\{p:p\\leq n,\\, p\\text{ Primzahl}\\}|\n",
    "$$\n",
    "\n",
    "Wie stark wächst $\\pi(n)$? Finden wir es heraus! In einem vorherigen Notebook hatten wir bereits alle Primzahlen bis zu einer bestimmten Größe bestimmt. Wir kopieren und adaptieren den Code. Es stellt sich heraus, dass es hier nützlicher ist, eine Liste <code>[True,True,False...]</code> zu berechnen, die angibt, ob die Zahlen $2,3,4,...$ Primzahl sind, ja oder nein."
   ]
  },
  {
   "cell_type": "code",
   "execution_count": null,
   "id": "a7043fd4-fbc0-4903-8462-772ca68b387c",
   "metadata": {},
   "outputs": [],
   "source": [
    "def get_primes(n):\n",
    "    \"\"\"\n",
    "    erzeugt Liste L mit Einträgen, die mit 2,3,...,n-1 korrespondieren\n",
    "    der Eintrag L[i+2] gibt an, ob i Primzahl ist (wahr/falsch)\n",
    "    n: positive ganze Zahl\n",
    "    \"\"\"\n",
    "    candidates=[True]*n  # erzeugt Liste [True, True, ..., True] der Länge n\n",
    "    for i in range(2,n):\n",
    "        if candidates[i]:\n",
    "            for j in range(2*i,n,i): # kein Vielfaches von i ist prim \n",
    "                candidates[j]=False # markiere als \"nicht-prim\"\n",
    "    return candidates[2:] # wir schmeissen die ersten beiden Einträge weg, da diese zu n=0 und n=1 gehören\n",
    "\n",
    "prime_yes_no=get_primes(100000)\n",
    "prime_yes_no[:10]"
   ]
  },
  {
   "cell_type": "markdown",
   "id": "bcc1aa3e-0f2a-4d0f-869b-abc06fb2befb",
   "metadata": {},
   "source": [
    "Wir sehen: 2 ist prim, 3 ist prim, 4 nicht, 5 ist prim, 6 nicht, 7 ist prim, 8 nicht, 9 nicht usw.\n",
    "\n",
    "Was brauchen wir, um Primzahlen zu zählen? Wir müssen die Anzahl der Werte <code>True</code> in <code>prime_yes_no</code> zählen. Glücklicherweise behandelt python <code>True</code> wie eine 1 und <code>False</code> wie 0."
   ]
  },
  {
   "cell_type": "code",
   "execution_count": null,
   "id": "f45d6956-4bb1-4767-8a48-bff18316d245",
   "metadata": {},
   "outputs": [],
   "source": [
    "True+True+False"
   ]
  },
  {
   "cell_type": "markdown",
   "id": "a3c9bead-9a2d-4d4e-926b-3c64730f65eb",
   "metadata": {},
   "source": [
    "Das bedeutet, dass wir wieder die kumulative Summe, also <code>np.cumsum</code> benutzen können. "
   ]
  },
  {
   "cell_type": "code",
   "execution_count": null,
   "id": "19b708fc-a4b6-4e5e-ae88-3a06e8e45511",
   "metadata": {},
   "outputs": [],
   "source": [
    "np.cumsum(prime_yes_no)[:20] # [:20] -> wir zeigen uns nur die ersten 20 Terme an"
   ]
  },
  {
   "cell_type": "markdown",
   "id": "5d89bf4d-5c31-44fd-8536-4991052d160f",
   "metadata": {},
   "source": [
    "Plotten wir."
   ]
  },
  {
   "cell_type": "code",
   "execution_count": null,
   "id": "a93ad8ab-32ed-4922-947d-3184345ce383",
   "metadata": {},
   "outputs": [],
   "source": [
    "fig,ax=plt.subplots(figsize=(5,3))\n",
    "pi=np.cumsum(prime_yes_no)\n",
    "N=np.arange(2,len(pi)+2)\n",
    "ax.plot(N,pi)\n",
    "ax.set_xlabel(\"n\")\n",
    "ax.set_ylabel(\"pi(n)\")"
   ]
  },
  {
   "cell_type": "markdown",
   "id": "60e26801-9c68-4cd4-afcd-ca4cfcaebd3a",
   "metadata": {},
   "source": [
    "Die Funktion $\\pi(n)$ sieht erstaunlich linear aus. Wir vergleichen einmal mit einer linearen Funktion: Augenscheinlich, ist $n\\mapsto n/10$ ein guter fit. Probieren wir einmal."
   ]
  },
  {
   "cell_type": "code",
   "execution_count": null,
   "id": "84099cb4-7ddb-4e73-97a8-32c895a83cbc",
   "metadata": {},
   "outputs": [],
   "source": [
    "fig,ax=plt.subplots(figsize=(6,4))\n",
    "pi=np.cumsum(prime_yes_no)\n",
    "N=np.arange(2,len(pi)+2)\n",
    "ax.plot(N,pi,label=\"pi\",alpha=0.8,linewidth=2)\n",
    "ax.set_xlabel(\"n\")\n",
    "ax.set_ylabel(\"pi(n)\")\n",
    "\n",
    "ax.plot(N,N/10,label=\"fit-Funktion\",alpha=0.8,linewidth=2)\n",
    "ax.legend()"
   ]
  },
  {
   "cell_type": "markdown",
   "id": "7a1b056c-f7a0-4910-ae8e-f28e31e543ff",
   "metadata": {},
   "source": [
    "Passt nicht ganz. Die Funktion $\\pi$ weist doch eine leichte Krümmung auf. Es wird Zeit, Nachforschungen anzustellen: Laut [Wikipedia](https://en.wikipedia.org/wiki/Prime_number_theorem) wächst $\\pi(n)$ in etwa wie $\\frac{n}{\\ln(n)}$. Eine noch bessere Approximation ist\n",
    "$$\n",
    "\\pi(n)\\approx \\frac{n}{\\ln(n)}\\left(1+\\frac{1}{\\ln(n)}\\right)\n",
    "$$\n",
    "Probieren wir aus!"
   ]
  },
  {
   "cell_type": "code",
   "execution_count": null,
   "id": "f9043dad-2d11-405b-a184-24ca6ba5e0be",
   "metadata": {},
   "outputs": [],
   "source": [
    "fig,ax=plt.subplots(figsize=(6,4))\n",
    "pi=np.cumsum(prime_yes_no)\n",
    "N=np.arange(2,len(pi)+2)\n",
    "ax.plot(N,pi,label=\"pi\",alpha=0.8,linewidth=2)\n",
    "ax.set_xlabel(\"n\")\n",
    "ax.set_ylabel(\"pi(n)\")\n",
    "\n",
    "ax.plot(N,N/np.log(N)*(1+1/np.log(N)),label=\"fit-Funktion\",alpha=0.8,linewidth=2)\n",
    "ax.legend()"
   ]
  },
  {
   "cell_type": "markdown",
   "id": "1c066c81-48b6-4bd3-a370-daf7758b7cac",
   "metadata": {},
   "source": [
    "Sieht überzeugend aus!"
   ]
  },
  {
   "cell_type": "markdown",
   "id": "62558e92-8e1e-4b02-b09a-0dcda1af9106",
   "metadata": {},
   "source": [
    "## Weierstrass-Funktion\n",
    "\n",
    "Die Analysis kennt eine Reihe von Funktionen mit extremen Eigenschaften. Eine prominente ist die *Weierstrass-Funktion*, eine Funktion, die stetig aber nirgends differenzierbar ist. Sie ist auf ganz $\\mathbb R$ wie folgt definiert:\n",
    "\n",
    "$$f(x)=\\sum_{n=0}^\\infty a^n \\cos(b^n\\pi x)$$\n",
    "\n",
    "for $0<a<1$ and $ab>1+\\tfrac{3}{2}\\pi$.\n",
    "\n",
    "Aufgrund der unendlichen Summe können wir dieses Funktion natürlich nicht exakt berechnen. Wir können sie aber approximieren, in dem wir ein (großes) $N\\in\\mathbb N$ wählen und \n",
    "$$f_N(x)=\\sum_{n=0}^N a^n \\cos(b^n\\pi x)$$\n",
    "betrachten. Plotten wir also $f_N$. \n",
    "\n",
    "Wir berechnen $f_N$ für eine Reihe $x_1,x_2,\\ldots,x_K$ von Stützstelle und das ganze in zwei Schritte:\n",
    "* Wir bestimmen $g_{n,k}=a^n\\cos(b^n\\pi x_k)$ für alle $n=1,\\ldots, N$ und $k=1,\\ldots K$\n",
    "* Dann summieren wir $f_N(x_k)=\\sum_{n=1}^N g_{n,k}$.\n",
    "\n",
    "Um $g_{n,k}$ zu berechnen, erstellen wir zwei 2-dimensionale arrays der Dimension $K\\times N$:\n",
    "$$\n",
    "\\mathcal N=\\begin{pmatrix}1 & 2 & \\ldots & N\\\\ 1 & 2 & \\ldots & N\\\\ & \\vdots& &\\\\1 & 2 & \\ldots & N\\\\\\end{pmatrix}\n",
    "\\quad\\text{und}\\quad\n",
    "\\mathcal X=\\begin{pmatrix}x_1 & x_1 & \\ldots & x_1\\\\x_2 & x_2 & \\ldots & x_2\\\\ & \\vdots& &\\\\ x_K & x_K & \\ldots & x_K\\\\\\end{pmatrix}\n",
    "$$\n",
    "Warum? Weil dann alle Informationen, die wir brauchen, um $g_{n,k}$ berechnen in den Elementen $\\mathcal N_{n,k}$ und $\\mathcal X_{n,k}$ stecken. Aber gucken wir zunächst genau, was die Funktion <code>np.meshgrid</code> macht."
   ]
  },
  {
   "cell_type": "code",
   "execution_count": null,
   "id": "83aa68b7-099a-4d45-a5e5-e3d769a22cbd",
   "metadata": {},
   "outputs": [],
   "source": [
    "N,X=np.meshgrid([1,2,3],[10,20,30,40])\n",
    "N,X=np.meshgrid([1,2,3],[0.2,0.3,0.4,0.5])\n",
    "print(N)\n",
    "print()\n",
    "print(X)"
   ]
  },
  {
   "cell_type": "markdown",
   "id": "10a8a3ab-137a-4ceb-ba26-10309ae3903f",
   "metadata": {},
   "source": [
    "Viele Funktionen von <code>numpy</code> lassen sich nahtlos und genau wie im 1-dimensionalen Fall auf 2- und mehr-dimensionale arrays anwenden. ZB:"
   ]
  },
  {
   "cell_type": "code",
   "execution_count": null,
   "id": "864982a4-3b9b-4f9b-ab92-90721d37ac6d",
   "metadata": {},
   "outputs": [],
   "source": [
    "np.cos(N)"
   ]
  },
  {
   "cell_type": "markdown",
   "id": "3b4b53e1-f990-4840-be21-b7b5adc7a256",
   "metadata": {},
   "source": [
    "Addition und Multiplikation zweier 2-dimensionaler arrays ist komponentenweise:"
   ]
  },
  {
   "cell_type": "code",
   "execution_count": null,
   "id": "3345f5a8-2a38-482b-9c35-037d0f4060d6",
   "metadata": {},
   "outputs": [],
   "source": [
    "N+X,N*X"
   ]
  },
  {
   "cell_type": "markdown",
   "id": "213e967f-d84d-4e79-9466-8bca48763191",
   "metadata": {},
   "source": [
    "Insbesondere können wir die $g_{n,k}$ so bestimmen:"
   ]
  },
  {
   "cell_type": "code",
   "execution_count": null,
   "id": "d2e6082d-127c-47c7-ad94-f9e7442aa230",
   "metadata": {},
   "outputs": [],
   "source": [
    "a=0.5\n",
    "b=12\n",
    "a**N*np.cos(b**N*math.pi*X)"
   ]
  },
  {
   "cell_type": "markdown",
   "id": "5d886a6d-5782-4f31-aa6a-c3d91f29c7c2",
   "metadata": {},
   "source": [
    "Als letztes die Summe über jede Zeile. Die Funktion <code>np.sum</code> summiert alle Elemente eines arrays. Wenn wir nur über eine Achse summieren wollen, dann geben wir den Parameter <code>axis=1</code> an. Hier ist ein Beispiel."
   ]
  },
  {
   "cell_type": "code",
   "execution_count": null,
   "id": "a015d56b-4a33-410e-a1d5-b2bbeda522d0",
   "metadata": {},
   "outputs": [],
   "source": [
    "NN=np.arange(12).reshape(3,4) # reshape macht aus dem 1-dim array ein array mit Dimensionen 3x4\n",
    "NN"
   ]
  },
  {
   "cell_type": "code",
   "execution_count": null,
   "id": "43a4d930-305a-4f8b-8bf5-72d9e4c6fae8",
   "metadata": {},
   "outputs": [],
   "source": [
    "np.sum(NN,axis=1),np.sum(NN,axis=0),np.sum(NN)"
   ]
  },
  {
   "cell_type": "markdown",
   "id": "d8430070-fb4d-4349-9e1f-85d94d64f1d6",
   "metadata": {},
   "source": [
    "So, nun endlich die Weierstrass-Funktion."
   ]
  },
  {
   "cell_type": "code",
   "execution_count": null,
   "id": "3db01d1b-ae05-477c-bd42-3c6e38daa7c4",
   "metadata": {},
   "outputs": [],
   "source": [
    "def weierstrass(xx,sumlength=100,a=0.5,b=12):\n",
    "    nn=np.arange(sumlength)\n",
    "    N,X=np.meshgrid(nn,xx)\n",
    "    return np.sum(a**N*np.cos(b**N*math.pi*X),axis=1)"
   ]
  },
  {
   "cell_type": "markdown",
   "id": "35f75b6e-1de3-4f64-83db-a3298477b127",
   "metadata": {},
   "source": [
    "Plotten ist jetzt einfach:"
   ]
  },
  {
   "cell_type": "code",
   "execution_count": null,
   "id": "9447f52f-8c4a-4784-af0f-f8fa8156b09f",
   "metadata": {},
   "outputs": [],
   "source": [
    "xx=np.linspace(0,4,1000)\n",
    "yy=weierstrass(xx)\n",
    "\n",
    "fig,ax=plt.subplots(figsize=(7,3))\n",
    "ax.plot(xx,yy)"
   ]
  },
  {
   "cell_type": "markdown",
   "id": "fd4e83c2-9d47-488d-ae8e-d7ca4ca40b8a",
   "metadata": {},
   "source": [
    "Die Funktion ist zitterig, aber es ist noch nicht klar, warum sie nirgends differenzierbar ist. Zoomen wir mal weiter rein. Wir nutzen die Gelegenheit, um ein weiteres feature von <code>matplotlib</code> zu demonstrieren: Man kann Plots nebeneinander (und genauer in einem Raster) anordnen. Dazu nutzen wir <code>plt.subplots(rows,cols)</code>, um uns ein Raster von Plots mit <code>rows</code> vielen Zeilen und <code>cols</code> vielen Spalten zu holen. Als Rückgabe erhalten wir <code>fig,axs</code> ein Objekt für die ganze Abbildung (wie gesagt: brauchen wir sehr selten) und nun ein numpy-array für die Plots."
   ]
  },
  {
   "cell_type": "code",
   "execution_count": null,
   "id": "9fbeab90-adcf-48c2-afda-0637d383041d",
   "metadata": {},
   "outputs": [],
   "source": [
    "fig,axs=plt.subplots(1,2,figsize=(10,3))\n",
    "\n",
    "xx=np.linspace(0.1,0.2,1000)\n",
    "yy=weierstrass(xx)\n",
    "axs[0].plot(xx,yy)\n",
    "\n",
    "xx=np.linspace(0.11,0.12,1000)\n",
    "yy=weierstrass(xx)\n",
    "axs[1].plot(xx,yy)"
   ]
  },
  {
   "cell_type": "markdown",
   "id": "a9119631-1d96-4a1a-a339-857690dd601b",
   "metadata": {},
   "source": [
    "Was sehen wir: Auf jeder Zoom-Stufe bleibt die Funktion extrem zitterig."
   ]
  },
  {
   "cell_type": "markdown",
   "id": "d6fc93f5-be0d-4c4b-8619-2aaf2221490a",
   "metadata": {},
   "source": [
    "### Aufgabe: Van der Waerden-Funktion\n",
    "\n",
    "Die Van der Waerden-Funktion ist ein weiteres Beispiel für eine Funktion, die überall stetig aber nirgends differenzierbar ist. \n",
    "Sie ist auf ganz $\\mathbb R$ durch\n",
    "$$\n",
    "f(x)=\\sum_{n=0}^\\infty\\frac{|\\text{round}(10^nx)-10^nx|}{10^n}\n",
    "$$\n",
    "definiert. Plotten Sie die Funktion im Intervall $[0,1]$. Für die Approximation reichen 10 Summenglieder. Für die Umsetzung werden Sie die numpy-Funktionen <code>np.abs</code> und <code>np.round</code> brauchen."
   ]
  },
  {
   "cell_type": "code",
   "execution_count": null,
   "id": "2b5c6320-850c-4f75-96b6-7c9ce84a535e",
   "metadata": {
    "nbgrader": {
     "grade": true,
     "grade_id": "cell-0def9ef8cd5d9192",
     "locked": false,
     "points": 3,
     "schema_version": 3,
     "solution": true,
     "task": false
    }
   },
   "outputs": [],
   "source": [
    "### BEGIN SOLUTION\n",
"# Ihre Lösung hier\n",
    "### END SOLUTION"
   ]
  },
  {
   "cell_type": "markdown",
   "id": "727a12ec-4ce8-461d-91b1-a67a08b27da0",
   "metadata": {},
   "source": [
    "## Kurven\n",
    "\n",
    "Bisher haben wir Funktionen $f:x\\mapsto f(x)$ geplottet. Die Funktion <code>ax.plot</code> ist aber viel flexibler und und in der Lage 2-dimensionale Kurven $\\mathbb R\\to\\mathbb R^2$ darzustellen. In dem folgenden Beispiel nutze ich gleich die Gelegenheit, um ebenfalls zu demonstrieren, wie der angezeigte $x$- und $y$-Bereich eingestellt werden kann.\n",
    "\n",
    "Wir plotten die Kurve\n",
    "$$\n",
    "t\\mapsto \\begin{pmatrix} t^3-2t+1\\\\t^2+t\\end{pmatrix}\n",
    "$$"
   ]
  },
  {
   "cell_type": "code",
   "execution_count": null,
   "id": "bbc9fbbe-db96-44fc-ae2a-11a09f6bb0a1",
   "metadata": {},
   "outputs": [],
   "source": [
    "tt=np.linspace(-2,2,500)\n",
    "xx=tt**3-2*tt+1\n",
    "yy=tt**2+tt\n",
    "\n",
    "fig,ax=plt.subplots(figsize=(4,4))\n",
    "ax.plot(xx,yy)\n",
    "ax.set_xlim(-2,3) # setze x-Bereich auf [-2,3]\n",
    "ax.set_ylim(-1,4) # setze y-Bereich auf [-1,4]"
   ]
  },
  {
   "cell_type": "markdown",
   "id": "56ceed19-25d8-4fff-9e6a-7bcaf82cb736",
   "metadata": {},
   "source": [
    "Kurven im 2- oder 3-dimensionalen Raum lassen sich leicht als Trajektorien von physikalischen Objekten interpretieren. Wie können wir die, sich ändernde, Geschwindigkeit des Objekts visualisieren? Indem wir in regelmäßigen Zeitschritten vermerken, wo sich das Objekt befindet. \n",
    "\n",
    "Um das darzustellen, ein schneller Exkurs zur slice-Notation. Wir wissen bereits, dass <code>some_list[a:b]</code> die Teilliste von <code>some_list</code> mit den Indizes $a,a+1,...,b-1$ zurück liefert. Der Code <code>some_list[:]</code>, bei dem die Grenzen $a,b$ weggelassen wurden, liefert die ganze Liste (tatsächlich eine Kopie), da für die weggelassenen Grenzen einfach Anfang und Ende der Liste genommen werden. So, wir können nun durch einen weiteren Doppelpunkt <code>some_list[a:b:s]</code> eine Schrittweite angeben: dh, wir erhalten dann eine Teilliste mit Indizes zwischen $a$ und $b-1$, allerdings mit nur jedem $s$. Element. Dh insbesondere, dass <code>some_list[::2]</code> eine Liste mit jedem zweiten Element ergibt."
   ]
  },
  {
   "cell_type": "code",
   "execution_count": null,
   "id": "1a5a2aef-01d4-4e55-ad89-a13ce336da11",
   "metadata": {},
   "outputs": [],
   "source": [
    "L=['a','b','c','d','e','f','g']\n",
    "L[::2]"
   ]
  },
  {
   "cell_type": "code",
   "execution_count": null,
   "id": "af983cd3-25f9-4bae-8c63-b66b14e95f29",
   "metadata": {},
   "outputs": [],
   "source": [
    "tt=np.linspace(-2,2,500)\n",
    "xx=tt**3-2*tt+1\n",
    "yy=tt**2+tt\n",
    "\n",
    "fig,ax=plt.subplots(figsize=(4,4))\n",
    "ax.plot(xx,yy)\n",
    "ax.set_xlim(-2,3) # setze x-Bereich auf [-2,3]\n",
    "ax.set_ylim(-1,4) # setze y-Bereich auf [-1,4]\n",
    "\n",
    "ax.plot(xx[::20],yy[::20],'o',alpha=0.5,color='blue') ## wir plotten nur jeden 20. Wert, der Parameter 'o' setzt Kreise"
   ]
  },
  {
   "cell_type": "markdown",
   "id": "dc6960f1-aa80-47ef-9d73-e4988fd65d0c",
   "metadata": {},
   "source": [
    "Wir sehen, wenig überraschend, dass die Geschwindigkeit in der scharfen Kurve in der Nähe von $(2,0)$ sehr klein wird."
   ]
  },
  {
   "cell_type": "markdown",
   "id": "736b0f4b-a6b1-4ce3-a63c-5c95dbf08231",
   "metadata": {},
   "source": [
    "### Aufgabe: Kurve\n",
    "Plotten Sie die Kurve\n",
    "$$\n",
    "[0,2\\pi]\\to\\mathbb R^2,\\quad t\\mapsto\\begin{pmatrix}16\\sin(t)^3\\\\13\\cos(t)-5\\cos(2t)-2\\cos(3t)-\\cos(4t)\\end{pmatrix}\n",
    "$$\n",
    "Sie werden die Funktionen <code>np.sin</code> und <code>np.cos</code> brauchen."
   ]
  },
  {
   "cell_type": "code",
   "execution_count": null,
   "id": "cf154f9d-00f6-4e5d-81ff-975fc13e2606",
   "metadata": {
    "nbgrader": {
     "grade": true,
     "grade_id": "cell-f5fc3705fa21e706",
     "locked": false,
     "points": 3,
     "schema_version": 3,
     "solution": true,
     "task": false
    }
   },
   "outputs": [],
   "source": [
    "### BEGIN SOLUTION\n",
"# Ihre Lösung hier\n",
    "### END SOLUTION"
   ]
  },
  {
   "cell_type": "markdown",
   "id": "3d8107ed-25c9-4a32-9713-bb5955453064",
   "metadata": {},
   "source": [
    "## Sierpińsky-Teppich\n",
    "<code>matplotlib</code> erlaubt es nicht nur Funktionen und Kurven zu plotten, sondern Daten aller Art. Insbesondere lassen sich Bilder und, für uns hier interessanter, Matrizen bzw arrays visualisieren. Eine Liste von verschiedenen Typen von plots findet sich [hier](https://matplotlib.org/stable/plot_types/index.html). \n",
    "\n",
    "Als Beispiel nehmen wir den [Sierpińsky-Teppich.](https://de.wikipedia.org/wiki/Sierpinski-Teppich) \n",
    "Wie entsteht der? Man startet mit der Menge $[0,1]\\times [0,1]$, teilt diese in 9 (bis auf an den Rändern) disjunkte Quadrate mit jeweils \n",
    "einem Drittel der Seitenlänge auf, löscht das mittlere Quadrat und iteriert mit den 8 anderen Quadraten. Hier sind die ersten zwei Schritte.\n",
    "\n",
    "<center>\n",
    "    <img src=\"data:image/png;base64,iVBORw0KGgoAAAANSUhEUgAAAcIAAACWCAYAAABNcIgQAAAH+0lEQVR4nO3dP4hc5R7H4d87u7N/RkOiK4hBERHRQqsgqCAGrKwUEbVKaaOFlUJAECxEFAvRUkiCNhushGBnkm0MBhREUAKiCUhYjaiBJLs7u+dWt7gizpnrnJyz5/c8MN3L+I0H5pPdZd+UqqqqAICkBm0PAIA2CSEAqQkhAKkJIQCpCSEAqQkhAKkJIQCpCSEAqQkhAKkJIQCpCSEAqQkhAKkJIQCpCSEAqQkhAKkJIQCpCSEAqQkhAKkJIQCpCSEAqQkhAKkJIQCpCSEAqc23PaBpx48fj2+//bbtGfzFaDSKl156KUaj0cze07Pupiae9cmTJ+PkyZMzez9mo5QSL7zwQtx2221tT5lO1XNPPvlkFRFeHXuNRqNqfX3ds07wauJZHz58uPU/l9ffv86ePTvTZ3099P5bo4uLi21P4G+MRqMopcz0PT3rbmriWQ+Hw5m+H7NRSonBYPdlZfctBoAZEkIAUhNCAFITQgBSE0IAUhNCAFITQgBSE0IAUuv9FWtAbqPRKB5++OGYm5ubeLaUEl999VWsr6/PfMdgMIiHHnoo9uzZE1VVTdzxww8/xLlz52a+IyLigQceiP3799facenSpTh79mwjO7pCCIFeu/322+PEiROxsLBQ6/wzzzwTn3zyycx3DIfD+PDDD+O+++6rdf7tt9+OV155ZeY7IiIOHz4czz//fK2zp06dioMHDzayoyt8axTotaqqYnt7e6rzTdnZ2Wnk7LSm+f8xzdndSgiB3msybtPoyg7+lxACkJoQApCaEAKQmhACkJoQApCaEAKQmhACvTcY1P+oK6U0tmOa986woyvcLAP0WlVVsbGxUeuKtYhmf4F8a2srtra2Jp4rpcR4PG5sx3g8jvF4XOuKtTp7dzshBHrtwoUL8eijj8ZgMKj1wf/jjz82smNzczOee+65WFpaqrWjiftO/+u1116Ld999t9aOy5cvN7ajK4QQ6LWNjY345ptv2p4RVVXF999/3/aMiIg4f/58nD9/vu0ZneFnhACkJoQApCaEAKQmhACkJoQApCaEAKQmhACkJoQApCaEAKTmZhmYsQMHDsTBgwcnXl/VpFJKXLhwIVZXV1vbkMFdd90VTz/9dOvP+o8//ohjx47F5uZmazt2MyGEGXv88cfjrbfeantGnDlzRggbdv/998c777zT9oxYX1+P48ePC+H/ybdGYcaa/FcDprGxsdH2hN5r8l+qmMbVq1db/ap0txNCAFITQgBSE0IAUhNCAFITQgBSE0IAUhNCAFITQgBSc7MM0Gvz8/Nx6623Riml1vlLly7F1atXG17VrptvvjluuOGGib+EX0qJa9euxS+//HKdlrVDCIFeu/POO+P06dOxvLw88WwpJQ4dOhSffvrpdVjWnjfffDOeffbZWiE8depUPPXUU9dnWEuEEOi1wWAQKysrsbi4WOv8wsJCw4vat2fPnti3b1+ts3v37m12TAf4GSHQe9PcCZrhzs6dnZ1Gzu5WQghAakIIQGpCCEBqQghAakIIQGpCCEBqQghAakII9FopJZaWlmqfn5uba3BNNwyHw9pnM1ww4GYZoNcuXrwYhw4divn5yR93pZQ4c+bMdVjVrvfffz8+++yzib8sX0qJn3/++Tqtao8QAr32559/xscff9z2jE5ZW1uLtbW1tmd0hm+NApCaEAKQmhACkJoQApCaEAKQmhACkJoQApCaEAKQmhDCjHXliq4MV2O1bTDoxkeoZ/3vuFkGZuynn36KtbW1qKqqtQ2llPj6669b++9n8euvv8bp06fbnhEXL16M7e3ttmfsWkIIM7a6uhqrq6ttz+A6+OKLL+Kxxx5rewb/Uje+rgeAlgghAKkJIQCpCSEAqQkhAKkJIQCpCSEAqQkhAKkJIQCpuVkG6L1p7gStqqqx6/FKKVFKsaNjhBDotTvuuCM++uijWFpamni2lBKvvvpqfP755zPfMRwO49ixY3H33XdPDEspJY4ePRoffPDBzHdERLz++uvxxBNP1Nrx5ZdfxosvvtjIjq4QQqDXlpeX45FHHon5+XofdysrK43sGAwGceDAgbjnnntqnW/yMu977703HnzwwVpnr1271tiOrvAzQqDXqqqKzc3N2ud3dnYa2zLNjvF43NiOad57a2ursR1dIYQApCaEAKQmhACkJoQApCaEAKQmhACkJoQApCaEQK+VUmJ5ebn2+bm5uca21Lnd5r+Gw2FjOxYWFmqfXVxcbGxHV7hZBui133//Pd57771YXFysdaXYuXPnGtmxvb0dR48ejf3790/cMRgMYm1trZEdEREnTpyI3377beLlAaWU+O677xrb0RVCCPTa+vp6vPzyy23PiPF4HG+88UbbMyIi4siRI3HkyJG2Z3SGb40CkJoQApCaEAKQmhACkJoQApCaEAKQmhACkJoQApBa70M46eYE2rG9vT3z9/Ssu8mzzqOqqom35nRR72+W2bt3b9xyyy1tz+AvVlZWYjCY7d/DPOtuauJZ33jjjZ51B5VSGr0jtSml2o35nsLly5djY2Oj7Rn8RSklbrrpppl+QHrW3dTEs75y5UpcuXJlZu/H7Ozbty/m53fX11i9DyEA/JPe/4wQAP6JEAKQmhACkJoQApCaEAKQmhACkJoQApCaEAKQmhACkJoQApCaEAKQmhACkJoQApCaEAKQmhACkJoQApCaEAKQmhACkJoQApCaEAKQmhACkNp/ABtARQm0vIlgAAAAAElFTkSuQmCC\">\n",
    "</center>\n",
    "\n",
    "Warum ist der Sierpińsky-Teppich interessant? Es ist ein Beispiel für eine Menge mit Fläche 0 und einer (Hausforff-)Dimension zwischen 1 und 2, dh, es handelt sich nicht um ein 1-dimensionales Objekt, ganz 2-dimensional ist der Teppich aber auch nicht.\n",
    "\n",
    "Bevor wir mit dem Teppich anfangen können, müssen wir uns kurz darüber unterhalten wie man an die Elemente in mehrdimensionalen numpy-arrays kommt. Dazu beschaffen wir uns Testobjekt, ein 4x3 numpy-array fortlaufend gefüllt mit den Zahlen $0,...,11$. Dies bekommen wir so: Wir definieren mit <code>np.arange(12)</code> einen 1-dimensionalen numpy-array mit den Zahlen $0,...,11$ und nutzen dann <code>reshape</code>, um den Inhalt in die Form 4x3 zu bringen. "
   ]
  },
  {
   "cell_type": "code",
   "execution_count": null,
   "id": "e7dd111e-6be3-46b0-9ce4-c2d46a68964d",
   "metadata": {},
   "outputs": [],
   "source": [
    "A=np.arange(12).reshape(4,3)\n",
    "A"
   ]
  },
  {
   "cell_type": "markdown",
   "id": "6f2ff6be-657a-4f4e-aafa-f384abd03d79",
   "metadata": {},
   "source": [
    "Die Form eines arrays erhalten wir mit <code>some_array.shape</code>. Das array <code>A</code> zB hat 4 Zeilen und 3 Spalten:"
   ]
  },
  {
   "cell_type": "code",
   "execution_count": null,
   "id": "b083d697-60e5-4fe7-91fa-cbe372e22fa6",
   "metadata": {},
   "outputs": [],
   "source": [
    "A.shape"
   ]
  },
  {
   "cell_type": "markdown",
   "id": "d634e78a-214a-481d-9ff5-b034470cbb4c",
   "metadata": {},
   "source": [
    "Wie adressieren wir nun einzelne Elemente aus <code>A</code>? Einfach, wenn wir das Element an Position 3,2 wollen, dann so:"
   ]
  },
  {
   "cell_type": "code",
   "execution_count": null,
   "id": "5dde5da6-6a99-40a2-983a-04b7cf3382f6",
   "metadata": {},
   "outputs": [],
   "source": [
    "A[2,1] # 2,1 statt 3,2, da python bei 0 anfängt zu zählen"
   ]
  },
  {
   "cell_type": "markdown",
   "id": "a7f2c1cd-53da-4bf8-8a78-30b385fa7b04",
   "metadata": {},
   "source": [
    "Wir können da einen neuen Wert zuweisen:"
   ]
  },
  {
   "cell_type": "code",
   "execution_count": null,
   "id": "9ed3009d-4c75-45a6-a8f2-bb55c41e5a00",
   "metadata": {},
   "outputs": [],
   "source": [
    "A[2,1]=42\n",
    "A"
   ]
  },
  {
   "cell_type": "markdown",
   "id": "48056651-06da-419f-a5d6-24ae9cc63870",
   "metadata": {},
   "source": [
    "Wie stellen wir nun die Sierpińsky-Menge, bzw, die erste $n$ Schritte der Iteration, dar? Als 0,1-Matrix, wobei eine 1 signalisiert, dass das jeweilige Element in der Menge liegt, und ein Eintrag 0 bedeutet, dass das Element nicht in der Menge ist. Starten tun wir mit $[0,1]\\times [0,1]$, also einer Matrix, in der jeder Eintrag 1 ist. <code>np.ones(shape=(a,b)))</code> liefert eine solche Matrix der Dimension $a\\times b$.\n",
    "\n",
    "In der ersten Iteration werden die Einträge des Quadrats in der Mitte auf 0 gesetzt. Ähnlich wie bei 1-dimensionalen arrays erlaubt die *slice*-Notation den Zugriff auf Teilmatrizen: <code>some_array[a:b,c:d]</code> gibt den Teil von <code>some_array/code> aus, der durch die Zeilen $a,...,b-1$ und die Spalten $c,...,d-1$ definiert ist. Wir nehmen nun den Mittelteil und setzen den auf 0."
   ]
  },
  {
   "cell_type": "code",
   "execution_count": null,
   "id": "cfcda457-0f7d-4735-b064-0c5623bdfefa",
   "metadata": {},
   "outputs": [],
   "source": [
    "A=np.ones(shape=(9,9))\n",
    "A[3:6,3:6]=0\n",
    "A"
   ]
  },
  {
   "cell_type": "markdown",
   "id": "50b6dfe8-a718-44f0-ab06-ced7b38d3d57",
   "metadata": {},
   "source": [
    "Haben Sie gemerkt, da ist etwas merkwürdiges passiert: In <code>A[3:6,3:6]=0</code> steht links ein $3\\times 3$-array und rechts eine Zahl (die 0). In so einer Situation versucht numpy das sinnvoll zu interpretieren, nämlich so, dass jeder Eintrag von <code>A[3:6,3:6]</code> gleich 0 werden soll. \n",
    "\n",
    "Als nächstes stellen wir die Matrix graphisch dar. Das geschieht mit <code>ax.imshow</code>. Damit werden Bilder aber auch jegliche 2-dimensionale arrays angezeigt."
   ]
  },
  {
   "cell_type": "code",
   "execution_count": null,
   "id": "8cc2f674-7c16-4b5d-9792-0d7bf3988471",
   "metadata": {},
   "outputs": [],
   "source": [
    "fig,ax=plt.subplots(figsize=(3,3))\n",
    "ax.imshow(A)"
   ]
  },
  {
   "cell_type": "markdown",
   "id": "5c445351-306e-4aad-85d3-d664523ad491",
   "metadata": {},
   "source": [
    "Das sieht noch ein wenig häßlich aus. Das liegt einerseits an der eigenwilligen Farbwahl und andererseits an den störenden Achsen. Mit welcher Farbe welcher Wert dargestellt wird, hängt von der *colour map* ab. Die *colour map* <code>cmap='binary'</code> ist für schwarz/weiß-Werte geeignet. [Hier](https://matplotlib.org/stable/users/explain/colors/colormaps.html) finden sich weitere Farbpaletten. Wir schalten auch die Achsen aus. "
   ]
  },
  {
   "cell_type": "code",
   "execution_count": null,
   "id": "67f00dab-2432-4b80-9a5c-d4ce62b20388",
   "metadata": {},
   "outputs": [],
   "source": [
    "fig,ax=plt.subplots(figsize=(3,3))\n",
    "ax.imshow(A,cmap='binary')\n",
    "ax.axis('off')"
   ]
  },
  {
   "cell_type": "markdown",
   "id": "ffa43f87-1b3a-4dc6-a163-79396265b6f2",
   "metadata": {},
   "source": [
    "Besser. Für die Iteration beim Sierpińsky-Teppich müssen wir die Matrix in die 9 Teilquadrate aufteilen. Dies realisieren wir mit der *slice*-Notation und *list comprehension*."
   ]
  },
  {
   "cell_type": "code",
   "execution_count": null,
   "id": "6eedd796-a9ba-4357-b396-e4fe25905671",
   "metadata": {},
   "outputs": [],
   "source": [
    "# A=np.ones(shape=(9,9)) # eigentlich arbeiten wir mit diesem A\n",
    "A=np.arange(9**2).reshape(9,9) # zur Illustration füllen wir aber unterschiedliche Werte ein\n",
    "k=3\n",
    "pieces=[A[i*k:(i+1)*k,j*k:(j+1)*k] for i in range(3) for j in range(3)] # damit diese Teilmatrizen unterschiedlich aussehen\n",
    "pieces"
   ]
  },
  {
   "cell_type": "markdown",
   "id": "9ed77005-e2ba-4908-b602-1163331f3283",
   "metadata": {},
   "source": [
    "Wir sehen, wir haben eine Liste mit den 9 $3\\times 3$-Teilmatrizen. Wir müssen nun noch zweierlei bewerkstelligen: Wir müssen die mittlere Matrix auswählen und deren Einträge auf 0 setzen. Die Liste <code>pieces</code> hat 9 Elemente, das Element mit dem Index 4 entspricht der mittleren Teilmatrix. "
   ]
  },
  {
   "cell_type": "code",
   "execution_count": null,
   "id": "2eede46a-b1ea-4709-a67b-c894353e2f71",
   "metadata": {},
   "outputs": [],
   "source": [
    "middle=pieces[4]\n",
    "middle[:,:]=0 # Zuweisung von 0 auf die ganze Matrix middle\n",
    "fig,ax=plt.subplots(figsize=(3,3))\n",
    "ax.imshow(A,cmap='binary')\n",
    "ax.axis('off')"
   ]
  },
  {
   "cell_type": "markdown",
   "id": "84269435-0194-41f8-8ab8-bc3ca641113d",
   "metadata": {},
   "source": [
    "Vorsicht: <code>middle=0</code> hätte keinen Erfolg gehabt -- dann wäre die Variable <code>middle</code> mit dem Wert 0 überschrieben worden und nicht der Teil von <code>A</code>. \n",
    "\n",
    "Was nun noch fehlt: Die Rekursion. Mit einem Parameter <code>steps</code> regulieren wir, wie tief die Rekursion sein soll. \n",
    "\n",
    "Ich schmuggele noch einen weiteren <code>matplotlib</code>-Befehl ein: <code>plt.savefig(\"dateiname.png\",dpi=300)</code>. Damit speichern wir das hübsche Bild. <code>dpi=300</code> (*dots per inch*) gibt die Auflösung an."
   ]
  },
  {
   "cell_type": "code",
   "execution_count": null,
   "id": "f96e0b71-7229-4a63-8a1a-8db7dab495d5",
   "metadata": {},
   "outputs": [],
   "source": [
    "N=5\n",
    "A=np.ones(shape=(3**N,3**N)) # Dimensionen von A sollten besser 3er-Potenzen sein \n",
    "def recurse(A,steps):\n",
    "    if steps<=0: # gewünschte Rekursionstiefe erreicht, stoppen\n",
    "        return # return -> Funktion wird abgebrochen\n",
    "    n=A.shape[0]\n",
    "    k=n//3\n",
    "    pieces=[A[i*k:(i+1)*k,j*k:(j+1)*k] for i in range(3) for j in range(3)]\n",
    "    middle=pieces[4]\n",
    "    middle[:,:]=0\n",
    "    for P in pieces:  # Rekursion auch über Mittelstück -- macht nix, ist nur ineffizient \n",
    "        recurse(P,steps-1) # steps-1, da nächste Rekursionsebene\n",
    "\n",
    "recurse(A,N)\n",
    "\n",
    "fig,ax=plt.subplots(figsize=(5,5))\n",
    "ax.imshow(A,cmap='binary')\n",
    "ax.axis('off')\n",
    "plt.savefig(\"sierpinsky_carpet.png\",dpi=300)"
   ]
  },
  {
   "cell_type": "markdown",
   "id": "5b34023a-ecca-4e27-820e-18e5fca64658",
   "metadata": {},
   "source": [
    "### Aufgabe: Vicsek-Fraktal\n",
    "Das [Vicsek-Fraktal](https://en.wikipedia.org/wiki/Vicsek_fractal) ist dem Sierpińsky-Teppich sehr ähnlich. Wie zuvor startet man mit $[0,1]\\times [0,1]$ und partitioniert dann das Quadrat in die 9 Teilquadrate mit Seitenlänge 1/3. Nun aber werden die vier Eckquadrate gelöscht und dann mit den fünf anderen Quadraten iteriert. Hier sind die ersten zwei Schritte.\n",
    "\n",
    "<center><img src=\"data:image/png;base64,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\"></center>\n",
    "\n",
    "Berechnen Sie fünf Iterationen des Vicsek-Fraktals und plotten Sie das Resultat!"
   ]
  },
  {
   "cell_type": "code",
   "execution_count": null,
   "id": "c7fba85c-5d6c-4e64-be54-5fe0c3ec763e",
   "metadata": {
    "nbgrader": {
     "grade": true,
     "grade_id": "cell-a2dd87d60d60c82d",
     "locked": false,
     "points": 3,
     "schema_version": 3,
     "solution": true,
     "task": false
    }
   },
   "outputs": [],
   "source": [
    "### BEGIN SOLUTION\n",
"# Ihre Lösung hier\n",
    "### END SOLUTION"
   ]
  },
  {
   "cell_type": "markdown",
   "id": "f7de0d57-9705-4ec3-8e18-77ddad8dca21",
   "metadata": {},
   "source": [
    "Übrigens: Wenn es Sie interessiert, die Hausdorff-Dimension lässt sich numerisch approximieren. Mehr erfahren Sie [hier.](https://en.wikipedia.org/wiki/Minkowski%E2%80%93Bouligand_dimension)"
   ]
  },
  {
   "cell_type": "markdown",
   "id": "e8c17704-c904-4340-8745-08c6165a8577",
   "metadata": {},
   "source": [
    "## Mandelbrot\n",
    "\n",
    "Die Mandelbrot-Menge ist ein Fraktal und ein Kulturphänomen der 80er. Jeder Computernerd damals ließ aufwendig, meist über Nacht, die Mandelbrot-Menge berechnen, und das auf Computern, die heutigen Toastern unterlegen sind. Kinder der 80er sind oftmals nachhaltig traumatisiert, weil sie das stundenlange Mandelbrot-Gerechne davon abhielt, [Giana sisters](https://en.wikipedia.org/wiki/The_Great_Giana_Sisters) zu spielen. Wie auch immer. \n",
    "\n",
    "Was ist die Mandelbrot-Menge? Das ist die Menge aller komplexen Zahlen $c\\in\\mathbb C$, für die die Folge \n",
    "\n",
    "$$z_0=0,\\quad z_{n+1}=z_n^2+c,\\, n\\geq 1$$\n",
    "\n",
    "beschränkt bleibt. \n",
    "\n",
    "Offenbar müssen wir mit komplexen Zahlen rechnen. Die werden glücklicherweise direkt von python unterstützt. Eine komplexe Zahl definieren wir durch das Anhängen von <code>j</code> an eine Zahl. (Warum <code>j</code> und nicht <code>i</code>? Keine Ahnung, aber $j$ ist in den Ingenieurswissenschaften durchaus gebräuchlich.) Achtung: es muss immer eine Zahl direkt vor <code>j</code> stehen, dh, $i=\\sqrt{-1}$ muss als <code>1j</code> geschrieben werden.  "
   ]
  },
  {
   "cell_type": "code",
   "execution_count": null,
   "id": "22c03813-4378-4056-85b8-7dd50b3476a4",
   "metadata": {},
   "outputs": [],
   "source": [
    "1j**2"
   ]
  },
  {
   "cell_type": "markdown",
   "id": "97848416-4240-4795-9d71-974074d5c2ca",
   "metadata": {},
   "source": [
    "Mit komplexen Zahlen kann ganz normal gerechnet werden. Verifizieren wir, dass $z^*=1+i$ eine Nullstelle von $f(z)=z^2-2z+2$ ist."
   ]
  },
  {
   "cell_type": "code",
   "execution_count": null,
   "id": "93b1ee43-b773-4406-a188-eade8830f46a",
   "metadata": {},
   "outputs": [],
   "source": [
    "def f(z):\n",
    "    return z**2-2*z+2\n",
    "\n",
    "f(1+1j)==0"
   ]
  },
  {
   "cell_type": "markdown",
   "id": "145c6e08-ba7a-4738-a91f-c2d99dd4dbc3",
   "metadata": {},
   "source": [
    "Natürlich können wir uns Realteil, Imaginärteil und den Betrag einer komplexen Zahl ausgeben lassen. Wir nutzen dazu gleich die entsprechenden <code>numpy</code>-Funktionen, weil die auch auf *arrays* von komplexen Zahlen anwendbar sind. "
   ]
  },
  {
   "cell_type": "code",
   "execution_count": null,
   "id": "fc5bff14-152c-415f-8e6f-5a515cd2b914",
   "metadata": {},
   "outputs": [],
   "source": [
    "z=1+42j\n",
    "np.real(z),np.imag(z),np.absolute(z)"
   ]
  },
  {
   "cell_type": "markdown",
   "id": "a66dab77-7751-4fd3-8caa-61e292148ee7",
   "metadata": {},
   "source": [
    "Wir versuchen nun heraus zu finden, welche der Punkte $c=u+vi$ mit $u\\in [a,b],\\, v\\in[c,d]$ in der Mandelbrot-Menge liegen. Genau wie ob benutzen wir <code>np.meshgrid</code>, um ein 2-dimensionales array mit all den komplexen Zahlen, die wir austesten wollen, zu erhalten."
   ]
  },
  {
   "cell_type": "code",
   "execution_count": null,
   "id": "837b93ac-96b8-43c8-af0b-2d5d073aa414",
   "metadata": {},
   "outputs": [],
   "source": [
    "reals=np.linspace(-2,1,500)  # die Realteile nehmen wir aus [-2,1]\n",
    "imags=np.linspace(-1.5,1.5,500) # die Imaginärteile aus [-1.5,1.5]\n",
    "rr,ii=np.meshgrid(reals,imags)\n",
    "\n",
    "c=rr+ii*1j # dies sind unsere Testpunkte"
   ]
  },
  {
   "cell_type": "markdown",
   "id": "dda47621-c167-48fe-9c23-b667dcdd1b7a",
   "metadata": {},
   "source": [
    "Nun, die Iteration. Wir machen 1000 Schritte. Das erscheint exzessiv, geht aber fix."
   ]
  },
  {
   "cell_type": "code",
   "execution_count": null,
   "id": "35ba43de-b8b0-4c81-96db-34b22e1f99b5",
   "metadata": {},
   "outputs": [],
   "source": [
    "z=c\n",
    "for _ in range(1000):\n",
    "    z=z**2+c\n",
    "\n",
    "absolute_values=np.absolute(z)"
   ]
  },
  {
   "cell_type": "markdown",
   "id": "4ace58b9-5c79-468e-80cf-7d5957ec10d1",
   "metadata": {},
   "source": [
    "Ah, ein paar Warnung. Das war zu erwarten, denn die $z_n$ für Werte außerhalb der Menge wachsen unbeschränkt. Die Mandelbrot-Menge besteht aus all den Werten, für die die Iteration beschränkt bleibt. Wir überprüfen einfach, ob der Betrag von <code>z</code> endlich ist. Wir nutzen <code>np.where(some_condition,yes_value,no_value)</code>. Hier ist eine Demonstration:"
   ]
  },
  {
   "cell_type": "code",
   "execution_count": null,
   "id": "11e83688-9398-4a3a-a55a-7820fca884b3",
   "metadata": {},
   "outputs": [],
   "source": [
    "A=np.arange(12).reshape(4,3)\n",
    "np.where(A % 2==0, A, -27)"
   ]
  },
  {
   "cell_type": "markdown",
   "id": "06996aa0-adb5-4e15-9fd5-d3d4cbe09c62",
   "metadata": {},
   "source": [
    "Dort, wo die Bedingung erfüllt ist (hier: der Eintrag von <code>A</code> ist gerade), wird der <code>yes_value</code> hinein geschrieben. Dort wo die Bedingung falsch ist, erscheint der <code>no_value</code>.\n",
    "\n",
    "Wir wenden das nun auf <code>absolute_values</code> an und plotten anschließend die Matrix."
   ]
  },
  {
   "cell_type": "code",
   "execution_count": null,
   "id": "849f3911-0d63-43a5-b1a7-4268b785f67c",
   "metadata": {},
   "outputs": [],
   "source": [
    "M=np.where(absolute_values<math.inf,1,0)\n",
    "\n",
    "fig,ax=plt.subplots(figsize=(5,5))\n",
    "ax.imshow(M,cmap='binary')\n",
    "ax.axis('off')"
   ]
  },
  {
   "cell_type": "markdown",
   "id": "103b6c8f-f994-4b90-8563-831a69360c98",
   "metadata": {},
   "source": [
    "Dies war nicht der effizienteste Weg, um die Menge zu berechnen. Wen's interessiert, [hier](https://en.wikipedia.org/wiki/Plotting_algorithms_for_the_Mandelbrot_set) gibt's mehr zu Berechnung der Mandelbrot-Menge.\n",
    "\n",
    "Und noch etwas. Dadurch, dass wir <code>ax.imshow</code> verwenden, verlieren wir die sinnvolle Achsenbezeichnungen. Eine alternative ist <code>ax.contourf</code>, eine Methode mit der Funktionen $\\mathbb R^2\\to\\mathbb R$ dargestellt werden können. Hier ist ein Beispiel."
   ]
  },
  {
   "cell_type": "code",
   "execution_count": null,
   "id": "ebe06018-3e97-4e0a-b9ea-18148cc524c7",
   "metadata": {},
   "outputs": [],
   "source": [
    "fig,ax=plt.subplots(figsize=(4,4))\n",
    "ax.contourf(rr,ii,M,cmap='binary')"
   ]
  }
 ],
 "metadata": {
  "kernelspec": {
   "display_name": "Python 3 (ipykernel)",
   "language": "python",
   "name": "python3"
  },
  "language_info": {
   "codemirror_mode": {
    "name": "ipython",
    "version": 3
   },
   "file_extension": ".py",
   "mimetype": "text/x-python",
   "name": "python",
   "nbconvert_exporter": "python",
   "pygments_lexer": "ipython3",
   "version": "3.12.7"
  }
 },
 "nbformat": 4,
 "nbformat_minor": 5
}

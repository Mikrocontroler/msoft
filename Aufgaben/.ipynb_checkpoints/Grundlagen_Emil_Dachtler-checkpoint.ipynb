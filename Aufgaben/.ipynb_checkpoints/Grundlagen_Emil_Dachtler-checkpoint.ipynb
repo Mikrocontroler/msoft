{
 "cells": [
  {
   "cell_type": "markdown",
   "id": "c68f2512-87d1-4bd6-8afb-74eb9466e260",
   "metadata": {
    "slideshow": {
     "slide_type": ""
    },
    "tags": []
   },
   "source": [
    "# Grundlagen\n",
    "\n",
    "Wir machen hier die allerersten Schritte mit Python und Colab. Wenn Sie das erste Mal hier sind, klicken Sie doch auf das folgende Video für eine Kurzeinführung in Colab.  \n",
    "\n",
    "<center>\n",
    "<a href=\"https://youtu.be/A_Lc_Ic84cg\" target=\"_blank\">\n",
    "<img src=\"data:image/png;base64,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\" style=\"border:5px solid #515A5A; padding:3px; margin:5px\">\n",
    "</a>\n",
    "</center>\n",
    "\n",
    "Wichtig:\n",
    "* Erst wenn Sie das *play*-Symbol drücken, wird die jeweilige Zelle ausgeführt. (Alternativ können Sie über das Menu gleich alle Zellen ausführen lassen.)\n",
    "* Wenn Sie mit dem Code arbeiten und hier und da ändern, sammeln sich eventuell im Hintergrund diverse Variablen und Variablenbelegungen an, die im Zweifelsfall zu merkwürdigen Ergebnissen führen. Starten Sie daher ab und zu die Laufzeit (den kernel) neu. Das geht ebenfalls übers Menu.\n",
    "* **Vor Abgabe** starten Sie ebenfalls die Laufzeit noch einmal neu und lassen alle Zellen ausführen (->Menu)."
   ]
  },
  {
   "cell_type": "markdown",
   "id": "efac3fcc-9346-4622-af51-01291193b6f5",
   "metadata": {},
   "source": [
    "Tradition gebietet es, mit *Hello world* anzufangen. Einzige Besonderheit hier: Strings in python können mit doppelten oder einfachen Anführungszeichen definiert werden -- macht keinen Unterschied. "
   ]
  },
  {
   "cell_type": "code",
   "execution_count": 1,
   "id": "0404157f-fa7b-4801-b013-f713c25d9ec3",
   "metadata": {},
   "outputs": [
    {
     "name": "stdout",
     "output_type": "stream",
     "text": [
      "Hello world!\n",
      "Hello world!\n"
     ]
    }
   ],
   "source": [
    "print(\"Hello world!\")\n",
    "print('Hello world!')"
   ]
  },
  {
   "cell_type": "markdown",
   "id": "a219fc78-97be-4e3d-b878-d589eb0c53c3",
   "metadata": {},
   "source": [
    "Im Gegensatz zu *java* oder *C*, muss der Typ von Variablen nicht deklariert werden. Dh, wenn wir eine Variable verwenden wollen, so weisen wir ihr einfach einen Wert zu und können sie dann verwenden. "
   ]
  },
  {
   "cell_type": "code",
   "execution_count": 2,
   "id": "0ec0835c-4740-4e03-b6ae-4e1a3bf26db1",
   "metadata": {},
   "outputs": [
    {
     "name": "stdout",
     "output_type": "stream",
     "text": [
      "42\n"
     ]
    }
   ],
   "source": [
    "x=42\n",
    "print(x)"
   ]
  },
  {
   "cell_type": "markdown",
   "id": "6e051e11-a322-4fba-b14c-78e8bad6189a",
   "metadata": {},
   "source": [
    "Hier ist eine Variable, die einen String enthält:"
   ]
  },
  {
   "cell_type": "code",
   "execution_count": 3,
   "id": "1fa98eb9-8810-442b-8acf-8b16c84ada23",
   "metadata": {},
   "outputs": [
    {
     "data": {
      "text/plain": [
       "'some string'"
      ]
     },
     "execution_count": 3,
     "metadata": {},
     "output_type": "execute_result"
    }
   ],
   "source": [
    "s='some string'\n",
    "s"
   ]
  },
  {
   "cell_type": "markdown",
   "id": "1baad8f1-baf8-424a-8b21-2eb6911c66e9",
   "metadata": {},
   "source": [
    "Den Typ einer Variable erhalten wir mit dem eingebauten Befehl <code>type</code>:"
   ]
  },
  {
   "cell_type": "code",
   "execution_count": 4,
   "id": "678095cf-3fad-4020-9d89-ae4621f62e32",
   "metadata": {},
   "outputs": [
    {
     "data": {
      "text/plain": [
       "(int, str)"
      ]
     },
     "execution_count": 4,
     "metadata": {},
     "output_type": "execute_result"
    }
   ],
   "source": [
    "type(x),type(s)"
   ]
  },
  {
   "cell_type": "markdown",
   "id": "1c766ead-6087-4e3d-9955-682622431a50",
   "metadata": {},
   "source": [
    "Weitere Typen von Variable sind <code>float</code> (Fließkommazahlen, also 1.2345), <code>bool</code> (*boolean*, also entweder <code>True</code> oder <code>False</code>) und viele weitere, insbesondere selbstdefinierte Typen."
   ]
  },
  {
   "cell_type": "code",
   "execution_count": 5,
   "id": "b4ca7853-da16-499f-add1-a29ba8683f7f",
   "metadata": {},
   "outputs": [
    {
     "data": {
      "text/plain": [
       "(float, bool)"
      ]
     },
     "execution_count": 5,
     "metadata": {},
     "output_type": "execute_result"
    }
   ],
   "source": [
    "f=1.2345\n",
    "b=True\n",
    "type(f),type(b)"
   ]
  },
  {
   "cell_type": "markdown",
   "id": "3eab6b71-c152-4e4b-91f4-0a7138156096",
   "metadata": {},
   "source": [
    "Natürlich gibt's die üblichen arithmetischen Operatoren: +-*/"
   ]
  },
  {
   "cell_type": "code",
   "execution_count": 6,
   "id": "32edb105-cbd1-4e43-8adf-faa3faa368b2",
   "metadata": {},
   "outputs": [
    {
     "data": {
      "text/plain": [
       "0.0"
      ]
     },
     "execution_count": 6,
     "metadata": {},
     "output_type": "execute_result"
    }
   ],
   "source": [
    "(1+2-3)*4/5"
   ]
  },
  {
   "cell_type": "markdown",
   "id": "c4a167a0-99fd-4490-97ad-d87d2081ee2b",
   "metadata": {},
   "source": [
    "Fürs Potenzieren gibt's den <code>**</code>-Operator: "
   ]
  },
  {
   "cell_type": "code",
   "execution_count": 7,
   "id": "7840ea63-592e-4ab1-bb79-33b657e64663",
   "metadata": {},
   "outputs": [
    {
     "data": {
      "text/plain": [
       "1024"
      ]
     },
     "execution_count": 7,
     "metadata": {},
     "output_type": "execute_result"
    }
   ],
   "source": [
    "2**10"
   ]
  },
  {
   "cell_type": "markdown",
   "id": "2a1456b9-2abb-4a45-9ce4-b19356639596",
   "metadata": {},
   "source": [
    "Den Rest beim Teilen (mod) erhält man mit %, Ganzzahlteilung funktioniert mit //. "
   ]
  },
  {
   "cell_type": "code",
   "execution_count": 8,
   "id": "929be0fd-08a3-4e8b-9e75-5979a331cf2a",
   "metadata": {},
   "outputs": [
    {
     "data": {
      "text/plain": [
       "(2, 3)"
      ]
     },
     "execution_count": 8,
     "metadata": {},
     "output_type": "execute_result"
    }
   ],
   "source": [
    "11%3,11//3"
   ]
  },
  {
   "cell_type": "markdown",
   "id": "29d7acf7-d509-4f8e-8573-c255ea0bd49d",
   "metadata": {},
   "source": [
    "Was die Operatoren bewirken, hängt vom Datentyp ab. ZB können wir auch Strings addieren."
   ]
  },
  {
   "cell_type": "code",
   "execution_count": 9,
   "id": "cc6ec251-15e4-4d54-8938-062f9b19c86d",
   "metadata": {},
   "outputs": [
    {
     "name": "stdout",
     "output_type": "stream",
     "text": [
      "python futtert Matlab zum Frühstück\n"
     ]
    }
   ],
   "source": [
    "first_string=\"python futtert\"\n",
    "second_string=\"Matlab zum Frühstück\"\n",
    "result=first_string+\" \"+second_string\n",
    "print(result)"
   ]
  },
  {
   "cell_type": "markdown",
   "id": "fe94dea2-2533-4f13-9afc-0f2d87951c88",
   "metadata": {},
   "source": [
    "Zum Vergleichen gibt's ==,!=,>=,<=,<,>. Das Ergebnis ist entweder <code>True</code> oder <code>False</code>."
   ]
  },
  {
   "cell_type": "code",
   "execution_count": 10,
   "id": "74dadab4-d5dd-4c84-9668-97d6962b08f5",
   "metadata": {},
   "outputs": [
    {
     "data": {
      "text/plain": [
       "False"
      ]
     },
     "execution_count": 10,
     "metadata": {},
     "output_type": "execute_result"
    }
   ],
   "source": [
    "x=12\n",
    "y=13\n",
    "x==y"
   ]
  },
  {
   "cell_type": "code",
   "execution_count": 11,
   "id": "bb2c4d21-9afd-43e9-9d7c-0b527882e78b",
   "metadata": {},
   "outputs": [
    {
     "data": {
      "text/plain": [
       "True"
      ]
     },
     "execution_count": 11,
     "metadata": {},
     "output_type": "execute_result"
    }
   ],
   "source": [
    "some_string=\"fortytwo\"\n",
    "some_string=='fortytwo'"
   ]
  },
  {
   "cell_type": "code",
   "execution_count": 12,
   "id": "67d0ab6f-7f6b-4005-b853-8f011a11eb4f",
   "metadata": {},
   "outputs": [
    {
     "data": {
      "text/plain": [
       "False"
      ]
     },
     "execution_count": 12,
     "metadata": {},
     "output_type": "execute_result"
    }
   ],
   "source": [
    "12!=12"
   ]
  },
  {
   "cell_type": "code",
   "execution_count": 13,
   "id": "251ecc3b-4f31-4cb8-886e-6e9162416ea9",
   "metadata": {},
   "outputs": [
    {
     "data": {
      "text/plain": [
       "False"
      ]
     },
     "execution_count": 13,
     "metadata": {},
     "output_type": "execute_result"
    }
   ],
   "source": [
    "1234<=234"
   ]
  },
  {
   "cell_type": "markdown",
   "id": "4781c84c-44e8-4d5e-b967-ff0621a2a048",
   "metadata": {},
   "source": [
    "Die logischen Verknüpfungen <code>and</code> und <code>or</code> erlauben kompliziertere Ausdrücke."
   ]
  },
  {
   "cell_type": "code",
   "execution_count": 14,
   "id": "4f49e543-123d-41f8-bcb3-bb187f80f917",
   "metadata": {},
   "outputs": [
    {
     "data": {
      "text/plain": [
       "True"
      ]
     },
     "execution_count": 14,
     "metadata": {},
     "output_type": "execute_result"
    }
   ],
   "source": [
    "(x!=y) and (some_string=='fortytwo')"
   ]
  },
  {
   "cell_type": "markdown",
   "id": "22a89a8f-0884-4995-9961-0599a565ccb1",
   "metadata": {},
   "source": [
    "[Hier](https://www.w3schools.com/python/python_operators.asp) finden Sie die Operatoren in Python in tabellarischer Form.\n",
    "\n",
    "Kommentare werden mit # gemacht. Alles in einer Zeile nach # ist ein Kommentar und wird ignoriert."
   ]
  },
  {
   "cell_type": "code",
   "execution_count": 15,
   "id": "86bdd859-6b6e-414a-82e3-19fd54ea6146",
   "metadata": {},
   "outputs": [],
   "source": [
    "some_variable=12.23 # dies ist ein Kommentar \n",
    "\n",
    "# Eine ganze Zeile kann auch ein Kommentar sein \n",
    "### Oft setze ich gleich drei #. Das macht keinen Unterschied und ist rein kosmetisch."
   ]
  },
  {
   "cell_type": "markdown",
   "id": "9443df26-2486-46bc-89ed-132c43196fbe",
   "metadata": {},
   "source": [
    "## Mathematische Funktionen\n",
    "\n",
    "Python bietet eine Reihe von (mathematischen) Funktionen an, zB <code>round</code> und <code>abs</code>. [Hier](https://docs.python.org/3/library/functions.html) ist eine Liste aller direkt verfügbarer Funktionen."
   ]
  },
  {
   "cell_type": "code",
   "execution_count": 16,
   "id": "cc9b0868-660d-43dd-9dbf-50cfd03e5ff6",
   "metadata": {},
   "outputs": [
    {
     "data": {
      "text/plain": [
       "(3, 42)"
      ]
     },
     "execution_count": 16,
     "metadata": {},
     "output_type": "execute_result"
    }
   ],
   "source": [
    "round(3.123),abs(-42)"
   ]
  },
  {
   "cell_type": "markdown",
   "id": "0e3d2c9b-b774-4d9b-a21f-4d811ab49ef4",
   "metadata": {},
   "source": [
    "Neben den arithmetischen Grundoperation gibt es natürlich weiterführende mathematische Operationen. Vielen von diesen sind in dem *package* <code>math</code> enthalten. Damit wir das Paket nutzen können, müssen wir es importieren. Das geschieht mit <code>import math</code> (muss nur einmal irgendwo im Notebook ausgeführt werden). Die darin enthaltenen Funktionen und Konstanten sprechen wir dann so an:"
   ]
  },
  {
   "cell_type": "code",
   "execution_count": 17,
   "id": "4b4bf70c-944c-492d-84f3-f14faf9c0846",
   "metadata": {},
   "outputs": [
    {
     "data": {
      "text/plain": [
       "3.141592653589793"
      ]
     },
     "execution_count": 17,
     "metadata": {},
     "output_type": "execute_result"
    }
   ],
   "source": [
    "import math\n",
    "\n",
    "math.pi"
   ]
  },
  {
   "cell_type": "markdown",
   "id": "ed5e1858-55ad-4025-83f1-143099266da3",
   "metadata": {},
   "source": [
    "Funktionen werden mit nachgestellten Klammern aufgerufen -- ganz wie in anderen Sprachen."
   ]
  },
  {
   "cell_type": "code",
   "execution_count": 18,
   "id": "33ab713c-cc23-46bc-a717-e0ac84189f1f",
   "metadata": {},
   "outputs": [
    {
     "data": {
      "text/plain": [
       "1.4142135623730951"
      ]
     },
     "execution_count": 18,
     "metadata": {},
     "output_type": "execute_result"
    }
   ],
   "source": [
    "math.sqrt(2) # Wurzel 2"
   ]
  },
  {
   "cell_type": "code",
   "execution_count": 19,
   "id": "9fb353fb-dad7-4fc6-996d-6d8e3c4b767b",
   "metadata": {},
   "outputs": [
    {
     "data": {
      "text/plain": [
       "-1"
      ]
     },
     "execution_count": 19,
     "metadata": {},
     "output_type": "execute_result"
    }
   ],
   "source": [
    "round(math.cos(math.pi))"
   ]
  },
  {
   "cell_type": "markdown",
   "id": "ea71f065-d255-48ea-8797-bb5342af678e",
   "metadata": {},
   "source": [
    "[Hier](https://docs.python.org/3/library/math.html) ist die Liste aller Konstanten und Funktionen im <code>math</code> package. Dort ist auch unendlich definiert:"
   ]
  },
  {
   "cell_type": "code",
   "execution_count": 20,
   "id": "5ad5a623-4abe-465c-8603-738d58e056cb",
   "metadata": {},
   "outputs": [
    {
     "data": {
      "text/plain": [
       "True"
      ]
     },
     "execution_count": 20,
     "metadata": {},
     "output_type": "execute_result"
    }
   ],
   "source": [
    "10**100<=math.inf"
   ]
  },
  {
   "cell_type": "markdown",
   "id": "4bfcf298-f990-4586-9a41-029822a4509b",
   "metadata": {},
   "source": [
    "## Listen \n",
    "\n",
    "Listen werden direkt von python unterstützt. Listen werden mit eckigen Klammern definiert:"
   ]
  },
  {
   "cell_type": "code",
   "execution_count": 21,
   "id": "da5f3daf-1570-489e-a6d3-02f7049a7060",
   "metadata": {},
   "outputs": [
    {
     "data": {
      "text/plain": [
       "[1, 2, 3, 4, 42]"
      ]
     },
     "execution_count": 21,
     "metadata": {},
     "output_type": "execute_result"
    }
   ],
   "source": [
    "this_is_a_list=[1,2,3,4,42]\n",
    "this_is_a_list"
   ]
  },
  {
   "cell_type": "markdown",
   "id": "4aabead0-cfd8-45d7-95a8-e9e865836b9c",
   "metadata": {},
   "source": [
    "Auf die Elemente einer Liste greift man wiederum mit eckigen Klammern zu: <code>this_is_a_list[index]</code> Achtung: python fängt beim Index bei Null an zu zählen. (Tatsächlich sind R und Matlab da eher die Ausnahme, in den meisten Programmiersprachen beginnt der Index bei 0.) "
   ]
  },
  {
   "cell_type": "code",
   "execution_count": 22,
   "id": "974a8345-6094-45e5-84fd-9f0c629a8a47",
   "metadata": {},
   "outputs": [
    {
     "data": {
      "text/plain": [
       "4"
      ]
     },
     "execution_count": 22,
     "metadata": {},
     "output_type": "execute_result"
    }
   ],
   "source": [
    "this_is_a_list[3]"
   ]
  },
  {
   "cell_type": "markdown",
   "id": "679a8437-b147-41d9-ace8-4509a179d2fd",
   "metadata": {},
   "source": [
    "Hier ist ein nettes feature: Mit negativen Indizes greift man von hinten auf die Liste zu, mit <code>this_is_a_list[-1]</code> zB bekommen wir das letzte Element der Liste. Listen akzeptieren übrigens beliebige Variablentypen als Elemente."
   ]
  },
  {
   "cell_type": "code",
   "execution_count": 23,
   "id": "7449c1c7-9685-4cdc-a7d2-251e768b4415",
   "metadata": {},
   "outputs": [
    {
     "data": {
      "text/plain": [
       "'four'"
      ]
     },
     "execution_count": 23,
     "metadata": {},
     "output_type": "execute_result"
    }
   ],
   "source": [
    "some_list=[0,'one',2,3.0,'four','more than four']\n",
    "some_list[-2]"
   ]
  },
  {
   "cell_type": "markdown",
   "id": "78abc842-bd72-4ec8-9cda-618edc9b6333",
   "metadata": {},
   "source": [
    "Listeneinträge kann man auf ähnliche Art und Weise ändern:\n",
    "<center>\n",
    "<img src=\"data:image/png;base64,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\"/>\n",
    "</center>"
   ]
  },
  {
   "cell_type": "code",
   "execution_count": 24,
   "id": "c63bb73a-f397-41e3-ade1-1c48415dc389",
   "metadata": {},
   "outputs": [
    {
     "data": {
      "text/plain": [
       "[0, 'one', 10000, 3.0, 'four', 'more than four']"
      ]
     },
     "execution_count": 24,
     "metadata": {},
     "output_type": "execute_result"
    }
   ],
   "source": [
    "some_list[2]=10000\n",
    "some_list"
   ]
  },
  {
   "cell_type": "markdown",
   "id": "4d555d34-8642-4eca-8d26-03d735510466",
   "metadata": {},
   "source": [
    "Ein sehr nützliches feature: Es ist möglich nur einen Teil der Liste zu betrachten. Dies geht mit dem *slicing*-Operator, dem Doppelpunkt, und zwar so:"
   ]
  },
  {
   "cell_type": "code",
   "execution_count": 25,
   "id": "20603f7a-39de-4db7-a34a-a61d7c79754d",
   "metadata": {},
   "outputs": [
    {
     "data": {
      "text/plain": [
       "['one', 10000, 3.0]"
      ]
     },
     "execution_count": 25,
     "metadata": {},
     "output_type": "execute_result"
    }
   ],
   "source": [
    "some_list[1:4]"
   ]
  },
  {
   "cell_type": "markdown",
   "id": "93979bd2-c706-4bef-9514-2a565217187c",
   "metadata": {},
   "source": [
    "Man sieht <code>some_list[a:b]</code> liefert die Teilliste mit den Indizes $a,a+1,...,b-1$. Warum **exklusive** dem Element mit Index $b$? Weil, man so Listen gut partitionieren kann (wenn $a$ oder $b$ weggelassen wird, so wird der Beginn für $a$ angenommen und das Ende für $b$):"
   ]
  },
  {
   "cell_type": "code",
   "execution_count": 26,
   "id": "5a237d35-07cb-4320-bde0-94624ee96a06",
   "metadata": {},
   "outputs": [
    {
     "data": {
      "text/plain": [
       "([0, 'one', 10000], [3.0, 'four', 'more than four'])"
      ]
     },
     "execution_count": 26,
     "metadata": {},
     "output_type": "execute_result"
    }
   ],
   "source": [
    "some_list[:3],some_list[3:]"
   ]
  },
  {
   "cell_type": "markdown",
   "id": "f02ca8e6-be1a-49fe-8d65-be5cdd9da216",
   "metadata": {},
   "source": [
    "Oft braucht man die Länge einer Liste -- die erhalten wir mit <code>len</code>."
   ]
  },
  {
   "cell_type": "code",
   "execution_count": 27,
   "id": "88ec4136-1cf9-4f45-8217-f087bea1f519",
   "metadata": {},
   "outputs": [
    {
     "data": {
      "text/plain": [
       "6"
      ]
     },
     "execution_count": 27,
     "metadata": {},
     "output_type": "execute_result"
    }
   ],
   "source": [
    "len(some_list)"
   ]
  },
  {
   "cell_type": "markdown",
   "id": "d58001db-28b4-46e9-9d3c-b408f850c0da",
   "metadata": {},
   "source": [
    "Quasi alles in python ist ein Objekt, so auch die Listen. Objekte können ganz eigene Methoden und Eigenschaften haben -- auf diese wird mit dem Punkt-Operator zugegriffen. ZB besitzen Listen eine Kopiermethode, mit der eine Kopie der Liste gemacht wird. Das geht so."
   ]
  },
  {
   "cell_type": "code",
   "execution_count": 28,
   "id": "3f7c8cdd-d8e0-4bf4-8363-b6b44549facf",
   "metadata": {},
   "outputs": [
    {
     "data": {
      "text/plain": [
       "(['a', 'b', 'c', 'd'], ['a', 'b', 'c', 'blubb'])"
      ]
     },
     "execution_count": 28,
     "metadata": {},
     "output_type": "execute_result"
    }
   ],
   "source": [
    "again_a_list=['a','b','c','blubb']\n",
    "L=again_a_list.copy()\n",
    "L[-1]='d'\n",
    "L,again_a_list"
   ]
  },
  {
   "cell_type": "markdown",
   "id": "eb847448-42ff-4feb-a7d3-c0021b276409",
   "metadata": {},
   "source": [
    "Eine andere nützliche Listenmethode ist <code>append</code>, mit dieser kann ein Element hinten rangehängt werden. (Wenn das Element an anderer Stelle eingefügt werden soll, so verwenden wir <code>insert</code>.)"
   ]
  },
  {
   "cell_type": "code",
   "execution_count": 29,
   "id": "ba84635d-368a-435b-bc41-9ad7ed75967f",
   "metadata": {},
   "outputs": [
    {
     "data": {
      "text/plain": [
       "['a', 'b', 'c', 'blubb', 'blubba']"
      ]
     },
     "execution_count": 29,
     "metadata": {},
     "output_type": "execute_result"
    }
   ],
   "source": [
    "again_a_list.append('blubba')\n",
    "again_a_list"
   ]
  },
  {
   "cell_type": "markdown",
   "id": "95af4b73-7d8f-4c1c-8192-08f8481bc324",
   "metadata": {},
   "source": [
    "Listen können geschachtelt werden, dh, Listen können Listen als Elemente enthalten."
   ]
  },
  {
   "cell_type": "code",
   "execution_count": 30,
   "id": "5723341e-8be6-4af6-bd6e-9dbee9c88327",
   "metadata": {},
   "outputs": [
    {
     "data": {
      "text/plain": [
       "['a', 'b', 'c', 'blubb', 'blubba', [1, 2, 3]]"
      ]
     },
     "execution_count": 30,
     "metadata": {},
     "output_type": "execute_result"
    }
   ],
   "source": [
    "again_a_list.append([1,2,3])\n",
    "again_a_list"
   ]
  },
  {
   "cell_type": "markdown",
   "id": "d7969e9e-86b1-42aa-b2d0-ff3abfd361ed",
   "metadata": {},
   "source": [
    "Listen bieten noch einige weitere eingebaute Methoden (zB sortieren, vereinigen, löschen). Diese finden sich [hier.](https://docs.python.org/3/tutorial/datastructures.html)"
   ]
  },
  {
   "cell_type": "markdown",
   "id": "182a58e3-f409-4f08-9a0c-dfee57464a00",
   "metadata": {},
   "source": [
    "## Blöcke, if, for\n",
    "Wie andere Sprachen hat python ebenfalls Schleifen und if-Abfragen. Schleifen und if-Abfragen definieren ganz natürlich *Programmblöcke*, nämlich das Innere einer Schleife oder der Block, der ausgeführt werden, wenn die die if-Bedingung wahr ist. Andere Sprachen klammern diese Blöcke ein, zB mit <code>{...}</code>. Python macht das nicht, sondern verwendet Einrückungen."
   ]
  },
  {
   "cell_type": "code",
   "execution_count": 31,
   "id": "b64090b7-12b0-4de9-b0e9-fdaec6d56b5a",
   "metadata": {},
   "outputs": [
    {
     "name": "stdout",
     "output_type": "stream",
     "text": [
      "Achtung: n ist die Antwort!\n",
      "Wirklich!\n",
      "Was ist die Frage?\n"
     ]
    }
   ],
   "source": [
    "n=42\n",
    "if n==42:\n",
    "    print(\"Achtung: n ist die Antwort!\")\n",
    "    print(\"Wirklich!\")\n",
    "    print(\"Was ist die Frage?\")\n",
    "else:\n",
    "    print(\"n ist irgendwas\")"
   ]
  },
  {
   "cell_type": "markdown",
   "id": "60809513-c24f-4115-bf75-ba00724b6501",
   "metadata": {},
   "source": [
    "Weil die drei <code>print</code>-Anweisungen eingerückt sind und *gleich* weit eingerückt sind, gehören sie alle zum gleichen Block, nämlich dem, der ausgeführt wird, wenn die if-Bedingung wahr ist. "
   ]
  },
  {
   "cell_type": "markdown",
   "id": "8bbfd034-07c1-4c39-8920-2204de803213",
   "metadata": {},
   "source": [
    "<code>if</code> erlaubt natürlich mehrere Fälle."
   ]
  },
  {
   "cell_type": "code",
   "execution_count": 32,
   "id": "b8c3934c-dc0c-4d5d-8abb-e05174858021",
   "metadata": {},
   "outputs": [
    {
     "name": "stdout",
     "output_type": "stream",
     "text": [
      "n gerade, aber nicht durch 4 teilbar\n"
     ]
    }
   ],
   "source": [
    "n=10\n",
    "if n%4==0:\n",
    "    print(\"n durch 4 teilbar\")\n",
    "elif n%4==2:\n",
    "    print(\"n gerade, aber nicht durch 4 teilbar\")\n",
    "else:\n",
    "    print(\"n ungerade\")"
   ]
  },
  {
   "cell_type": "markdown",
   "id": "96052ca6-941b-4dda-94bb-4deb9bb631c0",
   "metadata": {},
   "source": [
    "Python hat zwei Schleifen-Konstrukte, <code>for</code> und <code>while</code>. "
   ]
  },
  {
   "cell_type": "code",
   "execution_count": 33,
   "id": "3bdb2fd0-a691-4146-aa29-17755f2b420f",
   "metadata": {},
   "outputs": [
    {
     "name": "stdout",
     "output_type": "stream",
     "text": [
      "** a **\n",
      "** bee **\n",
      "** see **\n",
      "** omega **\n"
     ]
    }
   ],
   "source": [
    "a_list=['a','bee','see','omega']\n",
    "for element in a_list:\n",
    "    print(\"** \"+element+\" **\")"
   ]
  },
  {
   "cell_type": "markdown",
   "id": "12bd1acb-d439-476f-a46c-e7582860b0c8",
   "metadata": {},
   "source": [
    "Mit weiteren Einrückungen können verschiedene Blöcke geschachtelt werden, zB zwei <code>for</code>-Schleifen, eine innere und eine äußere, oder eine <code>if</code>-Bedingung in einer <code>for</code>-Schleife."
   ]
  },
  {
   "cell_type": "code",
   "execution_count": 34,
   "id": "05b29976-dd73-4dbe-8c27-240b2704ffe0",
   "metadata": {},
   "outputs": [
    {
     "name": "stdout",
     "output_type": "stream",
     "text": [
      "** bee **\n",
      "** see **\n",
      "** omega **\n"
     ]
    }
   ],
   "source": [
    "a_list=['a','bee','see','omega','z']\n",
    "for element in a_list:\n",
    "    if len(element)>1: \n",
    "        print(\"** \"+element+\" **\")"
   ]
  },
  {
   "cell_type": "markdown",
   "id": "3d642afe-277d-462c-b8ca-16cfecf1c9e8",
   "metadata": {},
   "source": [
    "Was müssen wir machen, wenn wir eine <code>for</code>-Schleife 7-mal ausführen wollen? Wir nutzen <code>range(7)</code>: Der Befehl erzeugt$^*$ die Liste <code>[0,1,2,3,4,5,6]</code>. "
   ]
  },
  {
   "cell_type": "code",
   "execution_count": 35,
   "id": "79f2c34d-4994-4ef2-9d1e-cb5e14c6870d",
   "metadata": {},
   "outputs": [
    {
     "name": "stdout",
     "output_type": "stream",
     "text": [
      "0\n",
      "1\n",
      "4\n",
      "9\n",
      "16\n",
      "25\n",
      "36\n"
     ]
    }
   ],
   "source": [
    "for i in range(7):\n",
    "    print(i**2)"
   ]
  },
  {
   "cell_type": "markdown",
   "id": "2fb31b3c-45b3-418a-8c1e-dd2612ae12c0",
   "metadata": {},
   "source": [
    "Wieso war da ein verdächtiges Sternchen an *erzeugt*? Weil <code>range(7)</code> nicht wirklich eine Liste mit den Zahlen $0,1,...,6$ erzeugt, sondern ein Objekt über das sich iterieren lässt. (Das hat Effizienzgründe.) Wenn wir wirklich so eine Liste haben wollen, müssen wir <code>list</code> darauf anwenden."
   ]
  },
  {
   "cell_type": "code",
   "execution_count": 36,
   "id": "3327850e-c392-457b-ae4e-c0279169b979",
   "metadata": {},
   "outputs": [
    {
     "data": {
      "text/plain": [
       "[0, 1, 2, 3, 4, 5]"
      ]
     },
     "execution_count": 36,
     "metadata": {},
     "output_type": "execute_result"
    }
   ],
   "source": [
    "list(range(6))"
   ]
  },
  {
   "cell_type": "markdown",
   "id": "51f4efb9-a120-4c72-b1fa-44437a30ee37",
   "metadata": {},
   "source": [
    "<code>range</code> hat noch mehr Funktionalität. Wir können zB den Anfang ändern..."
   ]
  },
  {
   "cell_type": "code",
   "execution_count": 37,
   "id": "077c14e9-8224-4bbe-a371-e699e38f5fdb",
   "metadata": {},
   "outputs": [
    {
     "data": {
      "text/plain": [
       "[2, 3, 4, 5]"
      ]
     },
     "execution_count": 37,
     "metadata": {},
     "output_type": "execute_result"
    }
   ],
   "source": [
    "list(range(2,6))"
   ]
  },
  {
   "cell_type": "markdown",
   "id": "3eec7e45-b86e-42b6-960d-f0141825623f",
   "metadata": {},
   "source": [
    "...und auch die Schrittweite:"
   ]
  },
  {
   "cell_type": "code",
   "execution_count": 38,
   "id": "39384e95-9930-4166-83ca-02abcc2038f7",
   "metadata": {},
   "outputs": [
    {
     "data": {
      "text/plain": [
       "[12, 15, 18, 21, 24, 27, 30, 33, 36, 39]"
      ]
     },
     "execution_count": 38,
     "metadata": {},
     "output_type": "execute_result"
    }
   ],
   "source": [
    "list(range(12,41,3))"
   ]
  },
  {
   "cell_type": "markdown",
   "id": "3a1c6c61-51bd-4889-bfef-50d3fcd6b77b",
   "metadata": {},
   "source": [
    "Oben haben wir die ersten 7 Quadratzahlen ausgegeben. In einer Liste geht dies auch einfacher mit [list comprehensions (Abschnitt 5.1.4)](https://docs.python.org/2/tutorial/datastructures.html)."
   ]
  },
  {
   "cell_type": "code",
   "execution_count": 39,
   "id": "698f2b50-1577-43ae-8f64-451a69a6ccb1",
   "metadata": {},
   "outputs": [
    {
     "data": {
      "text/plain": [
       "[0, 1, 4, 9, 16, 25, 36]"
      ]
     },
     "execution_count": 39,
     "metadata": {},
     "output_type": "execute_result"
    }
   ],
   "source": [
    "squares=[i**2 for i in range(7)]\n",
    "squares"
   ]
  },
  {
   "cell_type": "markdown",
   "id": "d02e731f-410c-425e-bfa9-7de0d338f131",
   "metadata": {},
   "source": [
    "Sehr nützlich ist dies auch im Zusammenhang mit dem eingebauten <code>sum</code>-Befehl, mit dem sich alle Elemente einer Liste summieren lassen. Hier ist zB eine elementare Summenformel:\n",
    "$$\n",
    "\\sum_{i=1}^{n}i^2=\\frac{n(n+1)(2n+1)}{6}\n",
    "$$\n",
    "Überprüfen wir, ob die wirklich stimmt!"
   ]
  },
  {
   "cell_type": "code",
   "execution_count": 40,
   "id": "d6a65ae7-2576-4baf-9ec8-f5b7f6d12e99",
   "metadata": {},
   "outputs": [
    {
     "data": {
      "text/plain": [
       "True"
      ]
     },
     "execution_count": 40,
     "metadata": {},
     "output_type": "execute_result"
    }
   ],
   "source": [
    "n=123\n",
    "squares=[i**2 for i in range(n+1)] # warum n+1? Weil range(n) nur bis n-1 geht\n",
    "sum(squares)==n*(n+1)*(2*n+1)/6"
   ]
  },
  {
   "cell_type": "markdown",
   "id": "4970e58a-ebfc-43e5-b694-1196336b8fc0",
   "metadata": {
    "nbgrader": {
     "grade": false,
     "grade_id": "cell-64409ab8890e714e",
     "locked": true,
     "schema_version": 3,
     "solution": false,
     "task": false
    }
   },
   "source": [
    "Welche Wert nimmt die Reihe\n",
    "$$\n",
    "\\sum_{n=1}^{\\infty}\\frac{1}{n^2}=??\n",
    "$$\n",
    "an? Dies ist das berühmte [Basler-Problem](https://de.wikipedia.org/wiki/Basler_Problem), das lange offen war, bis Super-Star Euler zeigte, dass die Reihe den Wert $\\frac{\\pi^2}{6}$ annimmt. (Das Ergebnis haut mich jedes mal um. Wo kommt denn $\\pi$ her? Und auch noch quadriert? Crazy.)\n",
    "\n",
    "Hier ist ein Plot mit den ersten Partialsummen. Die Konvergenz gegen $\\frac{\\pi^2}{6}$ ist recht zügig.\n",
    "<center>\n",
    "<img src=\"data:image/png;base64,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\" /></center>\n",
    "\n",
    "\n",
    "### Aufgabe: Basel\n",
    "Berechnen Sie die Teilsumme der ersten 123 Summanden und dann\n",
    "$$\n",
    "\\epsilon=\\left|\\sum_{n=1}^{123}\\frac{1}{n^2}-\\frac{\\pi^2}{6}\\right|\n",
    "$$\n",
    "Das Ergebnis soll in einer Variable namens <code>epsilon</code> gespeichert werden. Sie werden eventuell die Funktion <code>abs</code> brauchen und denken Sie an das <code>math</code>-Paket."
   ]
  },
  {
   "cell_type": "code",
   "execution_count": null,
   "id": "6ce418cd-78d9-4622-9ff0-71cede006179",
   "metadata": {
    "nbgrader": {
     "grade": false,
     "grade_id": "basel",
     "locked": false,
     "schema_version": 3,
     "solution": true,
     "task": false
    }
   },
   "outputs": [],
   "source": [
    "### BEGIN SOLUTION\n",
    "# Ihre Lösung hier\n",
    "b_s = []\n",
    "### END SOLUTION\n",
    "epsilon"
   ]
  },
  {
   "cell_type": "code",
   "execution_count": null,
   "id": "e342c115-3bcb-4667-802a-8f49ef9caadd",
   "metadata": {
    "nbgrader": {
     "grade": true,
     "grade_id": "basel-test",
     "locked": true,
     "points": 3,
     "schema_version": 3,
     "solution": false,
     "task": false
    }
   },
   "outputs": [],
   "source": [
    "### Dies ist eine TESTZELLE. \n",
    "### Wenn die Ausführung zu einem Fehler führt, haben Sie etwas falsch gemacht\n",
    "### Wenn bei Ausführung nichts passiert, dann ist Ihre Lösung richtig oder zumindest nicht grob falsch\n",
    "assert epsilon<0.01"
   ]
  },
  {
   "cell_type": "markdown",
   "id": "a2bcec49-5417-4d40-8f37-c1277cd31fb0",
   "metadata": {},
   "source": [
    "Wir haben nun auch alles an der Hand, um die ersten $n$ **Fibonacci-Zahlen** zu berechnen. Was waren noch die Fibonacci-Zahlen? Das ist die Folge $F_0,F_1,F_2,...$, die wie folgt definiert ist:\n",
    "$$\n",
    "\\begin{array}{l}\n",
    "F_0  =0\\\\\n",
    "F_1  =1\\\\\n",
    "F_n  = F_{n-1}+F_{n-2}\\quad\\textsf{ für }n\\geq 2\n",
    "\\end{array}\n",
    "$$\n"
   ]
  },
  {
   "cell_type": "code",
   "execution_count": null,
   "id": "1932ae13-9104-4860-8ebc-71b003b274a2",
   "metadata": {},
   "outputs": [],
   "source": [
    "n=10\n",
    "fib_seq=[0,1] # dies sind die Startwerte der Fibonacci-Folge\n",
    "for i in range(2,n+1): # wir starten bei i=2, da erst ab da die Rekursion greift\n",
    "    fib_seq.append(fib_seq[i-1]+fib_seq[i-2])\n",
    "fib_seq"
   ]
  },
  {
   "cell_type": "markdown",
   "id": "2e41d27b-dbaf-4b92-ba03-054567ff8b96",
   "metadata": {},
   "source": [
    "### Aufgabe: Pythagoreische Tripel\n",
    "\n",
    "<center>\n",
    "<img src=\"data:image/png;base64,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\"></center>\n",
    "\n",
    "Ein *Pythagoreisches Tripel* ist ein Tupel $(a,b,c)$ von natürlichen Zahlen, so dass $a^2+b^2=c^2$. Beispiele:\n",
    "* $3^2+4^2=5^2$, mit Tripel $(3,4,5)$\n",
    "* $5^2+12^2=13^2$, mit Tripel $(5,12,13)$\n",
    "  \n",
    "Suchen Sie alle Pythagoreischen Tripel mit $a,b\\leq 50$ und speichern Sie alle gefundenen Tripel in der Form <code>[a,b,c]</code> in einer Liste namens <code>triples</code>. Sie können $a\\leq b$ annehmen. \n",
    "\n",
    "Hinweise:\n",
    "* Verwenden Sie zwei geschachtelte <code>for</code>-Schleifen, eine für $a$ und eine für $b$.\n",
    "* Die Schleife für $b$ sollte $b$ die Werte $a,a+1,...,50$ annehmen lassen.\n",
    "* Wie können Sie prüfen, ob es ein $c\\in\\mathbb N$ gibt, so dass $a^2+b^2=c^2$? Indem Sie $\\sqrt{a^2+b^2}$ berechnen und schauen, ob das eine ganze Zahl ist. Das geht zB so: Runden Sie $\\sqrt{a^2+b^2}$ (mittels <code>round</code>), nennen Sie das Ergebnis $\\hat c$ und prüfen Sie, ob $\\hat c^2\\stackrel{?}{=}a^2+b^2$"
   ]
  },
  {
   "cell_type": "code",
   "execution_count": null,
   "id": "1a67f6ba-cac1-4001-a7a0-b86eeb4ad7ff",
   "metadata": {
    "nbgrader": {
     "grade": false,
     "grade_id": "cell-22d5f3016df451ab",
     "locked": false,
     "schema_version": 3,
     "solution": true,
     "task": false
    },
    "slideshow": {
     "slide_type": ""
    },
    "tags": []
   },
   "outputs": [],
   "source": [
    "triples=[]\n",
    "### BEGIN SOLUTION\n",
    "# Ihre Lösung hier\n",
    "### END SOLUTION\n",
    "triples"
   ]
  },
  {
   "cell_type": "code",
   "execution_count": null,
   "id": "25fdd687-da2c-4bc8-9c07-31ac0eee01c9",
   "metadata": {
    "nbgrader": {
     "grade": true,
     "grade_id": "cell-ae7f76b7ed250c7b",
     "locked": true,
     "points": 0,
     "schema_version": 3,
     "solution": false,
     "task": false
    }
   },
   "outputs": [],
   "source": [
    "### Dies ist eine TESTZELLE. \n",
    "### Wenn die Ausführung zu einem Fehler führt, haben Sie etwas falsch gemacht\n",
    "### Wenn bei Ausführung nichts passiert, dann ist Ihre Lösung richtig oder zumindest nicht grob falsch\n",
    "assert [3,4,5] in triples\n",
    "assert [5,12,13] in triples"
   ]
  },
  {
   "cell_type": "markdown",
   "id": "97a4ffb8-acb0-4edf-8192-c6ec4c9a6082",
   "metadata": {},
   "source": [
    "Wozu ist das gut? Mit so einer Liste kann man Hypothesen generieren. ZB kann auffallen: Wenn $c$ gerade ist, so sind auch $a,b$ beide gerade. Dann kann man sich fragen, ob das immer gilt und wenn ja, warum. Usw."
   ]
  },
  {
   "cell_type": "markdown",
   "id": "0d641d80-3eb0-49f9-a1f4-06aa7fc485d8",
   "metadata": {},
   "source": [
    "Es gibt noch ein zweites Schleifenkonstrukt: <code>while</code>-Schleifen. Die werden solange ausgeführt, bis die <code>while</code>-Bedingung falsch ist. "
   ]
  },
  {
   "cell_type": "code",
   "execution_count": null,
   "id": "688ee780-4fe4-4e75-80ea-c3f35b1858e5",
   "metadata": {},
   "outputs": [],
   "source": [
    "n=100\n",
    "i=0\n",
    "while n>1:\n",
    "    i=i+1\n",
    "    n=n/2\n",
    "i"
   ]
  },
  {
   "cell_type": "markdown",
   "id": "41540ae1-d34c-4448-bc6a-82746fc21c91",
   "metadata": {},
   "source": [
    "## Funktionen\n",
    "\n",
    "Oben haben wir die Folge der ersten 10 Fibonacci-Zahlen erzeugt. Wenn wir öfter Fibonacci-Zahlen brauchen, sollten wir mittels des Schlüsselworts <code>def</code> eine Funktion draus machen. Aus $n$, der Länge der Folge, machen wir einen Parameter. Die Rückgabe der Folge geschieht mit <code>return</code>\n",
    "\n",
    "<center>\n",
    "<img src=\"data:image/png;base64,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\"></center>\n",
    "\n",
    "Dies ist die Goldene Spirale. Der Radius der Viertelkreise ist jeweils eine Fibonacci-Zahl"
   ]
  },
  {
   "cell_type": "code",
   "execution_count": null,
   "id": "c989287c-1f32-4809-947b-f2e2bad51ff7",
   "metadata": {},
   "outputs": [],
   "source": [
    "def fibonacci(n): # n ist ein Parameter\n",
    "    fib_seq=[0,1] # dies sind die Startwerte der Fibonacci-Folge\n",
    "    for i in range(2,n+1): # wir starten bei i=2, da erst ab da die Rekursion greift\n",
    "        fib_seq.append(fib_seq[i-1]+fib_seq[i-2])\n",
    "    return fib_seq # die Liste fib_seq wird zurück gegeben\n",
    "\n",
    "fibonacci(13)"
   ]
  },
  {
   "cell_type": "markdown",
   "id": "40aecc93-8e88-40ec-8a45-2621ff6cb03b",
   "metadata": {},
   "source": [
    "Funktionen können sich auch selbst aufrufen. Hier ist eine rekursive Implementation für die Berechnung der $n$. Fibonacci-Zahl. (Die Implementation ist nicht effizient, aber dafür einfach.)"
   ]
  },
  {
   "cell_type": "code",
   "execution_count": null,
   "id": "8df1cd8d-ba70-4de1-a848-3164056d4e54",
   "metadata": {},
   "outputs": [],
   "source": [
    "def get_fib(n):\n",
    "    if n==0:\n",
    "        return 0\n",
    "    if n<=2:\n",
    "        return 1\n",
    "    return get_fib(n-1)+get_fib(n-2)\n",
    "\n",
    "get_fib(20)"
   ]
  },
  {
   "cell_type": "markdown",
   "id": "9bdebf2f-1e80-4454-b0e8-96344cc4deb5",
   "metadata": {},
   "source": [
    "Funktionen müssen keine Parameter haben, und auch keinen Rückgabewert."
   ]
  },
  {
   "cell_type": "code",
   "execution_count": null,
   "id": "086285b2-f849-4e65-8346-ba61bfa51420",
   "metadata": {},
   "outputs": [],
   "source": [
    "def foo():\n",
    "    print(\"foo I say\")\n",
    "    \n",
    "foo()"
   ]
  },
  {
   "cell_type": "markdown",
   "id": "93104af4-f0b8-4424-b1c8-c2dc04601e74",
   "metadata": {},
   "source": [
    "Funktionen können *default*-Werte für Parameter haben. "
   ]
  },
  {
   "cell_type": "code",
   "execution_count": null,
   "id": "483a2c3f-e99e-4f6e-bb6e-83657578f6e1",
   "metadata": {},
   "outputs": [],
   "source": [
    "def praise(what_to_say,who_speaks='me'):\n",
    "    print(who_speaks+\": \"+what_to_say)\n",
    "    \n",
    "praise(\"Python is more awesome than something really awesome!\")\n",
    "praise(\"Python will eat java for breakfast!\",who_speaks=\"you\")"
   ]
  },
  {
   "cell_type": "markdown",
   "id": "99f7bcea-a42a-4c0a-b477-1bee03192a84",
   "metadata": {},
   "source": [
    "Was passiert hier? Im ersten Aufruf wurde kein Wert für <code>who_speaks</code> angegeben -- daher wird der *default*-Wert verwendet (\"me\"). Beim zweiten wird ein Wert angegeben (\"you\"), der dann auch verwendet wird. \n",
    "\n",
    "Wozu ist das gut? Oft haben Funktionen viele Parameter, die meisten haben jedoch Standardwerte, die im Regelfall nicht verändert werden müssen (aber manchmal eben doch) -- der Funktionsaufruf ist dann viel kürzer, als wenn alle Parameter explizit aufgeführt werden müssen. Ein Beispiel ist die Methode [scipy.linalg.solve](https://docs.scipy.org/doc/scipy/reference/generated/scipy.linalg.solve.html#scipy.linalg.solve) mit der lineare Gleichungssysteme gelöst werden können. Dort gibt es zB einen Parameter <code>lower=False</code>, der angibt, ob die Matrix eine untere Dreiecksmatrix ist. Normalerweise wird das nicht der Fall sein -- dann kann der Parameter einfach weggelassen werden."
   ]
  },
  {
   "cell_type": "markdown",
   "id": "24db4f55-b350-4dab-8e3b-6fe0eca52381",
   "metadata": {},
   "source": [
    "Es ist hilfreich, Funktionen mit einem Hilfetext zu versehen, der erklärt was die Funktion berechnet und welcher Art die Parameter sind. Ein Hilfetext wird mit drei Anführungszeichen gestartet und beendet. Aufgerufen wird er mit <code>help</code>. Probieren Sie zB einmal <code>help(round)</code> aus."
   ]
  },
  {
   "cell_type": "code",
   "execution_count": null,
   "id": "207152f5-d211-4620-ae2f-4a083da4b7ff",
   "metadata": {},
   "outputs": [],
   "source": [
    "def get_primes(n):\n",
    "    \"\"\"\n",
    "    erzeugt die Liste aller Primzahlen <n\n",
    "    n: positive ganze Zahl\n",
    "    \"\"\"\n",
    "    candidates=[True]*n  # erzeugt Liste [True, True, ..., True] der Länge n\n",
    "    primes=[]\n",
    "    for i in range(2,n):\n",
    "        if candidates[i]:\n",
    "            primes.append(i)\n",
    "            for j in range(i,n,i): # kein Vielfaches von i ist prim \n",
    "                candidates[j]=False # markiere als \"nicht-prim\"\n",
    "    return primes\n",
    "\n",
    "help(get_primes)"
   ]
  },
  {
   "cell_type": "markdown",
   "id": "efae1aa4-081e-4d0a-a6c2-200b8610743a",
   "metadata": {
    "nbgrader": {
     "grade": false,
     "grade_id": "cell-4c294e188750371c",
     "locked": false,
     "points": 3,
     "schema_version": 3,
     "solution": false,
     "task": false
    }
   },
   "source": [
    "### Aufgabe: Collatz\n",
    "Das [Collatz-Problem](https://de.wikipedia.org/wiki/Collatz-Problem) ist eines von diesen mathematischen Problemen, die wie Spielerei erscheinen, sich dann aber als fürchterlich schwierig herausstellen. Worum geht's? Wir starten mit einer natürlichen Zahl $n$. Wenn diese gerade ist, ersetzen wir sie durch die Hälfte; wenn sie ungerade ist, so ersetzen wir sie mit $3n+1$. Wenn wir etwa mit $n=12$ starten, so entsteht diese Folge\n",
    "$$\n",
    "12, 6, 3, 10, 5, 16, 8, 4, 2, 1,...\n",
    "$$\n",
    "Was passiert anschließend? Aus $1$ wird wieder $4$ und wir sind in einer endlosen Schleife $4,2,1,4,2,1,4,2,1,...$ gefangen. Daher wird so eine Collatz-Folge immer abgebrochen, wenn $1$ erreicht wird. So, und wo ist nun das Problem? Starten wir mal mit einer anderen Zahl, nämlich $14$:\n",
    "$$\n",
    "14,7,22,11,34,17, 52, 26, 13, 40, 20, 10, 5, 16, 8, 4, 2, 1\n",
    "$$\n",
    "Hier im Bild dargestellt:\n",
    "<center>\n",
    "    <img src=\"data:image/png;base64,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\">\n",
    "</center>\n",
    "Wieder enden wir bei $1$! Tatsächlich hat noch niemand eine Startzahl gefunden, die nicht schlussendlich bei $1$ endet -- und das ist das Collatz-Problem: Wird für jede natürliche Startzahl die $1$ erreicht?\n",
    "\n",
    "Implementieren Sie die Funktion <code>collatz(n)</code>, die startend bei $n$ die Collatz-Folge bis zum Erreichen der $1$ ausgibt. (Machen Sie sich keine Sorgen, dass Ihre Folge unendlich weiter geht oder in einer anderen Schleifen gefangen wird -- die ersten x Milliarden Startwerte sind alle bereits ausgetestet worden und es wird immer die $1$ erreicht.) Die Funktion soll die Folge als Liste ausgeben, also für $n=12$ die Liste <code>[12, 6, 3, 10, 5, 16, 8, 4, 2, 1]</code>."
   ]
  },
  {
   "cell_type": "code",
   "execution_count": null,
   "id": "9ba0148d-4e7e-4cba-b787-d0bbaefb1ff5",
   "metadata": {
    "nbgrader": {
     "grade": false,
     "grade_id": "cell-2edee504b53ca18e",
     "locked": false,
     "schema_version": 3,
     "solution": true,
     "task": false
    }
   },
   "outputs": [],
   "source": [
    "### BEGIN SOLUTION\n",
    "# Ihre Lösung hier\n",
    "### END SOLUTION\n",
    "\n",
    "collatz(42)"
   ]
  },
  {
   "cell_type": "code",
   "execution_count": null,
   "id": "dc8a4246-a3a6-42bc-b5fd-80538e7daf87",
   "metadata": {
    "nbgrader": {
     "grade": true,
     "grade_id": "cell-a6d890b5a3b28b57",
     "locked": true,
     "points": 3,
     "schema_version": 3,
     "solution": false,
     "task": false
    }
   },
   "outputs": [],
   "source": [
    "### Dies ist eine TESTZELLE. \n",
    "### Wenn die Ausführung zu einem Fehler führt, haben Sie etwas falsch gemacht\n",
    "### Wenn bei Ausführung nichts passiert, dann ist Ihre Lösung richtig oder zumindest nicht grob falsch\n",
    "assert collatz(100)[13]==17 # check that, for start n=100, the 14th value is 17 "
   ]
  },
  {
   "cell_type": "markdown",
   "id": "88c1cb8f-6f3a-4bdd-a0f6-7d4623d92aac",
   "metadata": {},
   "source": [
    "## Dictionaries\n",
    "\n",
    "<center>\n",
    "<img src=\"data:image/png;base64,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\"></center>\n",
    "\n",
    "*Dictionaries* sind ein weiterer Datentyp, der direkt von python unterstützt wird. Was sind *dictionaries*? Naja, eben Wörterbücher: Es werden eine Reihe von Paaren von Schlüssel und Eintrag gespeichert und man erhält den Eintrag, wenn man den Schlüssel angibt. Die Notation ähnelt der von Listen, die Definition verwendet jedoch geschweifte Klammern statt eckiger Klammern. Der Zugriff auf die Einträge erfolgt aber über eckige Klammern. Hier ist ein Beispiel."
   ]
  },
  {
   "cell_type": "code",
   "execution_count": null,
   "id": "e27ce3cf-c738-470e-8682-d51664bde2b6",
   "metadata": {},
   "outputs": [],
   "source": [
    "some_dictionary={} ## definiert ein leeres dictionary\n",
    "some_dictionary['a key']=42 # Zuweisung des Eintrags 42 zum Schlüssel 'a key'\n",
    "some_dictionary['a key'] # Zugriff auf den Eintrag zum Schlüssel 'a key'"
   ]
  },
  {
   "cell_type": "markdown",
   "id": "2149f19f-e1ff-4074-8c69-db48b2881113",
   "metadata": {},
   "source": [
    "Wir können ganz einfach weitere Einträge zuweisen und auch alte überschreiben. Für die Schlüssel können wir auch <code>int</code> oder <code>float</code> benutzen und auch eine ganz Reihe weiterer Typen. "
   ]
  },
  {
   "cell_type": "code",
   "execution_count": null,
   "id": "1049029c-15d4-40ad-ab00-66a8b17e779c",
   "metadata": {},
   "outputs": [],
   "source": [
    "some_dictionary[123]='another entry'\n",
    "some_dictionary[12.9]=10\n",
    "some_dictionary['a key']=27\n",
    "some_dictionary"
   ]
  },
  {
   "cell_type": "markdown",
   "id": "67f7b538-afc5-4ae0-94f7-0dc8f792bc42",
   "metadata": {},
   "source": [
    "Ein *dictionary* kann auch gleich mit Inhalt definiert werden."
   ]
  },
  {
   "cell_type": "code",
   "execution_count": null,
   "id": "c7bd7423-2e22-4827-8ae9-30d982164a59",
   "metadata": {},
   "outputs": [],
   "source": [
    "telephon_numbers={'Anton':'+49 89 5500090','Carl':'+49 731 489754','Rosi':'+49 731 50 32168'}\n",
    "telephon_numbers['Rosi']"
   ]
  },
  {
   "cell_type": "markdown",
   "id": "ee50add4-da8f-4b77-a6d3-a90c02a94b81",
   "metadata": {},
   "source": [
    "Mit <code>some_dictionary.keys()</code> können wir über die Schlüssel eines *dictionaries* iterieren. Gleichzeitig möchte ich eine nützlich String-Funktion <code>.format</code> illustrieren: Mit der lassen sich Variablen in einen String einsetzen. Das geht so:"
   ]
  },
  {
   "cell_type": "code",
   "execution_count": null,
   "id": "eda41c7d-704a-4385-884c-c20e20cfec20",
   "metadata": {},
   "outputs": [],
   "source": [
    "for key in telephon_numbers.keys():\n",
    "    value=telephon_numbers[key]\n",
    "    print(\"{} : {}\".format(key,value)) # Die Variablen werden in der Reihenfolge an den Stellen {} eingesetzt"
   ]
  },
  {
   "cell_type": "markdown",
   "id": "3656ee3b-b1ee-4cc9-b3b6-1ce51fc825eb",
   "metadata": {},
   "source": [
    "In der [Dokumentation](https://docs.python.org/3/tutorial/datastructures.html#dictionaries) von Python erfahren Sie mehr über den Umgang mit *dictionaries*."
   ]
  }
 ],
 "metadata": {
  "kernelspec": {
   "display_name": "Python 3 (ipykernel)",
   "language": "python",
   "name": "python3"
  },
  "language_info": {
   "codemirror_mode": {
    "name": "ipython",
    "version": 3
   },
   "file_extension": ".py",
   "mimetype": "text/x-python",
   "name": "python",
   "nbconvert_exporter": "python",
   "pygments_lexer": "ipython3",
   "version": "3.12.3"
  }
 },
 "nbformat": 4,
 "nbformat_minor": 5
}

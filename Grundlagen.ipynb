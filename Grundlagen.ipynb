{
 "cells": [
  {
   "cell_type": "markdown",
   "id": "c68f2512-87d1-4bd6-8afb-74eb9466e260",
   "metadata": {
    "editable": true,
    "slideshow": {
     "slide_type": ""
    },
    "tags": []
   },
   "source": [
    "# Grundlagen\n",
    "\n",
    "Wir machen hier die allerersten Schritte mit Python und Colab. Wenn Sie das erste Mal hier sind, klicken Sie doch auf das folgende Video für eine Kurzeinführung in Colab.  \n",
    "\n",
    "<center>\n",
    "<a href=\"https://youtu.be/A_Lc_Ic84cg\" target=\"_blank\">\n",
    "<img src=\"data:image/png;base64,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\" style=\"border:5px solid #515A5A; padding:3px; margin:5px\">\n",
    "</a>\n",
    "</center>"
   ]
  },
  {
   "cell_type": "markdown",
   "id": "efac3fcc-9346-4622-af51-01291193b6f5",
   "metadata": {},
   "source": [
    "Tradition gebietet es, mit *Hello world* anzufangen. Einzige Besonderheit hier: Strings in python können mit doppelten oder einfachen Anführungszeichen definiert werden -- macht keinen Unterschied. "
   ]
  },
  {
   "cell_type": "code",
   "execution_count": null,
   "id": "0404157f-fa7b-4801-b013-f713c25d9ec3",
   "metadata": {},
   "outputs": [],
   "source": [
    "print(\"Hello world!\")\n",
    "print('Hello world!')"
   ]
  },
  {
   "cell_type": "markdown",
   "id": "a219fc78-97be-4e3d-b878-d589eb0c53c3",
   "metadata": {},
   "source": [
    "Im Gegensatz zu *java* oder *C*, muss der Typ von Variablen nicht deklariert werden. Dh, wenn wir eine Variable verwenden wollen, so weisen wir ihr einfach einen Wert zu und können sie dann verwenden. "
   ]
  },
  {
   "cell_type": "code",
   "execution_count": null,
   "id": "0ec0835c-4740-4e03-b6ae-4e1a3bf26db1",
   "metadata": {},
   "outputs": [],
   "source": [
    "x=42\n",
    "print(x)"
   ]
  },
  {
   "cell_type": "markdown",
   "id": "6e051e11-a322-4fba-b14c-78e8bad6189a",
   "metadata": {},
   "source": [
    "Hier ist eine Variable, die einen String enthält:"
   ]
  },
  {
   "cell_type": "code",
   "execution_count": null,
   "id": "1fa98eb9-8810-442b-8acf-8b16c84ada23",
   "metadata": {},
   "outputs": [],
   "source": [
    "s='some string'\n",
    "s"
   ]
  },
  {
   "cell_type": "markdown",
   "id": "1baad8f1-baf8-424a-8b21-2eb6911c66e9",
   "metadata": {},
   "source": [
    "Den Typ einer Variable erhalten wir mit dem eingebauten Befehl <code>type</code>:"
   ]
  },
  {
   "cell_type": "code",
   "execution_count": null,
   "id": "678095cf-3fad-4020-9d89-ae4621f62e32",
   "metadata": {},
   "outputs": [],
   "source": [
    "type(x),type(s)"
   ]
  },
  {
   "cell_type": "markdown",
   "id": "1c766ead-6087-4e3d-9955-682622431a50",
   "metadata": {},
   "source": [
    "Weitere Typen von Variable sind <code>float</code> (Fließkommazahlen, also 1.2345), <code>bool</code> (*boolean*, also entweder <code>True</code> oder <code>False</code>) und viele weitere, insbesondere selbstdefinierte Typen."
   ]
  },
  {
   "cell_type": "code",
   "execution_count": null,
   "id": "b4ca7853-da16-499f-add1-a29ba8683f7f",
   "metadata": {},
   "outputs": [],
   "source": [
    "f=1.2345\n",
    "b=True\n",
    "type(f),type(b)"
   ]
  },
  {
   "cell_type": "markdown",
   "id": "3eab6b71-c152-4e4b-91f4-0a7138156096",
   "metadata": {},
   "source": [
    "Natürlich gibt's die üblichen arithmetischen Operatoren: +-*/"
   ]
  },
  {
   "cell_type": "code",
   "execution_count": null,
   "id": "32edb105-cbd1-4e43-8adf-faa3faa368b2",
   "metadata": {},
   "outputs": [],
   "source": [
    "(1+2-3)*4/5"
   ]
  },
  {
   "cell_type": "markdown",
   "id": "c4a167a0-99fd-4490-97ad-d87d2081ee2b",
   "metadata": {},
   "source": [
    "Fürs Potenzieren gibt's denn <code>**</code>-Operator: "
   ]
  },
  {
   "cell_type": "code",
   "execution_count": null,
   "id": "7840ea63-592e-4ab1-bb79-33b657e64663",
   "metadata": {},
   "outputs": [],
   "source": [
    "2**10"
   ]
  },
  {
   "cell_type": "markdown",
   "id": "2a1456b9-2abb-4a45-9ce4-b19356639596",
   "metadata": {},
   "source": [
    "Den Rest beim Teilen (mod) erhält man mit %, Ganzzahlteilung funktioniert mit //. "
   ]
  },
  {
   "cell_type": "code",
   "execution_count": null,
   "id": "929be0fd-08a3-4e8b-9e75-5979a331cf2a",
   "metadata": {},
   "outputs": [],
   "source": [
    "11%3,11//3"
   ]
  },
  {
   "cell_type": "markdown",
   "id": "29d7acf7-d509-4f8e-8573-c255ea0bd49d",
   "metadata": {},
   "source": [
    "Was die Operatoren bewirken, hängt vom Datentyp ab. ZB können wir auch Strings addieren."
   ]
  },
  {
   "cell_type": "code",
   "execution_count": null,
   "id": "cc6ec251-15e4-4d54-8938-062f9b19c86d",
   "metadata": {},
   "outputs": [],
   "source": [
    "first_string=\"python futtert\"\n",
    "second_string=\"Matlab zum Frühstück\"\n",
    "result=first_string+\" \"+second_string\n",
    "print(result)"
   ]
  },
  {
   "cell_type": "markdown",
   "id": "fe94dea2-2533-4f13-9afc-0f2d87951c88",
   "metadata": {},
   "source": [
    "Zum Vergleichen gibt's ==,!=,>=,<=,<,>. Das Ergebnis ist entweder <code>True</code> oder <code>False</code>."
   ]
  },
  {
   "cell_type": "code",
   "execution_count": null,
   "id": "74dadab4-d5dd-4c84-9668-97d6962b08f5",
   "metadata": {},
   "outputs": [],
   "source": [
    "x=12\n",
    "y=13\n",
    "x==y"
   ]
  },
  {
   "cell_type": "code",
   "execution_count": null,
   "id": "bb2c4d21-9afd-43e9-9d7c-0b527882e78b",
   "metadata": {},
   "outputs": [],
   "source": [
    "some_string=\"fortytwo\"\n",
    "some_string=='fortytwo'"
   ]
  },
  {
   "cell_type": "code",
   "execution_count": null,
   "id": "67d0ab6f-7f6b-4005-b853-8f011a11eb4f",
   "metadata": {},
   "outputs": [],
   "source": [
    "12!=12"
   ]
  },
  {
   "cell_type": "code",
   "execution_count": null,
   "id": "251ecc3b-4f31-4cb8-886e-6e9162416ea9",
   "metadata": {},
   "outputs": [],
   "source": [
    "1234<=234"
   ]
  },
  {
   "cell_type": "markdown",
   "id": "4781c84c-44e8-4d5e-b967-ff0621a2a048",
   "metadata": {},
   "source": [
    "Die logischen Verknüpfungen <code>and</code> und <code>or</code> erlauben kompliziertere Ausdrücke."
   ]
  },
  {
   "cell_type": "code",
   "execution_count": null,
   "id": "4f49e543-123d-41f8-bcb3-bb187f80f917",
   "metadata": {},
   "outputs": [],
   "source": [
    "(x!=y) and (some_string=='fortytwo')"
   ]
  },
  {
   "cell_type": "markdown",
   "id": "22a89a8f-0884-4995-9961-0599a565ccb1",
   "metadata": {},
   "source": [
    "Kommentare werden mit # gemacht. Alles in einer Zeile nach # ist ein Kommentar und wird ignoriert."
   ]
  },
  {
   "cell_type": "code",
   "execution_count": null,
   "id": "86bdd859-6b6e-414a-82e3-19fd54ea6146",
   "metadata": {},
   "outputs": [],
   "source": [
    "some_variable=12.23 # dies ist ein Kommentar \n",
    "\n",
    "# Eine ganze Zeile kann auch ein Kommentar sein \n",
    "### Oft setze ich gleich drei #. Das macht keinen Unterschied und ist rein kosmetisch."
   ]
  },
  {
   "cell_type": "markdown",
   "id": "9443df26-2486-46bc-89ed-132c43196fbe",
   "metadata": {},
   "source": [
    "## Mathematische Funktionen\n",
    "\n",
    "Python bietet eine Reihe von (mathematischen) Funktionen an, zB <code>round</code> und <code>abs</code>. [Hier](https://docs.python.org/3/library/functions.html) ist eine Liste aller direkt verfügbarer Funktionen."
   ]
  },
  {
   "cell_type": "code",
   "execution_count": null,
   "id": "cc9b0868-660d-43dd-9dbf-50cfd03e5ff6",
   "metadata": {},
   "outputs": [],
   "source": [
    "round(3.123),abs(-42)"
   ]
  },
  {
   "cell_type": "markdown",
   "id": "0e3d2c9b-b774-4d9b-a21f-4d811ab49ef4",
   "metadata": {},
   "source": [
    "Neben den arithmetischen Grundoperation gibt es natürlich weiterführende mathematische Operationen. Vielen von diesen sind in dem *package* <code>math</code> enthalten. Damit wir das Paket nutzen können, müssen wir es importieren. Das geschieht mit <code>import math</code> (muss nur einmal irgendwo im Notebook ausgeführt werden). Die darin enthaltenen Funktionen und Konstanten sprechen wir dann so an:"
   ]
  },
  {
   "cell_type": "code",
   "execution_count": null,
   "id": "4b4bf70c-944c-492d-84f3-f14faf9c0846",
   "metadata": {},
   "outputs": [],
   "source": [
    "import math\n",
    "\n",
    "math.pi"
   ]
  },
  {
   "cell_type": "markdown",
   "id": "ed5e1858-55ad-4025-83f1-143099266da3",
   "metadata": {},
   "source": [
    "Funktionen werden mit nachgestellten Klammern aufgerufen -- ganz wie in anderen Sprachen."
   ]
  },
  {
   "cell_type": "code",
   "execution_count": null,
   "id": "33ab713c-cc23-46bc-a717-e0ac84189f1f",
   "metadata": {},
   "outputs": [],
   "source": [
    "math.sqrt(2) # Wurzel 2"
   ]
  },
  {
   "cell_type": "code",
   "execution_count": null,
   "id": "9fb353fb-dad7-4fc6-996d-6d8e3c4b767b",
   "metadata": {},
   "outputs": [],
   "source": [
    "round(math.cos(math.pi))"
   ]
  },
  {
   "cell_type": "markdown",
   "id": "ea71f065-d255-48ea-8797-bb5342af678e",
   "metadata": {},
   "source": [
    "[Hier](https://docs.python.org/3/library/math.html) ist die Liste aller Konstanten und Funktionen im <code>math</code> package. Dort ist auch unendlich definiert:"
   ]
  },
  {
   "cell_type": "code",
   "execution_count": null,
   "id": "5ad5a623-4abe-465c-8603-738d58e056cb",
   "metadata": {},
   "outputs": [],
   "source": [
    "10**100<=math.inf"
   ]
  },
  {
   "cell_type": "markdown",
   "id": "4bfcf298-f990-4586-9a41-029822a4509b",
   "metadata": {},
   "source": [
    "## Listen \n",
    "\n",
    "Listen werden direkt von python unterstützt. Listen werden mit eckigen Klammern definiert:"
   ]
  },
  {
   "cell_type": "code",
   "execution_count": null,
   "id": "da5f3daf-1570-489e-a6d3-02f7049a7060",
   "metadata": {},
   "outputs": [],
   "source": [
    "this_is_a_list=[1,2,3,4,42]\n",
    "this_is_a_list"
   ]
  },
  {
   "cell_type": "markdown",
   "id": "4aabead0-cfd8-45d7-95a8-e9e865836b9c",
   "metadata": {},
   "source": [
    "Auf die Elemente einer Liste greift man wiederum mit eckigen Klammern zu: <code>this_is_a_list[index]</code> Achtung: python fängt beim Index bei Null an zu zählen. (Das ist wie bei jedeR ProgRammieRsprache, die nicht von Wahnsinnigen konzipieRt wuRde.) "
   ]
  },
  {
   "cell_type": "code",
   "execution_count": null,
   "id": "974a8345-6094-45e5-84fd-9f0c629a8a47",
   "metadata": {},
   "outputs": [],
   "source": [
    "this_is_a_list[3]"
   ]
  },
  {
   "cell_type": "markdown",
   "id": "679a8437-b147-41d9-ace8-4509a179d2fd",
   "metadata": {},
   "source": [
    "Hier ist ein nettes feature: Mit negativen Indizes greift man von hinten auf die Liste zu, mit <code>this_is_a_list[-1]</code> zB bekommen wir das letzte Element der Liste. Listen akzeptieren übrigens beliebige Variablentypen als Elemente."
   ]
  },
  {
   "cell_type": "code",
   "execution_count": null,
   "id": "7449c1c7-9685-4cdc-a7d2-251e768b4415",
   "metadata": {},
   "outputs": [],
   "source": [
    "some_list=[0,'one',2,3.0,'four','more than four']\n",
    "some_list[-2]"
   ]
  },
  {
   "cell_type": "markdown",
   "id": "78abc842-bd72-4ec8-9cda-618edc9b6333",
   "metadata": {},
   "source": [
    "Listeneinträge kann man auf ähnliche Art und Weise ändern:"
   ]
  },
  {
   "cell_type": "code",
   "execution_count": null,
   "id": "c63bb73a-f397-41e3-ade1-1c48415dc389",
   "metadata": {},
   "outputs": [],
   "source": [
    "some_list[2]=10000\n",
    "some_list"
   ]
  },
  {
   "cell_type": "markdown",
   "id": "4d555d34-8642-4eca-8d26-03d735510466",
   "metadata": {},
   "source": [
    "Ein sehr nützliches feature: Es ist möglich nur einen Teil der Liste zu betrachten. Dies geht mit dem *slicing*-Operator, dem Doppelpunkt, und zwar so:"
   ]
  },
  {
   "cell_type": "code",
   "execution_count": null,
   "id": "20603f7a-39de-4db7-a34a-a61d7c79754d",
   "metadata": {},
   "outputs": [],
   "source": [
    "some_list[1:4]"
   ]
  },
  {
   "cell_type": "markdown",
   "id": "93979bd2-c706-4bef-9514-2a565217187c",
   "metadata": {},
   "source": [
    "Man sieht <code>some_list[a:b]</code> liefert die Teilliste mit den Indizes $a,a+1,...,b-1$. Warum **exklusive** dem Element mit Index $b$? Weil, man so Listen gut partitionieren kann (wenn $a$ oder $b$ weggelassen wird, so wird der Beginn für $a$ angenommen und das Ende für $b$):"
   ]
  },
  {
   "cell_type": "code",
   "execution_count": null,
   "id": "5a237d35-07cb-4320-bde0-94624ee96a06",
   "metadata": {},
   "outputs": [],
   "source": [
    "some_list[:3],some_list[3:]"
   ]
  },
  {
   "cell_type": "markdown",
   "id": "f02ca8e6-be1a-49fe-8d65-be5cdd9da216",
   "metadata": {},
   "source": [
    "Oft braucht man die Länge einer Liste -- die erhalten wir mit <code>len</code>."
   ]
  },
  {
   "cell_type": "code",
   "execution_count": null,
   "id": "88ec4136-1cf9-4f45-8217-f087bea1f519",
   "metadata": {},
   "outputs": [],
   "source": [
    "len(some_list)"
   ]
  },
  {
   "cell_type": "markdown",
   "id": "d58001db-28b4-46e9-9d3c-b408f850c0da",
   "metadata": {},
   "source": [
    "Quasi alles in python ist ein Objekt, so auch die Listen. Objekte können ganz eigene Methoden und Eigenschaften haben -- auf diese wird mit dem Punkt-Operator zugegriffen. ZB besitzen Listen eine Kopiermethode, mit der eine Kopie der Liste gemacht wird. Das geht so."
   ]
  },
  {
   "cell_type": "code",
   "execution_count": null,
   "id": "3f7c8cdd-d8e0-4bf4-8363-b6b44549facf",
   "metadata": {},
   "outputs": [],
   "source": [
    "again_a_list=['a','b','c','blubb']\n",
    "L=again_a_list.copy()\n",
    "L[-1]='d'\n",
    "L,again_a_list"
   ]
  },
  {
   "cell_type": "markdown",
   "id": "eb847448-42ff-4feb-a7d3-c0021b276409",
   "metadata": {},
   "source": [
    "Eine andere nützliche Listenmethode ist <code>append</code>, mit dieser kann ein Element hinten rangehängt werden. (Wenn das Element an anderer Stelle eingefügt werden soll, so verwenden wir <code>insert</code>.)"
   ]
  },
  {
   "cell_type": "code",
   "execution_count": null,
   "id": "ba84635d-368a-435b-bc41-9ad7ed75967f",
   "metadata": {},
   "outputs": [],
   "source": [
    "again_a_list.append('blubba')\n",
    "again_a_list"
   ]
  },
  {
   "cell_type": "markdown",
   "id": "95af4b73-7d8f-4c1c-8192-08f8481bc324",
   "metadata": {},
   "source": [
    "Listen können geschachtelt werden, dh, Listen können Listen als Elemente enthalten."
   ]
  },
  {
   "cell_type": "code",
   "execution_count": null,
   "id": "5723341e-8be6-4af6-bd6e-9dbee9c88327",
   "metadata": {},
   "outputs": [],
   "source": [
    "again_a_list.append([1,2,3])\n",
    "again_a_list"
   ]
  },
  {
   "cell_type": "markdown",
   "id": "d7969e9e-86b1-42aa-b2d0-ff3abfd361ed",
   "metadata": {},
   "source": [
    "Listen bieten noch einige weitere eingebaute Methoden (zB sortieren, vereinigen, löschen). Diese finden sich [hier.](https://docs.python.org/3/tutorial/datastructures.html)"
   ]
  },
  {
   "cell_type": "markdown",
   "id": "182a58e3-f409-4f08-9a0c-dfee57464a00",
   "metadata": {},
   "source": [
    "## Blöcke, if, for\n",
    "Wie andere Sprachen hat python ebenfalls Schleifen und if-Abfragen. Schleifen und if-Abfragen definieren ganz natürlich *Programmblöcke*, nämlich das Innere einer Schleife oder der Block, der ausgeführt werden, wenn die die if-Bedingung wahr ist. Andere Sprachen klammern diese Blöcke ein, zB mit <code>{...}</code>. Python macht das nicht, sondern verwendet Einrückungen."
   ]
  },
  {
   "cell_type": "code",
   "execution_count": null,
   "id": "b64090b7-12b0-4de9-b0e9-fdaec6d56b5a",
   "metadata": {},
   "outputs": [],
   "source": [
    "n=42\n",
    "if n==42:\n",
    "    print(\"Achtung: n ist die Antwort!\")\n",
    "    print(\"Wirklich!\")\n",
    "    print(\"Was ist die Frage?\")\n",
    "else:\n",
    "    print(\"n ist irgendwas\")"
   ]
  },
  {
   "cell_type": "markdown",
   "id": "60809513-c24f-4115-bf75-ba00724b6501",
   "metadata": {},
   "source": [
    "Weil die drei <code>print</code>-Anweisungen eingerückt sind und *gleich* weit eingerückt sind, gehören sie alle zum gleichen Block, nämlich dem, der ausgeführt wird, wenn die if-Bedingung wahr ist. "
   ]
  },
  {
   "cell_type": "markdown",
   "id": "8bbfd034-07c1-4c39-8920-2204de803213",
   "metadata": {},
   "source": [
    "<code>if</code> erlaubt natürlich mehrere Fälle."
   ]
  },
  {
   "cell_type": "code",
   "execution_count": null,
   "id": "b8c3934c-dc0c-4d5d-8abb-e05174858021",
   "metadata": {},
   "outputs": [],
   "source": [
    "n=10\n",
    "if n%4==0:\n",
    "    print(\"n durch 4 teilbar\")\n",
    "elif n%4==2:\n",
    "    print(\"n gerade, aber nicht durch 4 teilbar\")\n",
    "else:\n",
    "    print(\"n ungerade\")"
   ]
  },
  {
   "cell_type": "markdown",
   "id": "96052ca6-941b-4dda-94bb-4deb9bb631c0",
   "metadata": {},
   "source": [
    "Python hat zwei Schleifen-Konstrukte, <code>for</code> und <code>while</code>. "
   ]
  },
  {
   "cell_type": "code",
   "execution_count": null,
   "id": "3bdb2fd0-a691-4146-aa29-17755f2b420f",
   "metadata": {},
   "outputs": [],
   "source": [
    "a_list=['a','bee','see','omega']\n",
    "for element in a_list:\n",
    "    print(\"** \"+element+\" **\")"
   ]
  },
  {
   "cell_type": "markdown",
   "id": "12bd1acb-d439-476f-a46c-e7582860b0c8",
   "metadata": {},
   "source": [
    "Mit weiteren Einrückungen können verschiedene Blöcke geschachtelt werden, zB zwei <code>for</code>-Schleifen, eine innere und eine äußere, oder eine <code>if</code>-Bedingung in einer <code>for</code>-Schleife."
   ]
  },
  {
   "cell_type": "code",
   "execution_count": null,
   "id": "05b29976-dd73-4dbe-8c27-240b2704ffe0",
   "metadata": {},
   "outputs": [],
   "source": [
    "a_list=['a','bee','see','omega','z']\n",
    "for element in a_list:\n",
    "    if len(element)>1: \n",
    "        print(\"** \"+element+\" **\")"
   ]
  },
  {
   "cell_type": "markdown",
   "id": "3d642afe-277d-462c-b8ca-16cfecf1c9e8",
   "metadata": {},
   "source": [
    "Was müssen wir machen, wenn wir eine <code>for</code>-Schleife 7-mal ausführen wollen? Wir nutzen <code>range(7)</code>: Der Befehl erzeugt$^*$ die Liste <code>[0,1,2,3,4,5,6]</code>. "
   ]
  },
  {
   "cell_type": "code",
   "execution_count": null,
   "id": "79f2c34d-4994-4ef2-9d1e-cb5e14c6870d",
   "metadata": {},
   "outputs": [],
   "source": [
    "for i in range(7):\n",
    "    print(i**2)"
   ]
  },
  {
   "cell_type": "markdown",
   "id": "2fb31b3c-45b3-418a-8c1e-dd2612ae12c0",
   "metadata": {},
   "source": [
    "Wieso war da ein verdächtiges Sternchen an *erzeugt*? Weil <code>range(7)</code> nicht wirklich eine Liste mit den Zahlen $0,1,...,6$ erzeugt. (Das hat Effizienzgründe.) Wenn wir wirklich so eine Liste haben wollen, müssen wir <code>list</code> darauf anwenden."
   ]
  },
  {
   "cell_type": "code",
   "execution_count": null,
   "id": "3327850e-c392-457b-ae4e-c0279169b979",
   "metadata": {},
   "outputs": [],
   "source": [
    "list(range(6))"
   ]
  },
  {
   "cell_type": "markdown",
   "id": "51f4efb9-a120-4c72-b1fa-44437a30ee37",
   "metadata": {},
   "source": [
    "<code>range</code> hat noch mehr Funktionalität. Wir können zB den Anfang ändern..."
   ]
  },
  {
   "cell_type": "code",
   "execution_count": null,
   "id": "077c14e9-8224-4bbe-a371-e699e38f5fdb",
   "metadata": {},
   "outputs": [],
   "source": [
    "list(range(2,6))"
   ]
  },
  {
   "cell_type": "markdown",
   "id": "3eec7e45-b86e-42b6-960d-f0141825623f",
   "metadata": {},
   "source": [
    "...und auch die Schrittweite:"
   ]
  },
  {
   "cell_type": "code",
   "execution_count": null,
   "id": "39384e95-9930-4166-83ca-02abcc2038f7",
   "metadata": {},
   "outputs": [],
   "source": [
    "list(range(12,41,3))"
   ]
  },
  {
   "cell_type": "markdown",
   "id": "3a1c6c61-51bd-4889-bfef-50d3fcd6b77b",
   "metadata": {},
   "source": [
    "Oben haben wir die ersten 7 Quadratzahlen ausgegeben. In einer Liste geht dies auch einfacher mit *list comprehensions*."
   ]
  },
  {
   "cell_type": "code",
   "execution_count": null,
   "id": "698f2b50-1577-43ae-8f64-451a69a6ccb1",
   "metadata": {},
   "outputs": [],
   "source": [
    "squares=[i**2 for i in range(7)]\n",
    "squares"
   ]
  },
  {
   "cell_type": "markdown",
   "id": "d02e731f-410c-425e-bfa9-7de0d338f131",
   "metadata": {},
   "source": [
    "Sehr nützlich ist dies auch im Zusammenhang mit dem eingebauten <code>sum</code>-Befehl, mit dem sich alle Elemente einer Liste summieren lassen. Hier ist zB eine elementare Summenformel:\n",
    "$$\n",
    "\\sum_{i=1}^{n}i^2=\\frac{n(n+1)(2n+1)}{6}\n",
    "$$\n",
    "Überprüfen wir, ob die wirklich stimmt!"
   ]
  },
  {
   "cell_type": "code",
   "execution_count": null,
   "id": "d6a65ae7-2576-4baf-9ec8-f5b7f6d12e99",
   "metadata": {},
   "outputs": [],
   "source": [
    "n=123\n",
    "squares=[i**2 for i in range(n+1)] # warum n+1? Weil range(n) nur bis n-1 geht\n",
    "sum(squares)==n*(n+1)*(2*n+1)/6"
   ]
  },
  {
   "cell_type": "markdown",
   "id": "4970e58a-ebfc-43e5-b694-1196336b8fc0",
   "metadata": {
    "nbgrader": {
     "grade": false,
     "grade_id": "cell-64409ab8890e714e",
     "locked": true,
     "schema_version": 3,
     "solution": false,
     "task": false
    }
   },
   "source": [
    "Welche Wert nimmt die Reihe\n",
    "$$\n",
    "\\sum_{n=1}^{\\infty}\\frac{1}{n^2}=??\n",
    "$$\n",
    "an? Dies ist das berühmte [Basler-Problem](https://de.wikipedia.org/wiki/Basler_Problem), das lange offen war, bis Super-Star Euler zeigte, dass die Reihe den Wert $\\frac{\\pi^2}{6}$ annimmt. (Das Ergebnis haut mich jedes mal um. Wo kommt denn $\\pi$ her? Und auch noch quadriert? Crazy.)\n",
    "\n",
    "### Aufgabe: Basel\n",
    "Berechnen Sie die Teilsumme der ersten 123 Summanden und dann\n",
    "$$\n",
    "\\epsilon=\\left|\\sum_{n=1}^{123}\\frac{1}{n^2}-\\frac{\\pi^2}{6}\\right|\n",
    "$$\n",
    "Das Ergebnis soll in einer Variable namens <code>epsilon</code> gespeichert werden. Sie werden eventuell die Funktion <code>abs</code> brauchen und denken Sie an das <code>math</code>-Paket."
   ]
  },
  {
   "cell_type": "code",
   "execution_count": null,
   "id": "6ce418cd-78d9-4622-9ff0-71cede006179",
   "metadata": {
    "nbgrader": {
     "grade": false,
     "grade_id": "basel",
     "locked": false,
     "schema_version": 3,
     "solution": true,
     "task": false
    }
   },
   "outputs": [],
   "source": [
    "### BEGIN SOLUTION\n",
    "\n",
    "### END SOLUTION\n",
    "epsilon"
   ]
  },
  {
   "cell_type": "code",
   "execution_count": null,
   "id": "e342c115-3bcb-4667-802a-8f49ef9caadd",
   "metadata": {
    "nbgrader": {
     "grade": true,
     "grade_id": "basel-test",
     "locked": true,
     "points": 3,
     "schema_version": 3,
     "solution": false,
     "task": false
    }
   },
   "outputs": [],
   "source": [
    "### Dies ist eine TESTZELLE. \n",
    "### Wenn die Ausführung zu einem Fehler führt, haben Sie etwas falsch gemacht\n",
    "### Wenn bei Ausführung nichts passiert, dann ist Ihre Lösung richtig oder zumindest nicht grob falsch\n",
    "assert epsilon<0.01"
   ]
  },
  {
   "cell_type": "markdown",
   "id": "a2bcec49-5417-4d40-8f37-c1277cd31fb0",
   "metadata": {},
   "source": [
    "Wir haben nun auch alles an der Hand, um die ersten $n$ **Fibonacci-Zahlen** zu berechnen. Was waren noch die Fibonacci-Zahlen? Das ist die Folge $F_0,F_1,F_2,...$, die wie folgt definiert ist:\n",
    "$$\n",
    "\\begin{array}{l}\n",
    "F_0  =0\\\\\n",
    "F_1  =1\\\\\n",
    "F_n  = F_{n-1}+F_{n-2}\\quad\\textsf{ für }n\\geq 2\n",
    "\\end{array}\n",
    "$$\n"
   ]
  },
  {
   "cell_type": "code",
   "execution_count": null,
   "id": "1932ae13-9104-4860-8ebc-71b003b274a2",
   "metadata": {},
   "outputs": [],
   "source": [
    "n=10\n",
    "fib_seq=[0,1] # dies sind die Startwerte der Fibonacci-Folge\n",
    "for i in range(2,n+1): # wir starten bei i=2, da erst ab da die Rekursion greift\n",
    "    fib_seq.append(fib_seq[i-1]+fib_seq[i-2])\n",
    "fib_seq"
   ]
  },
  {
   "cell_type": "markdown",
   "id": "2e41d27b-dbaf-4b92-ba03-054567ff8b96",
   "metadata": {},
   "source": [
    "### Aufgabe: Pythagoreische Tripel\n",
    "Ein *Pythagoreisches Tripel* ist ein Tupel $(a,b,c)$ von natürlichen Zahlen, so dass $a^2+b^2=c^2$. Beispiele:\n",
    "* $3^2+4^2=5^2$, mit Tripel $(3,4,5)$\n",
    "* $5^2+12^2=13^2$, mit Tripel $(5,12,13)$\n",
    "  \n",
    "Suchen Sie alle Pythagoreischen Tripel mit $a,b\\leq 50$ und speichern Sie alle gefundenen Tripel in der Form <code>[a,b,c]</code> in einer Liste namens <code>triples</code>. Sie können $a\\leq b$ annehmen. \n",
    "\n",
    "Hinweise:\n",
    "* Verwenden Sie zwei geschachtelte <code>for</code>-Schleifen, eine für $a$ und eine für $b$.\n",
    "* Die Schleife für $b$ sollte $b$ die Werte $a,a+1,...,50$ annehmen lassen.\n",
    "* Wie können Sie prüfen, ob es ein $c\\in\\mathbb N$ gibt, so dass $a^2+b^2=c^2$? Indem Sie $\\sqrt{a^2+b^2}$ berechnen und schauen, ob das eine ganze Zahl ist. Das geht zB so: Runden Sie $\\sqrt{a^2+b^2}$ (mittels <code>round</code>), nennen Sie das Ergebnis $\\hat c$ und prüfen Sie, ob $\\hat c^2\\stackrel{?}{=}a^2+b^2$"
   ]
  },
  {
   "cell_type": "code",
   "execution_count": null,
   "id": "1a67f6ba-cac1-4001-a7a0-b86eeb4ad7ff",
   "metadata": {
    "editable": true,
    "nbgrader": {
     "grade": false,
     "grade_id": "cell-22d5f3016df451ab",
     "locked": false,
     "schema_version": 3,
     "solution": true,
     "task": false
    },
    "slideshow": {
     "slide_type": ""
    },
    "tags": []
   },
   "outputs": [],
   "source": [
    "triples=[]\n",
    "### BEGIN SOLUTION\n",
    "\n",
    "### END SOLUTION\n",
    "triples"
   ]
  },
  {
   "cell_type": "code",
   "execution_count": null,
   "id": "25fdd687-da2c-4bc8-9c07-31ac0eee01c9",
   "metadata": {
    "nbgrader": {
     "grade": true,
     "grade_id": "cell-ae7f76b7ed250c7b",
     "locked": true,
     "points": 0,
     "schema_version": 3,
     "solution": false,
     "task": false
    }
   },
   "outputs": [],
   "source": [
    "### Dies ist eine TESTZELLE. \n",
    "### Wenn die Ausführung zu einem Fehler führt, haben Sie etwas falsch gemacht\n",
    "### Wenn bei Ausführung nichts passiert, dann ist Ihre Lösung richtig oder zumindest nicht grob falsch\n",
    "assert [3,4,5] in triples\n",
    "assert [5,12,13] in triples"
   ]
  },
  {
   "cell_type": "markdown",
   "id": "97a4ffb8-acb0-4edf-8192-c6ec4c9a6082",
   "metadata": {},
   "source": [
    "Wozu ist das gut? Mit so einer Liste kann man Hypothesen generieren. ZB kann auffallen: Wenn $c$ gerade ist, so sind auch $a,b$ beide gerade. Dann kann man sich fragen, ob das immer gilt und wenn ja, warum. Usw."
   ]
  },
  {
   "cell_type": "markdown",
   "id": "0d641d80-3eb0-49f9-a1f4-06aa7fc485d8",
   "metadata": {},
   "source": [
    "Es gibt noch ein zweites Schleifenkonstrukt: <code>while</code>-Schleifen. Die werden solange ausgeführt, bis die <code>while</code>-Bedingung falsch ist. "
   ]
  },
  {
   "cell_type": "code",
   "execution_count": null,
   "id": "688ee780-4fe4-4e75-80ea-c3f35b1858e5",
   "metadata": {},
   "outputs": [],
   "source": [
    "n=100\n",
    "i=0\n",
    "while n>1:\n",
    "    i=i+1\n",
    "    n=n/2\n",
    "i"
   ]
  },
  {
   "cell_type": "markdown",
   "id": "41540ae1-d34c-4448-bc6a-82746fc21c91",
   "metadata": {},
   "source": [
    "## Funktionen\n",
    "\n",
    "Oben haben wir die Folge der ersten 10 Fibonacci-Zahlen erzeugt. Wenn wir öfter Fibonacci-Zahlen brauchen, sollten wir mittels des Schlüsselworts <code>def</code> eine Funktion draus machen. Aus $n$, der Länge der Folge, machen wir einen Parameter. Die Rückgabe der Folge geschieht mit <code>return</code>"
   ]
  },
  {
   "cell_type": "code",
   "execution_count": null,
   "id": "c989287c-1f32-4809-947b-f2e2bad51ff7",
   "metadata": {},
   "outputs": [],
   "source": [
    "def fibonacci(n): # n ist ein Parameter\n",
    "    fib_seq=[0,1] # dies sind die Startwerte der Fibonacci-Folge\n",
    "    for i in range(2,n+1): # wir starten bei i=2, da erst ab da die Rekursion greift\n",
    "        fib_seq.append(fib_seq[i-1]+fib_seq[i-2])\n",
    "    return fib_seq # die Liste fib_seq wird zurück gegeben\n",
    "\n",
    "fibonacci(13)"
   ]
  },
  {
   "cell_type": "markdown",
   "id": "40aecc93-8e88-40ec-8a45-2621ff6cb03b",
   "metadata": {},
   "source": [
    "Funktionen können sich auch selbst aufrufen. Hier ist eine rekursive Implementation für die Berechnung der $n$. Fibonacci-Zahl. (Die Implementation ist nicht effizient, aber dafür einfach.)"
   ]
  },
  {
   "cell_type": "code",
   "execution_count": null,
   "id": "8df1cd8d-ba70-4de1-a848-3164056d4e54",
   "metadata": {},
   "outputs": [],
   "source": [
    "def get_fib(n):\n",
    "    if n==0:\n",
    "        return 0\n",
    "    if n<=2:\n",
    "        return 1\n",
    "    return get_fib(n-1)+get_fib(n-2)\n",
    "\n",
    "get_fib(20)"
   ]
  },
  {
   "cell_type": "markdown",
   "id": "9bdebf2f-1e80-4454-b0e8-96344cc4deb5",
   "metadata": {},
   "source": [
    "Funktionen müssen keine Parameter haben, und auch keinen Rückgabewert."
   ]
  },
  {
   "cell_type": "code",
   "execution_count": null,
   "id": "086285b2-f849-4e65-8346-ba61bfa51420",
   "metadata": {},
   "outputs": [],
   "source": [
    "def foo():\n",
    "    print(\"foo I say\")\n",
    "    \n",
    "foo()"
   ]
  },
  {
   "cell_type": "markdown",
   "id": "93104af4-f0b8-4424-b1c8-c2dc04601e74",
   "metadata": {},
   "source": [
    "Funktionen können *default*-Werte für Parameter haben. "
   ]
  },
  {
   "cell_type": "code",
   "execution_count": null,
   "id": "483a2c3f-e99e-4f6e-bb6e-83657578f6e1",
   "metadata": {},
   "outputs": [],
   "source": [
    "def praise(what_to_say,who_speaks='me'):\n",
    "    print(who_speaks+\": \"+what_to_say)\n",
    "    \n",
    "praise(\"Python is more awesome then something really awesome!\")\n",
    "praise(\"Python will eat java for breakfast!\",who_speaks=\"you\")"
   ]
  },
  {
   "cell_type": "markdown",
   "id": "99f7bcea-a42a-4c0a-b477-1bee03192a84",
   "metadata": {},
   "source": [
    "Was passiert hier? Im ersten Aufruf wurde kein Wert für <code>who_speaks</code> angegeben -- daher wird der *default*-Wert verwendet (\"me\"). Beim zweiten wird ein Wert angegeben (\"you\"), der dann auch verwendet wird. \n",
    "\n",
    "Wozu ist das gut? Oft haben Funktionen viele Parameter, die meisten haben jedoch Standardwerte, die im Regelfall nicht verändert werden müssen (aber manchmal eben doch) -- der Funktionsaufruf ist dann viel kürzer, als wenn alle Parameter explizit aufgeführt werden müssen. Ein Beispiel ist die Methode [scipy.linalg.solve](https://docs.scipy.org/doc/scipy/reference/generated/scipy.linalg.solve.html#scipy.linalg.solve) mit der lineare Gleichungssysteme gelöst werden können. Dort gibt es zB einen Parameter <code>lower=False</code>, der angibt, ob die Matrix eine untere Dreiecksmatrix ist. Normalerweise wird das nicht der Fall sein -- dann kann der Parameter einfach weggelassen werden."
   ]
  },
  {
   "cell_type": "markdown",
   "id": "24db4f55-b350-4dab-8e3b-6fe0eca52381",
   "metadata": {},
   "source": [
    "Es ist hilfreich, Funktionen mit einem Hilfetext zu versehen, der erklärt was die Funktion berechnet und welcher Art die Parameter sind. Ein Hilfetext wird mit drei Anführungszeichen gestartet und beendet. Aufgerufen wird er mit <code>help</code>. Probieren Sie zB einmal <code>help(round)</code> aus."
   ]
  },
  {
   "cell_type": "code",
   "execution_count": null,
   "id": "207152f5-d211-4620-ae2f-4a083da4b7ff",
   "metadata": {},
   "outputs": [],
   "source": [
    "def get_primes(n):\n",
    "    \"\"\"\n",
    "    erzeugt die Liste aller Primzahlen <n\n",
    "    n: positive ganze Zahl\n",
    "    \"\"\"\n",
    "    candidates=[True]*n  # erzeugt Liste [True, True, ..., True] der Länge n\n",
    "    primes=[]\n",
    "    for i in range(2,n):\n",
    "        if candidates[i]:\n",
    "            primes.append(i)\n",
    "            for j in range(i,n,i): # kein Vielfaches von i ist prim \n",
    "                candidates[j]=False # markiere als \"nicht-prim\"\n",
    "    return primes\n",
    "\n",
    "help(get_primes)"
   ]
  },
  {
   "cell_type": "markdown",
   "id": "efae1aa4-081e-4d0a-a6c2-200b8610743a",
   "metadata": {
    "nbgrader": {
     "grade": false,
     "grade_id": "cell-4c294e188750371c",
     "locked": false,
     "points": 3,
     "schema_version": 3,
     "solution": false,
     "task": false
    }
   },
   "source": [
    "### Aufgabe: Collatz\n",
    "Das [Collatz-Problem](https://de.wikipedia.org/wiki/Collatz-Problem) ist eines von diesen mathematischen Problemen, die wie Spielerei erscheinen, sich dann aber als fürchterlich schwierig herausstellen. Worum geht's? Wir starten mit einer natürlich Zahl $n$. Wenn diese gerade ist, ersetzen wir sie durch die Hälfte; wenn sie ungerade ist, so ersetzen wir sie mit $3n+1$. Wenn wir etwa mit $n=12$ starten, so entsteht diese Folge\n",
    "$$\n",
    "12, 6, 3, 10, 5, 16, 8, 4, 2, 1,...\n",
    "$$\n",
    "Was passiert anschließend? Aus $1$ wird wieder $4$ und wir sind in einer endlosen Schleife $4,2,1,4,2,1,4,2,1,...$ gefangen. Daher wird so eine Collatz-Folge immer abgebrochen, wenn $1$ erreicht wird. So, und wo ist nun das Problem? Starten wir mal mit einer anderen Zahl, nämlich $17$:\n",
    "$$\n",
    "17, 52, 26, 13, 40, 20, 10, 5, 16, 8, 4, 2, 1\n",
    "$$\n",
    "Wieder enden wir bei $1$! Tatsächlich hat noch niemand eine Startzahl gefunden, die nicht schlussendlich bei $1$ endet -- und das ist das Collatz-Problem: Wird für jede natürliche Startzahl die $1$ erreicht? \n",
    "\n",
    "Implementieren Sie die Funktion <code>collatz(n)</code>, die startend bei $n$ die Collatz-Folge bis zum Erreichen der $1$ ausgibt. (Machen Sie sich keine Sorgen, dass Ihre Folge unendlich weiter geht oder in einer anderen Schleifen gefangen wird -- die ersten x Milliarden Startwerte sind alle bereits ausgetestet worden und es wird immer die $1$ erreicht.) Die Funktion soll die Folge als Liste ausgeben, also für $n=12$ die Liste <code>[12, 6, 3, 10, 5, 16, 8, 4, 2, 1]</code>."
   ]
  },
  {
   "cell_type": "code",
   "execution_count": null,
   "id": "9ba0148d-4e7e-4cba-b787-d0bbaefb1ff5",
   "metadata": {
    "nbgrader": {
     "grade": false,
     "grade_id": "cell-2edee504b53ca18e",
     "locked": false,
     "schema_version": 3,
     "solution": true,
     "task": false
    }
   },
   "outputs": [],
   "source": [
    "### BEGIN SOLUTION\n",
    "\n",
    "### END SOLUTION\n",
    "\n",
    "collatz(42)"
   ]
  },
  {
   "cell_type": "code",
   "execution_count": null,
   "id": "dc8a4246-a3a6-42bc-b5fd-80538e7daf87",
   "metadata": {
    "nbgrader": {
     "grade": true,
     "grade_id": "cell-a6d890b5a3b28b57",
     "locked": true,
     "points": 3,
     "schema_version": 3,
     "solution": false,
     "task": false
    }
   },
   "outputs": [],
   "source": [
    "### Dies ist eine TESTZELLE. \n",
    "### Wenn die Ausführung zu einem Fehler führt, haben Sie etwas falsch gemacht\n",
    "### Wenn bei Ausführung nichts passiert, dann ist Ihre Lösung richtig oder zumindest nicht grob falsch\n",
    "assert collatz(100)[13]==17 # check that, for start n=100, the 14th value is 17 "
   ]
  },
  {
   "cell_type": "markdown",
   "id": "88c1cb8f-6f3a-4bdd-a0f6-7d4623d92aac",
   "metadata": {},
   "source": [
    "## Dictionaries\n",
    "\n",
    "*Dictionaries* sind ein weiterer Datentyp, der direkt von python unterstützt wird. Was sind *dictionaries*? Naja, eben Wörterbücher: Es werden eine Reihe von Paaren von Schlüssel und Eintrag gespeichert und man erhält den Eintrag, wenn man den Schlüssel angibt. Die Notation ähnelt der von Listen, die Definition verwendet jedoch geschweifte Klammern statt eckiger Klammern. Der Zugriff auf die Einträge erfolgt aber über eckige Klammern. Hier ist ein Beispiel.\n"
   ]
  },
  {
   "cell_type": "code",
   "execution_count": null,
   "id": "e27ce3cf-c738-470e-8682-d51664bde2b6",
   "metadata": {},
   "outputs": [],
   "source": [
    "some_dictionary={} ## definiert ein leeres dictionary\n",
    "some_dictionary['a key']=42 # Zuweisung des Eintrags 42 zum Schlüssel 'a key'\n",
    "some_dictionary['a key'] # Zugriff auf den Eintrag zum Schlüssel 'a key'"
   ]
  },
  {
   "cell_type": "markdown",
   "id": "2149f19f-e1ff-4074-8c69-db48b2881113",
   "metadata": {},
   "source": [
    "Wir können ganz einfach weitere Einträge zuweisen und auch alte überschreiben. Für die Schlüssel können wir auch <code>int</code> oder <code>float</code> benutzen und auch eine ganz Reihe weiterer Typen. "
   ]
  },
  {
   "cell_type": "code",
   "execution_count": null,
   "id": "1049029c-15d4-40ad-ab00-66a8b17e779c",
   "metadata": {},
   "outputs": [],
   "source": [
    "some_dictionary[123]='another entry'\n",
    "some_dictionary[12.9]=10\n",
    "some_dictionary['a key']=27\n",
    "some_dictionary"
   ]
  },
  {
   "cell_type": "markdown",
   "id": "67f7b538-afc5-4ae0-94f7-0dc8f792bc42",
   "metadata": {},
   "source": [
    "Ein *dictionary* kann auch gleich mit Inhalt definiert werden."
   ]
  },
  {
   "cell_type": "code",
   "execution_count": null,
   "id": "c7bd7423-2e22-4827-8ae9-30d982164a59",
   "metadata": {},
   "outputs": [],
   "source": [
    "telephon_numbers={'Anton':'+49 89 5500090','Carl':'+49 731 489754','Michael':'+49 731 50 22000'}\n",
    "telephon_numbers['Michael']"
   ]
  },
  {
   "cell_type": "markdown",
   "id": "ee50add4-da8f-4b77-a6d3-a90c02a94b81",
   "metadata": {},
   "source": [
    "Mit <code>some_dictionary.keys()</code> können wir über die Schlüssel eines *dictionaries* iterieren. Gleichzeitig möchte ich eine nützlich String-Funktion <code>.format</code> illustrieren: Mit der lassen sich Variablen in einen String einsetzen. Das geht so:"
   ]
  },
  {
   "cell_type": "code",
   "execution_count": null,
   "id": "eda41c7d-704a-4385-884c-c20e20cfec20",
   "metadata": {},
   "outputs": [],
   "source": [
    "for key in telephon_numbers.keys():\n",
    "    value=telephon_numbers[key]\n",
    "    print(\"{} : {}\".format(key,value)) # Die Variablen werden in der Reihenfolge an den Stellen {} eingesetzt"
   ]
  }
 ],
 "metadata": {
  "kernelspec": {
   "display_name": "Python 3 (ipykernel)",
   "language": "python",
   "name": "python3"
  },
  "language_info": {
   "codemirror_mode": {
    "name": "ipython",
    "version": 3
   },
   "file_extension": ".py",
   "mimetype": "text/x-python",
   "name": "python",
   "nbconvert_exporter": "python",
   "pygments_lexer": "ipython3",
   "version": "3.11.7"
  }
 },
 "nbformat": 4,
 "nbformat_minor": 5
}

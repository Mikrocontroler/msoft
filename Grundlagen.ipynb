{
 "cells": [
  {
   "cell_type": "markdown",
   "id": "c68f2512-87d1-4bd6-8afb-74eb9466e260",
   "metadata": {},
   "source": [
    "# Grundlagen\n",
    "\n",
    "Wir machen hier die allerersten Schritte mit Python und Colab. Wenn Sie das erste Mal hier sind, klicken Sie doch auf das folgende Video für eine Kurzeinführung in Colab.  \n",
    "\n",
    "<center>\n",
    "<a href=\"https://youtu.be/A_Lc_Ic84cg\" target=\"_blank\">\n",
    "<img src=\"data:image/png;base64,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\" style=\"border:5px solid #515A5A; padding:3px; margin:5px\">\n",
    "</a>\n",
    "</center>"
   ]
  },
  {
   "cell_type": "markdown",
   "id": "efac3fcc-9346-4622-af51-01291193b6f5",
   "metadata": {},
   "source": [
    "Tradition gebietet es, mit *Hello world* anzufangen. Einzige Besonderheit hier: Strings in python können mit doppelten oder einfachen Anführungszeichen definiert werden -- macht keinen Unterschied. "
   ]
  },
  {
   "cell_type": "code",
   "execution_count": 1,
   "id": "0404157f-fa7b-4801-b013-f713c25d9ec3",
   "metadata": {},
   "outputs": [
    {
     "name": "stdout",
     "output_type": "stream",
     "text": [
      "Hello world!\n",
      "Hello world!\n"
     ]
    }
   ],
   "source": [
    "print(\"Hello world!\")\n",
    "print('Hello world!')"
   ]
  },
  {
   "cell_type": "markdown",
   "id": "a219fc78-97be-4e3d-b878-d589eb0c53c3",
   "metadata": {},
   "source": [
    "Im Gegensatz zu *java* oder *C*, muss der Typ von Variablen nicht deklariert werden. Dh, wenn wir eine Variable verwenden wollen, so weisen wir ihr einfach einen Wert zu und können sie dann verwenden. "
   ]
  },
  {
   "cell_type": "code",
   "execution_count": 2,
   "id": "0ec0835c-4740-4e03-b6ae-4e1a3bf26db1",
   "metadata": {},
   "outputs": [
    {
     "name": "stdout",
     "output_type": "stream",
     "text": [
      "42\n"
     ]
    }
   ],
   "source": [
    "x=42\n",
    "print(x)"
   ]
  },
  {
   "cell_type": "markdown",
   "id": "6e051e11-a322-4fba-b14c-78e8bad6189a",
   "metadata": {},
   "source": [
    "Hier ist eine Variable, die einen String enthält:"
   ]
  },
  {
   "cell_type": "code",
   "execution_count": 3,
   "id": "1fa98eb9-8810-442b-8acf-8b16c84ada23",
   "metadata": {},
   "outputs": [
    {
     "data": {
      "text/plain": [
       "'some string'"
      ]
     },
     "execution_count": 3,
     "metadata": {},
     "output_type": "execute_result"
    }
   ],
   "source": [
    "s='some string'\n",
    "s"
   ]
  },
  {
   "cell_type": "markdown",
   "id": "1baad8f1-baf8-424a-8b21-2eb6911c66e9",
   "metadata": {},
   "source": [
    "Den Typ einer Variable erhalten wir mit dem eingebauten Befehl <code>type</code>:"
   ]
  },
  {
   "cell_type": "code",
   "execution_count": 4,
   "id": "678095cf-3fad-4020-9d89-ae4621f62e32",
   "metadata": {},
   "outputs": [
    {
     "data": {
      "text/plain": [
       "(int, str)"
      ]
     },
     "execution_count": 4,
     "metadata": {},
     "output_type": "execute_result"
    }
   ],
   "source": [
    "type(x),type(s)"
   ]
  },
  {
   "cell_type": "markdown",
   "id": "1c766ead-6087-4e3d-9955-682622431a50",
   "metadata": {},
   "source": [
    "Weitere Typen von Variable sind <code>float</code> (Fließkommazahlen, also 1.2345), <code>bool</code> (*boolean*, also entweder <code>True</code> oder <code>False</code>) und viele weitere, insbesondere selbstdefinierte Typen."
   ]
  },
  {
   "cell_type": "code",
   "execution_count": 5,
   "id": "b4ca7853-da16-499f-add1-a29ba8683f7f",
   "metadata": {},
   "outputs": [
    {
     "data": {
      "text/plain": [
       "(float, bool)"
      ]
     },
     "execution_count": 5,
     "metadata": {},
     "output_type": "execute_result"
    }
   ],
   "source": [
    "f=1.2345\n",
    "b=True\n",
    "type(f),type(b)"
   ]
  },
  {
   "cell_type": "markdown",
   "id": "3eab6b71-c152-4e4b-91f4-0a7138156096",
   "metadata": {},
   "source": [
    "Natürlich gibt's die üblichen arithmetischen Operatoren: +-*/"
   ]
  },
  {
   "cell_type": "code",
   "execution_count": 6,
   "id": "32edb105-cbd1-4e43-8adf-faa3faa368b2",
   "metadata": {},
   "outputs": [
    {
     "data": {
      "text/plain": [
       "0.0"
      ]
     },
     "execution_count": 6,
     "metadata": {},
     "output_type": "execute_result"
    }
   ],
   "source": [
    "(1+2-3)*4/5"
   ]
  },
  {
   "cell_type": "markdown",
   "id": "c4a167a0-99fd-4490-97ad-d87d2081ee2b",
   "metadata": {},
   "source": [
    "Fürs Potenzieren gibt's denn <code>**</code>-Operator: "
   ]
  },
  {
   "cell_type": "code",
   "execution_count": 7,
   "id": "7840ea63-592e-4ab1-bb79-33b657e64663",
   "metadata": {},
   "outputs": [
    {
     "data": {
      "text/plain": [
       "1024"
      ]
     },
     "execution_count": 7,
     "metadata": {},
     "output_type": "execute_result"
    }
   ],
   "source": [
    "2**10"
   ]
  },
  {
   "cell_type": "markdown",
   "id": "2a1456b9-2abb-4a45-9ce4-b19356639596",
   "metadata": {},
   "source": [
    "Den Rest beim Teilen (mod) erhält man mit %, Ganzzahlteilung funktioniert mit //. "
   ]
  },
  {
   "cell_type": "code",
   "execution_count": 8,
   "id": "929be0fd-08a3-4e8b-9e75-5979a331cf2a",
   "metadata": {},
   "outputs": [
    {
     "data": {
      "text/plain": [
       "(2, 3)"
      ]
     },
     "execution_count": 8,
     "metadata": {},
     "output_type": "execute_result"
    }
   ],
   "source": [
    "11%3,11//3"
   ]
  },
  {
   "cell_type": "markdown",
   "id": "29d7acf7-d509-4f8e-8573-c255ea0bd49d",
   "metadata": {},
   "source": [
    "Was die Operatoren bewirken, hängt vom Datentyp ab. ZB können wir auch Strings addieren."
   ]
  },
  {
   "cell_type": "code",
   "execution_count": 9,
   "id": "cc6ec251-15e4-4d54-8938-062f9b19c86d",
   "metadata": {},
   "outputs": [
    {
     "name": "stdout",
     "output_type": "stream",
     "text": [
      "python futtert Matlab zum Frühstück\n"
     ]
    }
   ],
   "source": [
    "first_string=\"python futtert\"\n",
    "second_string=\"Matlab zum Frühstück\"\n",
    "result=first_string+\" \"+second_string\n",
    "print(result)"
   ]
  },
  {
   "cell_type": "markdown",
   "id": "fe94dea2-2533-4f13-9afc-0f2d87951c88",
   "metadata": {},
   "source": [
    "Zum Vergleichen gibt's ==,!=,>=,<=,<,>. Das Ergebnis ist entweder <code>True</code> oder <code>False</code>."
   ]
  },
  {
   "cell_type": "code",
   "execution_count": 10,
   "id": "74dadab4-d5dd-4c84-9668-97d6962b08f5",
   "metadata": {},
   "outputs": [
    {
     "data": {
      "text/plain": [
       "False"
      ]
     },
     "execution_count": 10,
     "metadata": {},
     "output_type": "execute_result"
    }
   ],
   "source": [
    "x=12\n",
    "y=13\n",
    "x==y"
   ]
  },
  {
   "cell_type": "code",
   "execution_count": 11,
   "id": "bb2c4d21-9afd-43e9-9d7c-0b527882e78b",
   "metadata": {},
   "outputs": [
    {
     "data": {
      "text/plain": [
       "True"
      ]
     },
     "execution_count": 11,
     "metadata": {},
     "output_type": "execute_result"
    }
   ],
   "source": [
    "some_string=\"fortytwo\"\n",
    "some_string=='fortytwo'"
   ]
  },
  {
   "cell_type": "code",
   "execution_count": 12,
   "id": "67d0ab6f-7f6b-4005-b853-8f011a11eb4f",
   "metadata": {},
   "outputs": [
    {
     "data": {
      "text/plain": [
       "False"
      ]
     },
     "execution_count": 12,
     "metadata": {},
     "output_type": "execute_result"
    }
   ],
   "source": [
    "12!=12"
   ]
  },
  {
   "cell_type": "code",
   "execution_count": 13,
   "id": "251ecc3b-4f31-4cb8-886e-6e9162416ea9",
   "metadata": {},
   "outputs": [
    {
     "data": {
      "text/plain": [
       "False"
      ]
     },
     "execution_count": 13,
     "metadata": {},
     "output_type": "execute_result"
    }
   ],
   "source": [
    "1234<=234"
   ]
  },
  {
   "cell_type": "markdown",
   "id": "4781c84c-44e8-4d5e-b967-ff0621a2a048",
   "metadata": {},
   "source": [
    "Die logischen Verknüpfungen <code>and</code> und <code>or</code> erlauben kompliziertere Ausdrücke."
   ]
  },
  {
   "cell_type": "code",
   "execution_count": 14,
   "id": "4f49e543-123d-41f8-bcb3-bb187f80f917",
   "metadata": {},
   "outputs": [
    {
     "data": {
      "text/plain": [
       "True"
      ]
     },
     "execution_count": 14,
     "metadata": {},
     "output_type": "execute_result"
    }
   ],
   "source": [
    "(x!=y) and (some_string=='fortytwo')"
   ]
  },
  {
   "cell_type": "markdown",
   "id": "22a89a8f-0884-4995-9961-0599a565ccb1",
   "metadata": {},
   "source": [
    "Kommentare werden mit # gemacht. Alles in einer Zeile nach # ist ein Kommentar und wird ignoriert."
   ]
  },
  {
   "cell_type": "code",
   "execution_count": 15,
   "id": "86bdd859-6b6e-414a-82e3-19fd54ea6146",
   "metadata": {},
   "outputs": [],
   "source": [
    "some_variable=12.23 # dies ist ein Kommentar \n",
    "\n",
    "# Eine ganze Zeile kann auch ein Kommentar sein \n",
    "### Oft setze ich gleich drei #. Das macht keinen Unterschied und ist rein kosmetisch."
   ]
  },
  {
   "cell_type": "markdown",
   "id": "9443df26-2486-46bc-89ed-132c43196fbe",
   "metadata": {},
   "source": [
    "## Mathematische Funktionen\n",
    "\n",
    "Python bietet eine Reihe von (mathematischen) Funktionen an, zB <code>round</code> und <code>abs</code>. [Hier](https://docs.python.org/3/library/functions.html) ist eine Liste aller direkt verfügbarer Funktionen."
   ]
  },
  {
   "cell_type": "code",
   "execution_count": 16,
   "id": "cc9b0868-660d-43dd-9dbf-50cfd03e5ff6",
   "metadata": {},
   "outputs": [
    {
     "data": {
      "text/plain": [
       "(3, 42)"
      ]
     },
     "execution_count": 16,
     "metadata": {},
     "output_type": "execute_result"
    }
   ],
   "source": [
    "round(3.123),abs(-42)"
   ]
  },
  {
   "cell_type": "markdown",
   "id": "0e3d2c9b-b774-4d9b-a21f-4d811ab49ef4",
   "metadata": {},
   "source": [
    "Neben den arithmetischen Grundoperation gibt es natürlich weiterführende mathematische Operationen. Vielen von diesen sind in dem *package* <code>math</code> enthalten. Damit wir das Paket nutzen können, müssen wir es importieren. Das geschieht mit <code>import math</code> (muss nur einmal irgendwo im Notebook ausgeführt werden). Die darin enthaltenen Funktionen und Konstanten sprechen wir dann so an:"
   ]
  },
  {
   "cell_type": "code",
   "execution_count": 17,
   "id": "4b4bf70c-944c-492d-84f3-f14faf9c0846",
   "metadata": {},
   "outputs": [
    {
     "data": {
      "text/plain": [
       "3.141592653589793"
      ]
     },
     "execution_count": 17,
     "metadata": {},
     "output_type": "execute_result"
    }
   ],
   "source": [
    "import math\n",
    "\n",
    "math.pi"
   ]
  },
  {
   "cell_type": "markdown",
   "id": "ed5e1858-55ad-4025-83f1-143099266da3",
   "metadata": {},
   "source": [
    "Funktionen werden mit nachgestellten Klammern aufgerufen -- ganz wie in anderen Sprachen."
   ]
  },
  {
   "cell_type": "code",
   "execution_count": 18,
   "id": "33ab713c-cc23-46bc-a717-e0ac84189f1f",
   "metadata": {},
   "outputs": [
    {
     "data": {
      "text/plain": [
       "1.4142135623730951"
      ]
     },
     "execution_count": 18,
     "metadata": {},
     "output_type": "execute_result"
    }
   ],
   "source": [
    "math.sqrt(2) # Wurzel 2"
   ]
  },
  {
   "cell_type": "code",
   "execution_count": 19,
   "id": "9fb353fb-dad7-4fc6-996d-6d8e3c4b767b",
   "metadata": {},
   "outputs": [
    {
     "data": {
      "text/plain": [
       "-1"
      ]
     },
     "execution_count": 19,
     "metadata": {},
     "output_type": "execute_result"
    }
   ],
   "source": [
    "round(math.cos(math.pi))"
   ]
  },
  {
   "cell_type": "markdown",
   "id": "ea71f065-d255-48ea-8797-bb5342af678e",
   "metadata": {},
   "source": [
    "[Hier](https://docs.python.org/3/library/math.html) ist die Liste aller Konstanten und Funktionen im <code>math</code> package. Dort ist auch unendlich definiert:"
   ]
  },
  {
   "cell_type": "code",
   "execution_count": 20,
   "id": "5ad5a623-4abe-465c-8603-738d58e056cb",
   "metadata": {},
   "outputs": [
    {
     "data": {
      "text/plain": [
       "True"
      ]
     },
     "execution_count": 20,
     "metadata": {},
     "output_type": "execute_result"
    }
   ],
   "source": [
    "10**100<=math.inf"
   ]
  },
  {
   "cell_type": "markdown",
   "id": "4bfcf298-f990-4586-9a41-029822a4509b",
   "metadata": {},
   "source": [
    "## Listen \n",
    "\n",
    "Listen werden direkt von python unterstützt. Listen werden mit eckigen Klammern definiert:"
   ]
  },
  {
   "cell_type": "code",
   "execution_count": 21,
   "id": "da5f3daf-1570-489e-a6d3-02f7049a7060",
   "metadata": {},
   "outputs": [
    {
     "data": {
      "text/plain": [
       "[1, 2, 3, 4, 42]"
      ]
     },
     "execution_count": 21,
     "metadata": {},
     "output_type": "execute_result"
    }
   ],
   "source": [
    "this_is_a_list=[1,2,3,4,42]\n",
    "this_is_a_list"
   ]
  },
  {
   "cell_type": "markdown",
   "id": "4aabead0-cfd8-45d7-95a8-e9e865836b9c",
   "metadata": {},
   "source": [
    "Auf die Elemente einer Liste greift man wiederum mit eckigen Klammern zu: <code>this_is_a_list[index]</code> Achtung: python fängt beim Index bei Null an zu zählen. (Das ist wie bei jedeR ProgRammieRsprache, die nicht von Wahnsinnigen konzipieRt wuRde.) "
   ]
  },
  {
   "cell_type": "code",
   "execution_count": 22,
   "id": "974a8345-6094-45e5-84fd-9f0c629a8a47",
   "metadata": {},
   "outputs": [
    {
     "data": {
      "text/plain": [
       "4"
      ]
     },
     "execution_count": 22,
     "metadata": {},
     "output_type": "execute_result"
    }
   ],
   "source": [
    "this_is_a_list[3]"
   ]
  },
  {
   "cell_type": "markdown",
   "id": "679a8437-b147-41d9-ace8-4509a179d2fd",
   "metadata": {},
   "source": [
    "Hier ist ein nettes feature: Mit negativen Indizes greift man von hinten auf die Liste zu, mit <code>this_is_a_list[-1]</code> zB bekommen wir das letzte Element der Liste. Listen akzeptieren übrigens beliebige Variablentypen als Elemente."
   ]
  },
  {
   "cell_type": "code",
   "execution_count": 23,
   "id": "7449c1c7-9685-4cdc-a7d2-251e768b4415",
   "metadata": {},
   "outputs": [
    {
     "data": {
      "text/plain": [
       "'four'"
      ]
     },
     "execution_count": 23,
     "metadata": {},
     "output_type": "execute_result"
    }
   ],
   "source": [
    "some_list=[0,'one',2,3.0,'four','more than four']\n",
    "some_list[-2]"
   ]
  },
  {
   "cell_type": "markdown",
   "id": "78abc842-bd72-4ec8-9cda-618edc9b6333",
   "metadata": {},
   "source": [
    "Listeneinträge kann man auf ähnliche Art und Weise ändern:"
   ]
  },
  {
   "cell_type": "code",
   "execution_count": 24,
   "id": "c63bb73a-f397-41e3-ade1-1c48415dc389",
   "metadata": {},
   "outputs": [
    {
     "data": {
      "text/plain": [
       "[0, 'one', 10000, 3.0, 'four', 'more than four']"
      ]
     },
     "execution_count": 24,
     "metadata": {},
     "output_type": "execute_result"
    }
   ],
   "source": [
    "some_list[2]=10000\n",
    "some_list"
   ]
  },
  {
   "cell_type": "markdown",
   "id": "4d555d34-8642-4eca-8d26-03d735510466",
   "metadata": {},
   "source": [
    "Ein sehr nützliches feature: Es ist möglich nur einen Teil der Liste zu betrachten. Dies geht mit dem *slicing*-Operator, dem Doppelpunkt, und zwar so:"
   ]
  },
  {
   "cell_type": "code",
   "execution_count": 25,
   "id": "20603f7a-39de-4db7-a34a-a61d7c79754d",
   "metadata": {},
   "outputs": [
    {
     "data": {
      "text/plain": [
       "['one', 10000, 3.0]"
      ]
     },
     "execution_count": 25,
     "metadata": {},
     "output_type": "execute_result"
    }
   ],
   "source": [
    "some_list[1:4]"
   ]
  },
  {
   "cell_type": "markdown",
   "id": "93979bd2-c706-4bef-9514-2a565217187c",
   "metadata": {},
   "source": [
    "Man sieht <code>some_list[a:b]</code> liefert die Teilliste mit den Indizes $a,a+1,...,b-1$. Warum **exklusive** dem Element mit Index $b$? Weil, man so Listen gut partitionieren kann (wenn $a$ oder $b$ weggelassen wird, so wird der Beginn für $a$ angenommen und das Ende für $b$):"
   ]
  },
  {
   "cell_type": "code",
   "execution_count": 26,
   "id": "5a237d35-07cb-4320-bde0-94624ee96a06",
   "metadata": {},
   "outputs": [
    {
     "data": {
      "text/plain": [
       "([0, 'one', 10000], [3.0, 'four', 'more than four'])"
      ]
     },
     "execution_count": 26,
     "metadata": {},
     "output_type": "execute_result"
    }
   ],
   "source": [
    "some_list[:3],some_list[3:]"
   ]
  },
  {
   "cell_type": "markdown",
   "id": "f02ca8e6-be1a-49fe-8d65-be5cdd9da216",
   "metadata": {},
   "source": [
    "Oft braucht man die Länge einer Liste -- die erhalten wir mit <code>len</code>."
   ]
  },
  {
   "cell_type": "code",
   "execution_count": 27,
   "id": "88ec4136-1cf9-4f45-8217-f087bea1f519",
   "metadata": {},
   "outputs": [
    {
     "data": {
      "text/plain": [
       "6"
      ]
     },
     "execution_count": 27,
     "metadata": {},
     "output_type": "execute_result"
    }
   ],
   "source": [
    "len(some_list)"
   ]
  },
  {
   "cell_type": "markdown",
   "id": "d58001db-28b4-46e9-9d3c-b408f850c0da",
   "metadata": {},
   "source": [
    "Quasi alles in python ist ein Objekt, so auch die Listen. Objekte können ganz eigene Methoden und Eigenschaften haben -- auf diese wird mit dem Punkt-Operator zugegriffen. ZB besitzen Listen eine Kopiermethode, mit der eine Kopie der Liste gemacht wird. Das geht so."
   ]
  },
  {
   "cell_type": "code",
   "execution_count": 28,
   "id": "3f7c8cdd-d8e0-4bf4-8363-b6b44549facf",
   "metadata": {},
   "outputs": [
    {
     "data": {
      "text/plain": [
       "(['a', 'b', 'c', 'd'], ['a', 'b', 'c', 'blubb'])"
      ]
     },
     "execution_count": 28,
     "metadata": {},
     "output_type": "execute_result"
    }
   ],
   "source": [
    "again_a_list=['a','b','c','blubb']\n",
    "L=again_a_list.copy()\n",
    "L[-1]='d'\n",
    "L,again_a_list"
   ]
  },
  {
   "cell_type": "markdown",
   "id": "eb847448-42ff-4feb-a7d3-c0021b276409",
   "metadata": {},
   "source": [
    "Eine andere nützliche Listenmethode ist <code>append</code>, mit dieser kann ein Element hinten rangehängt werden. (Wenn das Element an anderer Stelle eingefügt werden soll, so verwenden wir <code>insert</code>.)"
   ]
  },
  {
   "cell_type": "code",
   "execution_count": 29,
   "id": "ba84635d-368a-435b-bc41-9ad7ed75967f",
   "metadata": {},
   "outputs": [
    {
     "data": {
      "text/plain": [
       "['a', 'b', 'c', 'blubb', 'blubba']"
      ]
     },
     "execution_count": 29,
     "metadata": {},
     "output_type": "execute_result"
    }
   ],
   "source": [
    "again_a_list.append('blubba')\n",
    "again_a_list"
   ]
  },
  {
   "cell_type": "markdown",
   "id": "95af4b73-7d8f-4c1c-8192-08f8481bc324",
   "metadata": {},
   "source": [
    "Listen können geschachtelt werden, dh, Listen können Listen als Elemente enthalten."
   ]
  },
  {
   "cell_type": "code",
   "execution_count": 30,
   "id": "5723341e-8be6-4af6-bd6e-9dbee9c88327",
   "metadata": {},
   "outputs": [
    {
     "data": {
      "text/plain": [
       "['a', 'b', 'c', 'blubb', 'blubba', [1, 2, 3]]"
      ]
     },
     "execution_count": 30,
     "metadata": {},
     "output_type": "execute_result"
    }
   ],
   "source": [
    "again_a_list.append([1,2,3])\n",
    "again_a_list"
   ]
  },
  {
   "cell_type": "markdown",
   "id": "d7969e9e-86b1-42aa-b2d0-ff3abfd361ed",
   "metadata": {},
   "source": [
    "Listen bieten noch einige weitere eingebaute Methoden (zB sortieren, vereinigen, löschen). Diese finden sich [hier.](https://docs.python.org/3/tutorial/datastructures.html)"
   ]
  },
  {
   "cell_type": "markdown",
   "id": "182a58e3-f409-4f08-9a0c-dfee57464a00",
   "metadata": {},
   "source": [
    "## Blöcke, if, for\n",
    "Wie andere Sprachen hat python ebenfalls Schleifen und if-Abfragen. Schleifen und if-Abfragen definieren ganz natürlich *Programmblöcke*, nämlich das Innere einer Schleife oder der Block, der ausgeführt werden, wenn die die if-Bedingung wahr ist. Andere Sprachen klammern diese Blöcke ein, zB mit <code>{...}</code>. Python macht das nicht, sondern verwendet Einrückungen."
   ]
  },
  {
   "cell_type": "code",
   "execution_count": 31,
   "id": "b64090b7-12b0-4de9-b0e9-fdaec6d56b5a",
   "metadata": {},
   "outputs": [
    {
     "name": "stdout",
     "output_type": "stream",
     "text": [
      "Achtung: n ist die Antwort!\n",
      "Wirklich!\n",
      "Was ist die Frage?\n"
     ]
    }
   ],
   "source": [
    "n=42\n",
    "if n==42:\n",
    "    print(\"Achtung: n ist die Antwort!\")\n",
    "    print(\"Wirklich!\")\n",
    "    print(\"Was ist die Frage?\")\n",
    "else:\n",
    "    print(\"n ist irgendwas\")"
   ]
  },
  {
   "cell_type": "markdown",
   "id": "60809513-c24f-4115-bf75-ba00724b6501",
   "metadata": {},
   "source": [
    "Weil die drei <code>print</code>-Anweisungen eingerückt sind und *gleich* weit eingerückt sind, gehören sie alle zum gleichen Block, nämlich dem, der ausgeführt wird, wenn die if-Bedingung wahr ist. "
   ]
  },
  {
   "cell_type": "markdown",
   "id": "8bbfd034-07c1-4c39-8920-2204de803213",
   "metadata": {},
   "source": [
    "<code>if</code> erlaubt natürlich mehrere Fälle."
   ]
  },
  {
   "cell_type": "code",
   "execution_count": 32,
   "id": "b8c3934c-dc0c-4d5d-8abb-e05174858021",
   "metadata": {},
   "outputs": [
    {
     "name": "stdout",
     "output_type": "stream",
     "text": [
      "n gerade, aber nicht durch 4 teilbar\n"
     ]
    }
   ],
   "source": [
    "n=10\n",
    "if n%4==0:\n",
    "    print(\"n durch 4 teilbar\")\n",
    "elif n%4==2:\n",
    "    print(\"n gerade, aber nicht durch 4 teilbar\")\n",
    "else:\n",
    "    print(\"n ungerade\")"
   ]
  },
  {
   "cell_type": "markdown",
   "id": "96052ca6-941b-4dda-94bb-4deb9bb631c0",
   "metadata": {},
   "source": [
    "Python hat zwei Schleifen-Konstrukte, <code>for</code> und <code>while</code>. "
   ]
  },
  {
   "cell_type": "code",
   "execution_count": 33,
   "id": "3bdb2fd0-a691-4146-aa29-17755f2b420f",
   "metadata": {},
   "outputs": [
    {
     "name": "stdout",
     "output_type": "stream",
     "text": [
      "** a **\n",
      "** bee **\n",
      "** see **\n",
      "** omega **\n"
     ]
    }
   ],
   "source": [
    "a_list=['a','bee','see','omega']\n",
    "for element in a_list:\n",
    "    print(\"** \"+element+\" **\")"
   ]
  },
  {
   "cell_type": "markdown",
   "id": "12bd1acb-d439-476f-a46c-e7582860b0c8",
   "metadata": {},
   "source": [
    "Mit weiteren Einrückungen können verschiedene Blöcke geschachtelt werden, zB zwei <code>for</code>-Schleifen, eine innere und eine äußere, oder eine <code>if</code>-Bedingung in einer <code>for</code>-Schleife."
   ]
  },
  {
   "cell_type": "code",
   "execution_count": 34,
   "id": "05b29976-dd73-4dbe-8c27-240b2704ffe0",
   "metadata": {},
   "outputs": [
    {
     "name": "stdout",
     "output_type": "stream",
     "text": [
      "** bee **\n",
      "** see **\n",
      "** omega **\n"
     ]
    }
   ],
   "source": [
    "a_list=['a','bee','see','omega','z']\n",
    "for element in a_list:\n",
    "    if len(element)>1: \n",
    "        print(\"** \"+element+\" **\")"
   ]
  },
  {
   "cell_type": "markdown",
   "id": "3d642afe-277d-462c-b8ca-16cfecf1c9e8",
   "metadata": {},
   "source": [
    "Was müssen wir machen, wenn wir eine <code>for</code>-Schleife 7-mal ausführen wollen? Wir nutzen <code>range(7)</code>: Der Befehl erzeugt$^*$ die Liste <code>[0,1,2,3,4,5,6]</code>. "
   ]
  },
  {
   "cell_type": "code",
   "execution_count": 35,
   "id": "79f2c34d-4994-4ef2-9d1e-cb5e14c6870d",
   "metadata": {},
   "outputs": [
    {
     "name": "stdout",
     "output_type": "stream",
     "text": [
      "0\n",
      "1\n",
      "4\n",
      "9\n",
      "16\n",
      "25\n",
      "36\n"
     ]
    }
   ],
   "source": [
    "for i in range(7):\n",
    "    print(i**2)"
   ]
  },
  {
   "cell_type": "markdown",
   "id": "2fb31b3c-45b3-418a-8c1e-dd2612ae12c0",
   "metadata": {},
   "source": [
    "Wieso war da ein verdächtiges Sternchen an *erzeugt*? Weil <code>range(7)</code> nicht wirklich eine Liste mit den Zahlen $0,1,...,6$ erzeugt. (Das hat Effizienzgründe.) Wenn wir wirklich so eine Liste haben wollen, müssen wir <code>list</code> darauf anwenden."
   ]
  },
  {
   "cell_type": "code",
   "execution_count": 36,
   "id": "3327850e-c392-457b-ae4e-c0279169b979",
   "metadata": {},
   "outputs": [
    {
     "data": {
      "text/plain": [
       "[0, 1, 2, 3, 4, 5]"
      ]
     },
     "execution_count": 36,
     "metadata": {},
     "output_type": "execute_result"
    }
   ],
   "source": [
    "list(range(6))"
   ]
  },
  {
   "cell_type": "markdown",
   "id": "51f4efb9-a120-4c72-b1fa-44437a30ee37",
   "metadata": {},
   "source": [
    "<code>range</code> hat noch mehr Funktionalität. Wir können zB den Anfang ändern..."
   ]
  },
  {
   "cell_type": "code",
   "execution_count": 37,
   "id": "077c14e9-8224-4bbe-a371-e699e38f5fdb",
   "metadata": {},
   "outputs": [
    {
     "data": {
      "text/plain": [
       "[2, 3, 4, 5]"
      ]
     },
     "execution_count": 37,
     "metadata": {},
     "output_type": "execute_result"
    }
   ],
   "source": [
    "list(range(2,6))"
   ]
  },
  {
   "cell_type": "markdown",
   "id": "3eec7e45-b86e-42b6-960d-f0141825623f",
   "metadata": {},
   "source": [
    "...und auch die Schrittweite:"
   ]
  },
  {
   "cell_type": "code",
   "execution_count": 38,
   "id": "39384e95-9930-4166-83ca-02abcc2038f7",
   "metadata": {},
   "outputs": [
    {
     "data": {
      "text/plain": [
       "[12, 15, 18, 21, 24, 27, 30, 33, 36, 39]"
      ]
     },
     "execution_count": 38,
     "metadata": {},
     "output_type": "execute_result"
    }
   ],
   "source": [
    "list(range(12,41,3))"
   ]
  },
  {
   "cell_type": "markdown",
   "id": "3a1c6c61-51bd-4889-bfef-50d3fcd6b77b",
   "metadata": {},
   "source": [
    "Oben haben wir die ersten 7 Quadratzahlen ausgegeben. In einer Liste geht dies auch einfacher mit *list comprehensions*."
   ]
  },
  {
   "cell_type": "code",
   "execution_count": 39,
   "id": "698f2b50-1577-43ae-8f64-451a69a6ccb1",
   "metadata": {},
   "outputs": [
    {
     "data": {
      "text/plain": [
       "[0, 1, 4, 9, 16, 25, 36]"
      ]
     },
     "execution_count": 39,
     "metadata": {},
     "output_type": "execute_result"
    }
   ],
   "source": [
    "squares=[i**2 for i in range(7)]\n",
    "squares"
   ]
  },
  {
   "cell_type": "markdown",
   "id": "d02e731f-410c-425e-bfa9-7de0d338f131",
   "metadata": {},
   "source": [
    "Sehr nützlich ist dies auch im Zusammenhang mit dem eingebauten <code>sum</code>-Befehl, mit dem sich alle Elemente einer Liste summieren lassen. Hier ist zB eine elementare Summenformel:\n",
    "$$\n",
    "\\sum_{i=1}^{n}i^2=\\frac{n(n+1)(2n+1)}{6}\n",
    "$$\n",
    "Überprüfen wir, ob die wirklich stimmt!"
   ]
  },
  {
   "cell_type": "code",
   "execution_count": 40,
   "id": "d6a65ae7-2576-4baf-9ec8-f5b7f6d12e99",
   "metadata": {},
   "outputs": [
    {
     "data": {
      "text/plain": [
       "True"
      ]
     },
     "execution_count": 40,
     "metadata": {},
     "output_type": "execute_result"
    }
   ],
   "source": [
    "n=123\n",
    "squares=[i**2 for i in range(n+1)] # warum n+1? Weil range(n) nur bis n-1 geht\n",
    "sum(squares)==n*(n+1)*(2*n+1)/6"
   ]
  },
  {
   "cell_type": "markdown",
   "id": "4970e58a-ebfc-43e5-b694-1196336b8fc0",
   "metadata": {
    "nbgrader": {
     "grade": false,
     "grade_id": "cell-64409ab8890e714e",
     "locked": true,
     "schema_version": 3,
     "solution": false,
     "task": false
    }
   },
   "source": [
    "Welche Wert nimmt die Reihe\n",
    "$$\n",
    "\\sum_{n=1}^{\\infty}\\frac{1}{n^2}=??\n",
    "$$\n",
    "an? Dies ist das berühmte [Basler-Problem](https://de.wikipedia.org/wiki/Basler_Problem), das lange offen war, bis Super-Star Euler zeigte, dass die Reihe den Wert $\\frac{\\pi^2}{6}$ annimmt. (Das Ergebnis haut mich jedes mal um. Wo kommt denn $\\pi$ her? Und auch noch quadriert? Crazy.)\n",
    "\n",
    "### Aufgabe: Basel\n",
    "Berechnen Sie die Teilsumme der ersten 123 Summanden und dann\n",
    "$$\n",
    "\\epsilon=\\left|\\sum_{n=1}^{123}\\frac{1}{n^2}-\\frac{\\pi^2}{6}\\right|\n",
    "$$\n",
    "Das Ergebnis soll in einer Variable namens <code>epsilon</code> gespeichert werden. Sie werden eventuell die Funktion <code>abs</code> brauchen und denken Sie an das <code>math</code>-Paket."
   ]
  },
  {
   "cell_type": "code",
   "execution_count": 41,
   "id": "6ce418cd-78d9-4622-9ff0-71cede006179",
   "metadata": {
    "nbgrader": {
     "grade": false,
     "grade_id": "basel",
     "locked": false,
     "schema_version": 3,
     "solution": true,
     "task": false
    }
   },
   "outputs": [
    {
     "data": {
      "text/plain": [
       "0.008097121752637104"
      ]
     },
     "execution_count": 41,
     "metadata": {},
     "output_type": "execute_result"
    }
   ],
   "source": [
    "### BEGIN SOLUTION\n",
    "N=123\n",
    "terms=[1/n**2 for n in range(1,N+1)]\n",
    "epsilon=abs(sum(terms)-math.pi**2/6)\n",
    "### END SOLUTION\n",
    "epsilon"
   ]
  },
  {
   "cell_type": "code",
   "execution_count": 42,
   "id": "e342c115-3bcb-4667-802a-8f49ef9caadd",
   "metadata": {
    "nbgrader": {
     "grade": true,
     "grade_id": "basel-test",
     "locked": true,
     "points": 3,
     "schema_version": 3,
     "solution": false,
     "task": false
    }
   },
   "outputs": [],
   "source": [
    "### Dies ist eine TESTZELLE. \n",
    "### Wenn die Ausführung zu einem Fehler führt, haben Sie etwas falsch gemacht\n",
    "### Wenn bei Ausführung nichts passiert, dann ist Ihre Lösung richtig oder zumindest nicht grob falsch\n",
    "assert epsilon<0.01\n",
    "### BEGIN HIDDEN TESTS\n",
    "assert abs(epsilon-0.008)<0.0001\n",
    "### END HIDDEN TESTS"
   ]
  },
  {
   "cell_type": "markdown",
   "id": "a2bcec49-5417-4d40-8f37-c1277cd31fb0",
   "metadata": {},
   "source": [
    "Wir haben nun auch alles an der Hand, um die ersten $n$ **Fibonacci-Zahlen** zu berechnen. Was waren noch die Fibonacci-Zahlen? Das ist die Folge $F_0,F_1,F_2,...$, die wie folgt definiert ist:\n",
    "$$\n",
    "\\begin{array}{l}\n",
    "F_0  =0\\\\\n",
    "F_1  =1\\\\\n",
    "F_n  = F_{n-1}+F_{n-2}\\quad\\textsf{ für }n\\geq 2\n",
    "\\end{array}\n",
    "$$\n"
   ]
  },
  {
   "cell_type": "code",
   "execution_count": 43,
   "id": "1932ae13-9104-4860-8ebc-71b003b274a2",
   "metadata": {},
   "outputs": [
    {
     "data": {
      "text/plain": [
       "[0, 1, 1, 2, 3, 5, 8, 13, 21, 34, 55]"
      ]
     },
     "execution_count": 43,
     "metadata": {},
     "output_type": "execute_result"
    }
   ],
   "source": [
    "n=10\n",
    "fib_seq=[0,1] # dies sind die Startwerte der Fibonacci-Folge\n",
    "for i in range(2,n+1): # wir starten bei i=2, da erst ab da die Rekursion greift\n",
    "    fib_seq.append(fib_seq[i-1]+fib_seq[i-2])\n",
    "fib_seq"
   ]
  },
  {
   "cell_type": "markdown",
   "id": "2e41d27b-dbaf-4b92-ba03-054567ff8b96",
   "metadata": {},
   "source": [
    "### Aufgabe: Pythagoreische Tripel\n",
    "Ein *Pythagoreisches Tripel* ist ein Tupel $(a,b,c)$ von natürlichen Zahlen, so dass $a^2+b^2=c^2$. Beispiele:\n",
    "* $3^2+4^2=5^2$\n",
    "* $5^2+12^2=13^2$\n",
    "  \n",
    "Suchen Sie alle Pythagoreischen Tripel mit $a,b\\leq 50$ und speichern Sie alle gefundenen Tripel in der Form <code>[a,b,c]</code> in einer Liste namens <code>triples</code>. Sie können $a\\leq b$ annehmen. \n",
    "\n",
    "Hinweise:\n",
    "* Verwenden Sie zwei geschachtelte <code>for</code>-Schleifen, eine für $a$ und eine für $b$.\n",
    "* Die Schleife für $b$ sollte $b$ die Werte $a,a+1,...,50$ annehmen lassen.\n",
    "* Wie können Sie prüfen, ob es ein $c\\in\\mathbb N$ gibt, so dass $a^2+b^2=c^2$? Indem Sie $\\sqrt{a^2+b^2}$ berechnen und schauen, ob das eine ganze Zahl ist. Das geht zB so: Runden Sie $\\sqrt{a^2+b^2}$ (mittels <code>round</code>), nennen Sie das Ergebnis $\\hat c$ und prüfen Sie, ob $\\hat c^2\\stackrel{?}{=}a^2+b^2$"
   ]
  },
  {
   "cell_type": "code",
   "execution_count": 44,
   "id": "1a67f6ba-cac1-4001-a7a0-b86eeb4ad7ff",
   "metadata": {
    "nbgrader": {
     "grade": false,
     "grade_id": "cell-22d5f3016df451ab",
     "locked": false,
     "schema_version": 3,
     "solution": true,
     "task": false
    }
   },
   "outputs": [
    {
     "data": {
      "text/plain": [
       "[[3, 4, 5],\n",
       " [5, 12, 13],\n",
       " [6, 8, 10],\n",
       " [7, 24, 25],\n",
       " [8, 15, 17],\n",
       " [9, 12, 15],\n",
       " [9, 40, 41],\n",
       " [10, 24, 26],\n",
       " [12, 16, 20],\n",
       " [12, 35, 37],\n",
       " [14, 48, 50],\n",
       " [15, 20, 25],\n",
       " [15, 36, 39],\n",
       " [16, 30, 34],\n",
       " [18, 24, 30],\n",
       " [20, 21, 29],\n",
       " [20, 48, 52],\n",
       " [21, 28, 35],\n",
       " [24, 32, 40],\n",
       " [24, 45, 51],\n",
       " [27, 36, 45],\n",
       " [28, 45, 53],\n",
       " [30, 40, 50],\n",
       " [33, 44, 55],\n",
       " [36, 48, 60],\n",
       " [40, 42, 58]]"
      ]
     },
     "execution_count": 44,
     "metadata": {},
     "output_type": "execute_result"
    }
   ],
   "source": [
    "triples=[]\n",
    "### BEGIN SOLUTION\n",
    "n=50\n",
    "for a in range(1,n+1):\n",
    "    for b in range(a,n+1):\n",
    "        c=round(math.sqrt(a**2+b**2))\n",
    "        if a**2+b**2==c**2:\n",
    "            triples.append([a,b,c])\n",
    "### END SOLUTION\n",
    "triples"
   ]
  },
  {
   "cell_type": "code",
   "execution_count": 45,
   "id": "25fdd687-da2c-4bc8-9c07-31ac0eee01c9",
   "metadata": {
    "nbgrader": {
     "grade": true,
     "grade_id": "cell-ae7f76b7ed250c7b",
     "locked": true,
     "points": 0,
     "schema_version": 3,
     "solution": false,
     "task": false
    }
   },
   "outputs": [],
   "source": [
    "### Dies ist eine TESTZELLE. \n",
    "### Wenn die Ausführung zu einem Fehler führt, haben Sie etwas falsch gemacht\n",
    "### Wenn bei Ausführung nichts passiert, dann ist Ihre Lösung richtig oder zumindest nicht grob falsch\n",
    "assert [3,4,5] in triples\n",
    "assert [5,12,13] in triples\n",
    "### BEGIN HIDDEN TESTS\n",
    "assert [30,40,50] in triples\n",
    "assert len(triples)==26\n",
    "### END HIDDEN TESTS"
   ]
  },
  {
   "cell_type": "markdown",
   "id": "97a4ffb8-acb0-4edf-8192-c6ec4c9a6082",
   "metadata": {},
   "source": [
    "Wozu ist das gut? Mit so einer Liste kann man Hypothesen generieren. ZB kann auffallen: Wenn $c$ gerade ist, so sind auch $a,b$ beide gerade. Dann kann man sich fragen, ob das immer gilt und wenn ja, warum. Usw."
   ]
  },
  {
   "cell_type": "markdown",
   "id": "0d641d80-3eb0-49f9-a1f4-06aa7fc485d8",
   "metadata": {},
   "source": [
    "Es gibt noch ein zweites Schleifenkonstrukt: <code>while</code>-Schleifen. Die werden solange ausgeführt, bis die <code>while</code>-Bedingung falsch ist. "
   ]
  },
  {
   "cell_type": "code",
   "execution_count": 46,
   "id": "688ee780-4fe4-4e75-80ea-c3f35b1858e5",
   "metadata": {},
   "outputs": [
    {
     "data": {
      "text/plain": [
       "7"
      ]
     },
     "execution_count": 46,
     "metadata": {},
     "output_type": "execute_result"
    }
   ],
   "source": [
    "n=100\n",
    "i=0\n",
    "while n>1:\n",
    "    i=i+1\n",
    "    n=n/2\n",
    "i"
   ]
  },
  {
   "cell_type": "markdown",
   "id": "41540ae1-d34c-4448-bc6a-82746fc21c91",
   "metadata": {},
   "source": [
    "## Funktionen\n",
    "\n",
    "Oben haben wir die Folge der ersten 10 Fibonacci-Zahlen erzeugt. Wenn wir öfter Fibonacci-Zahlen brauchen, sollten wir mittels des Schlüsselworts <code>def</code> eine Funktion draus machen. Aus $n$, der Länge der Folge, machen wir einen Parameter. Die Rückgabe der Folge geschieht mit <code>return</code>"
   ]
  },
  {
   "cell_type": "code",
   "execution_count": 47,
   "id": "c989287c-1f32-4809-947b-f2e2bad51ff7",
   "metadata": {},
   "outputs": [
    {
     "data": {
      "text/plain": [
       "[0, 1, 1, 2, 3, 5, 8, 13, 21, 34, 55, 89, 144, 233]"
      ]
     },
     "execution_count": 47,
     "metadata": {},
     "output_type": "execute_result"
    }
   ],
   "source": [
    "def fibonacci(n): # n ist ein Parameter\n",
    "    fib_seq=[0,1] # dies sind die Startwerte der Fibonacci-Folge\n",
    "    for i in range(2,n+1): # wir starten bei i=2, da erst ab da die Rekursion greift\n",
    "        fib_seq.append(fib_seq[i-1]+fib_seq[i-2])\n",
    "    return fib_seq # die Liste fib_seq wird zurück gegeben\n",
    "\n",
    "fibonacci(13)"
   ]
  },
  {
   "cell_type": "markdown",
   "id": "40aecc93-8e88-40ec-8a45-2621ff6cb03b",
   "metadata": {},
   "source": [
    "Funktionen können sich auch selbst aufrufen. Hier ist eine rekursive Implementation für die Berechnung der $n$. Fibonacci-Zahl. (Die Implementation ist nicht effizient, aber dafür einfach.)"
   ]
  },
  {
   "cell_type": "code",
   "execution_count": 48,
   "id": "8df1cd8d-ba70-4de1-a848-3164056d4e54",
   "metadata": {},
   "outputs": [
    {
     "data": {
      "text/plain": [
       "6765"
      ]
     },
     "execution_count": 48,
     "metadata": {},
     "output_type": "execute_result"
    }
   ],
   "source": [
    "def get_fib(n):\n",
    "    if n==0:\n",
    "        return 0\n",
    "    if n<=2:\n",
    "        return 1\n",
    "    return get_fib(n-1)+get_fib(n-2)\n",
    "\n",
    "get_fib(20)"
   ]
  },
  {
   "cell_type": "markdown",
   "id": "9bdebf2f-1e80-4454-b0e8-96344cc4deb5",
   "metadata": {},
   "source": [
    "Funktionen müssen keine Parameter haben, und auch keinen Rückgabewert."
   ]
  },
  {
   "cell_type": "code",
   "execution_count": 49,
   "id": "086285b2-f849-4e65-8346-ba61bfa51420",
   "metadata": {},
   "outputs": [
    {
     "name": "stdout",
     "output_type": "stream",
     "text": [
      "foo I say\n"
     ]
    }
   ],
   "source": [
    "def foo():\n",
    "    print(\"foo I say\")\n",
    "    \n",
    "foo()"
   ]
  },
  {
   "cell_type": "markdown",
   "id": "93104af4-f0b8-4424-b1c8-c2dc04601e74",
   "metadata": {},
   "source": [
    "Funktionen können *default*-Werte für Parameter haben. "
   ]
  },
  {
   "cell_type": "code",
   "execution_count": 50,
   "id": "483a2c3f-e99e-4f6e-bb6e-83657578f6e1",
   "metadata": {},
   "outputs": [
    {
     "name": "stdout",
     "output_type": "stream",
     "text": [
      "me: Python is more awesome then something really awesome!\n",
      "you: Python will eat java for breakfast!\n"
     ]
    }
   ],
   "source": [
    "def praise(what_to_say,who_speaks='me'):\n",
    "    print(who_speaks+\": \"+what_to_say)\n",
    "    \n",
    "praise(\"Python is more awesome then something really awesome!\")\n",
    "praise(\"Python will eat java for breakfast!\",who_speaks=\"you\")"
   ]
  },
  {
   "cell_type": "markdown",
   "id": "99f7bcea-a42a-4c0a-b477-1bee03192a84",
   "metadata": {},
   "source": [
    "Was passiert hier? Im ersten Aufruf wurde kein Wert für <code>who_speaks</code> angegeben -- daher wird der *default*-Wert verwendet (\"me\"). Beim zweiten wird ein Wert angegeben (\"you\"), der dann auch verwendet wird. \n",
    "\n",
    "Wozu ist das gut? Oft haben Funktionen viele Parameter, die meisten haben jedoch Standardwerte, die im Regelfall nicht verändert werden müssen (aber manchmal eben doch) -- der Funktionsaufruf ist dann viel kürzer, als wenn alle Parameter explizit aufgeführt werden müssen. Ein Beispiel ist die Methode [scipy.linalg.solve](https://docs.scipy.org/doc/scipy/reference/generated/scipy.linalg.solve.html#scipy.linalg.solve) mit der lineare Gleichungssysteme gelöst werden können. Dort gibt es zB einen Parameter <code>lower=False</code>, der angibt, ob die Matrix eine untere Dreiecksmatrix ist. Normalerweise wird das nicht der Fall sein -- dann kann der Parameter einfach weggelassen werden."
   ]
  },
  {
   "cell_type": "markdown",
   "id": "24db4f55-b350-4dab-8e3b-6fe0eca52381",
   "metadata": {},
   "source": [
    "Es ist hilfreich, Funktionen mit einem Hilfetext zu versehen, der erklärt was die Funktion berechnet und welcher Art die Parameter sind. Ein Hilfetext wird mit drei Anführungszeichen gestartet und beendet. Aufgerufen wird er mit <code>help</code>. Probieren Sie zB einmal <code>help(round)</code> aus."
   ]
  },
  {
   "cell_type": "code",
   "execution_count": 51,
   "id": "207152f5-d211-4620-ae2f-4a083da4b7ff",
   "metadata": {},
   "outputs": [
    {
     "name": "stdout",
     "output_type": "stream",
     "text": [
      "Help on function get_primes in module __main__:\n",
      "\n",
      "get_primes(n)\n",
      "    erzeugt die Liste aller Primzahlen <n\n",
      "    n: positive ganze Zahl\n",
      "\n"
     ]
    }
   ],
   "source": [
    "def get_primes(n):\n",
    "    \"\"\"\n",
    "    erzeugt die Liste aller Primzahlen <n\n",
    "    n: positive ganze Zahl\n",
    "    \"\"\"\n",
    "    candidates=[True]*n  # erzeugt Liste [True, True, ..., True] der Länge n\n",
    "    primes=[]\n",
    "    for i in range(2,n):\n",
    "        if candidates[i]:\n",
    "            primes.append(i)\n",
    "            for j in range(i,n,i): # kein Vielfaches von i ist prim \n",
    "                candidates[j]=False # markiere als \"nicht-prim\"\n",
    "    return primes\n",
    "\n",
    "help(get_primes)"
   ]
  },
  {
   "cell_type": "markdown",
   "id": "efae1aa4-081e-4d0a-a6c2-200b8610743a",
   "metadata": {
    "nbgrader": {
     "grade": false,
     "grade_id": "cell-4c294e188750371c",
     "locked": false,
     "points": 3,
     "schema_version": 3,
     "solution": false,
     "task": false
    }
   },
   "source": [
    "### Aufgabe: Collatz\n",
    "Das [Collatz-Problem](https://de.wikipedia.org/wiki/Collatz-Problem) ist eines von diesen mathematischen Problemen, die wie Spielerei erscheinen, sich dann aber als fürchterlich schwierig herausstellen. Worum geht's? Wir starten mit einer natürlich Zahl $n$. Wenn diese gerade ist, ersetzen wir sie durch die Hälfte; wenn sie ungerade ist, so ersetzen wir sie mit $3n+1$. Wenn wir etwa mit $n=12$ starten, so entsteht diese Folge\n",
    "$$\n",
    "12, 6, 3, 10, 5, 16, 8, 4, 2, 1,...\n",
    "$$\n",
    "Was passiert anschließend? Aus $1$ wird wieder $4$ und wir sind in einer endlosen Schleife $4,2,1,4,2,1,4,2,1,...$ gefangen. Daher wird so eine Collatz-Folge immer abgebrochen, wenn $1$ erreicht wird. So, und wo ist nun das Problem? Starten wir mal mit einer anderen Zahl, nämlich $17$:\n",
    "$$\n",
    "17, 52, 26, 13, 40, 20, 10, 5, 16, 8, 4, 2, 1\n",
    "$$\n",
    "Wieder enden wir bei $1$! Tatsächlich hat noch niemand eine Startzahl gefunden, die nicht schlussendlich bei $1$ endet -- und das ist das Collatz-Problem: Wird für jede natürliche Startzahl die $1$ erreicht? \n",
    "\n",
    "Implementieren Sie die Funktion <code>collatz(n)</code>, die startend bei $n$ die Collatz-Folge bis zum Erreichen der $1$ ausgibt. (Machen Sie sich keine Sorgen, dass Ihre Folge unendlich weiter geht oder in einer anderen Schleifen gefangen wird -- die ersten x Milliarden Startwerte sind alle bereits ausgetestet worden und es wird immer die $1$ erreicht.) Die Funktion soll die Folge als Liste ausgeben, also für $n=12$ die Liste <code>[12, 6, 3, 10, 5, 16, 8, 4, 2, 1]</code>."
   ]
  },
  {
   "cell_type": "code",
   "execution_count": 52,
   "id": "9ba0148d-4e7e-4cba-b787-d0bbaefb1ff5",
   "metadata": {
    "nbgrader": {
     "grade": false,
     "grade_id": "cell-2edee504b53ca18e",
     "locked": false,
     "schema_version": 3,
     "solution": true,
     "task": false
    }
   },
   "outputs": [
    {
     "data": {
      "text/plain": [
       "[42, 21, 64, 32, 16, 8, 4, 2, 1]"
      ]
     },
     "execution_count": 52,
     "metadata": {},
     "output_type": "execute_result"
    }
   ],
   "source": [
    "### BEGIN SOLUTION\n",
    "def collatz(n):\n",
    "    trajectory=[]\n",
    "    while n!=1:\n",
    "        trajectory.append(n)\n",
    "        if n%2==0:\n",
    "            n=n//2\n",
    "        else:\n",
    "            n=3*n+1\n",
    "    trajectory.append(1)\n",
    "    return trajectory\n",
    "### END SOLUTION\n",
    "\n",
    "collatz(42)"
   ]
  },
  {
   "cell_type": "code",
   "execution_count": 53,
   "id": "dc8a4246-a3a6-42bc-b5fd-80538e7daf87",
   "metadata": {
    "nbgrader": {
     "grade": true,
     "grade_id": "cell-a6d890b5a3b28b57",
     "locked": true,
     "points": 3,
     "schema_version": 3,
     "solution": false,
     "task": false
    }
   },
   "outputs": [],
   "source": [
    "### Dies ist eine TESTZELLE. \n",
    "### Wenn die Ausführung zu einem Fehler führt, haben Sie etwas falsch gemacht\n",
    "### Wenn bei Ausführung nichts passiert, dann ist Ihre Lösung richtig oder zumindest nicht grob falsch\n",
    "assert collatz(100)[13]==17 # check that, for start n=100, the 14th value is 17 \n",
    "### BEGIN HIDDEN TESTS\n",
    "assert collatz(112)[7]==34\n",
    "assert collatz(1)[0]==1\n",
    "### END HIDDEN TESTS"
   ]
  },
  {
   "cell_type": "markdown",
   "id": "88c1cb8f-6f3a-4bdd-a0f6-7d4623d92aac",
   "metadata": {},
   "source": [
    "## Dictionaries\n",
    "\n",
    "*Dictionaries* sind ein weiterer Datentyp, der direkt von python unterstützt wird. Was sind *dictionaries*? Naja, eben Wörterbücher: Es werden eine Reihe von Paaren von Schlüssel und Eintrag gespeichert und man erhält den Eintrag, wenn man den Schlüssel angibt. Die Notation ähnelt der von Listen, die Definition verwendet jedoch geschweifte Klammern statt eckiger Klammern. Der Zugriff auf die Einträge erfolgt aber über eckige Klammern. Hier ist ein Beispiel.\n"
   ]
  },
  {
   "cell_type": "code",
   "execution_count": 54,
   "id": "e27ce3cf-c738-470e-8682-d51664bde2b6",
   "metadata": {},
   "outputs": [
    {
     "data": {
      "text/plain": [
       "42"
      ]
     },
     "execution_count": 54,
     "metadata": {},
     "output_type": "execute_result"
    }
   ],
   "source": [
    "some_dictionary={} ## definiert ein leeres dictionary\n",
    "some_dictionary['a key']=42 # Zuweisung des Eintrags 42 zum Schlüssel 'a key'\n",
    "some_dictionary['a key'] # Zugriff auf den Eintrag zum Schlüssel 'a key'"
   ]
  },
  {
   "cell_type": "markdown",
   "id": "2149f19f-e1ff-4074-8c69-db48b2881113",
   "metadata": {},
   "source": [
    "Wir können ganz einfach weitere Einträge zuweisen und auch alte überschreiben. Für die Schlüssel können wir auch <code>int</code> oder <code>float</code> benutzen und auch eine ganz Reihe weiterer Typen. "
   ]
  },
  {
   "cell_type": "code",
   "execution_count": 55,
   "id": "1049029c-15d4-40ad-ab00-66a8b17e779c",
   "metadata": {},
   "outputs": [
    {
     "data": {
      "text/plain": [
       "{'a key': 27, 123: 'another entry', 12.9: 10}"
      ]
     },
     "execution_count": 55,
     "metadata": {},
     "output_type": "execute_result"
    }
   ],
   "source": [
    "some_dictionary[123]='another entry'\n",
    "some_dictionary[12.9]=10\n",
    "some_dictionary['a key']=27\n",
    "some_dictionary"
   ]
  },
  {
   "cell_type": "markdown",
   "id": "67f7b538-afc5-4ae0-94f7-0dc8f792bc42",
   "metadata": {},
   "source": [
    "Ein *dictionary* kann auch gleich mit Inhalt definiert werden."
   ]
  },
  {
   "cell_type": "code",
   "execution_count": 56,
   "id": "c7bd7423-2e22-4827-8ae9-30d982164a59",
   "metadata": {},
   "outputs": [
    {
     "data": {
      "text/plain": [
       "'+49 731 50 22000'"
      ]
     },
     "execution_count": 56,
     "metadata": {},
     "output_type": "execute_result"
    }
   ],
   "source": [
    "telephon_numbers={'Anton':'+49 89 5500090','Carl':'+49 731 489754','Michael':'+49 731 50 22000'}\n",
    "telephon_numbers['Michael']"
   ]
  },
  {
   "cell_type": "markdown",
   "id": "ee50add4-da8f-4b77-a6d3-a90c02a94b81",
   "metadata": {},
   "source": [
    "Mit <code>some_dictionary.keys()</code> können wir über die Schlüssel eines *dictionaries* iterieren. Gleichzeitig möchte ich eine nützlich String-Funktion <code>.format</code> illustrieren: Mit der lassen sich Variablen in einen String einsetzen. Das geht so:"
   ]
  },
  {
   "cell_type": "code",
   "execution_count": 57,
   "id": "eda41c7d-704a-4385-884c-c20e20cfec20",
   "metadata": {},
   "outputs": [
    {
     "name": "stdout",
     "output_type": "stream",
     "text": [
      "Anton : +49 89 5500090\n",
      "Carl : +49 731 489754\n",
      "Michael : +49 731 50 22000\n"
     ]
    }
   ],
   "source": [
    "for key in telephon_numbers.keys():\n",
    "    value=telephon_numbers[key]\n",
    "    print(\"{} : {}\".format(key,value)) # Die Variablen werden in der Reihenfolge an den Stellen {} eingesetzt"
   ]
  }
 ],
 "metadata": {
  "kernelspec": {
   "display_name": "Python 3 (ipykernel)",
   "language": "python",
   "name": "python3"
  },
  "language_info": {
   "codemirror_mode": {
    "name": "ipython",
    "version": 3
   },
   "file_extension": ".py",
   "mimetype": "text/x-python",
   "name": "python",
   "nbconvert_exporter": "python",
   "pygments_lexer": "ipython3",
   "version": "3.11.7"
  }
 },
 "nbformat": 4,
 "nbformat_minor": 5
}

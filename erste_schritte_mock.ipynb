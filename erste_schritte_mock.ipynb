{
 "cells": [
  {
   "cell_type": "markdown",
   "id": "c68f2512-87d1-4bd6-8afb-74eb9466e260",
   "metadata": {},
   "source": [
    "# Erste Schritte mit Colab und Python\n"
   ]
  },
  {
   "cell_type": "markdown",
   "id": "efac3fcc-9346-4622-af51-01291193b6f5",
   "metadata": {},
   "source": [
    "Tradition gebietet es, mit *Hello world* anzufangen. Einzige Besonderheit hier: Strings in python können mit doppelten oder einfachen Anführungszeichen definiert werden -- macht keinen Unterschied. "
   ]
  },
  {
   "cell_type": "code",
   "execution_count": null,
   "id": "0404157f-fa7b-4801-b013-f713c25d9ec3",
   "metadata": {},
   "outputs": [],
   "source": [
    "print(\"Hello world!\")\n",
    "print('Hello world!')"
   ]
  },
  {
   "cell_type": "markdown",
   "id": "a219fc78-97be-4e3d-b878-d589eb0c53c3",
   "metadata": {},
   "source": [
    "Im Gegensatz zu *java* oder *C*, muss der Typ von Variablen nicht deklariert werden. Dh, wenn wir eine Variable verwenden wollen, so weisen wir ihr einfach einen Wert zu und können sie dann verwenden. "
   ]
  },
  {
   "cell_type": "code",
   "execution_count": null,
   "id": "0ec0835c-4740-4e03-b6ae-4e1a3bf26db1",
   "metadata": {},
   "outputs": [],
   "source": [
    "x=42\n",
    "print(x)"
   ]
  },
  {
   "cell_type": "markdown",
   "id": "6e051e11-a322-4fba-b14c-78e8bad6189a",
   "metadata": {},
   "source": [
    "Hier ist eine Variable, die einen String enthält:"
   ]
  },
  {
   "cell_type": "code",
   "execution_count": null,
   "id": "1fa98eb9-8810-442b-8acf-8b16c84ada23",
   "metadata": {},
   "outputs": [],
   "source": [
    "s='some string'\n",
    "s"
   ]
  },
  {
   "cell_type": "markdown",
   "id": "1baad8f1-baf8-424a-8b21-2eb6911c66e9",
   "metadata": {},
   "source": [
    "Den Typ einer Variable erhalten wir mit dem eingebauten Befehl <code>type</code>:"
   ]
  },
  {
   "cell_type": "code",
   "execution_count": null,
   "id": "678095cf-3fad-4020-9d89-ae4621f62e32",
   "metadata": {},
   "outputs": [],
   "source": [
    "type(x),type(s)"
   ]
  },
  {
   "cell_type": "markdown",
   "id": "1c766ead-6087-4e3d-9955-682622431a50",
   "metadata": {},
   "source": [
    "Weitere Typen von Variable sind <code>float</code> (Fließkommazahlen, also 1.2345), <code>bool</code> (*boolean*, also entweder <code>True</code> oder <code>False</code>) und viele weitere, insbesondere selbstdefinierte Typen."
   ]
  },
  {
   "cell_type": "code",
   "execution_count": null,
   "id": "b4ca7853-da16-499f-add1-a29ba8683f7f",
   "metadata": {},
   "outputs": [],
   "source": [
    "f=1.2345\n",
    "b=True\n",
    "type(f),type(b)"
   ]
  },
  {
   "cell_type": "markdown",
   "id": "3eab6b71-c152-4e4b-91f4-0a7138156096",
   "metadata": {},
   "source": [
    "Natürlich gibt's die üblichen arithmetischen Operatoren: +-*/"
   ]
  },
  {
   "cell_type": "code",
   "execution_count": null,
   "id": "32edb105-cbd1-4e43-8adf-faa3faa368b2",
   "metadata": {},
   "outputs": [],
   "source": [
    "(1+2-3)*4/5"
   ]
  },
  {
   "cell_type": "markdown",
   "id": "c4a167a0-99fd-4490-97ad-d87d2081ee2b",
   "metadata": {},
   "source": [
    "Fürs Potenzieren gibt's denn <code>**</code>-Operator: "
   ]
  },
  {
   "cell_type": "code",
   "execution_count": null,
   "id": "7840ea63-592e-4ab1-bb79-33b657e64663",
   "metadata": {},
   "outputs": [],
   "source": [
    "2**10"
   ]
  },
  {
   "cell_type": "markdown",
   "id": "2a1456b9-2abb-4a45-9ce4-b19356639596",
   "metadata": {},
   "source": [
    "Den Rest beim Teilen (mod) erhält man mit %, Ganzzahlteilung funktioniert mit //. "
   ]
  },
  {
   "cell_type": "code",
   "execution_count": null,
   "id": "929be0fd-08a3-4e8b-9e75-5979a331cf2a",
   "metadata": {},
   "outputs": [],
   "source": [
    "11%3,11//3"
   ]
  },
  {
   "cell_type": "markdown",
   "id": "29d7acf7-d509-4f8e-8573-c255ea0bd49d",
   "metadata": {},
   "source": [
    "Was die Operatoren bewirken, hängt vom Datentyp ab. ZB können wir auch Strings addieren."
   ]
  },
  {
   "cell_type": "code",
   "execution_count": null,
   "id": "cc6ec251-15e4-4d54-8938-062f9b19c86d",
   "metadata": {},
   "outputs": [],
   "source": [
    "first_string=\"python futtert\"\n",
    "second_string=\"Matlab zum Frühstück\"\n",
    "result=first_string+\" \"+second_string\n",
    "print(result)"
   ]
  },
  {
   "cell_type": "markdown",
   "id": "fe94dea2-2533-4f13-9afc-0f2d87951c88",
   "metadata": {},
   "source": [
    "Zum Vergleichen gibt's ==,!=,>=,<=,<,>. Das Ergebnis ist entweder <code>True</code> oder <code>False</code>."
   ]
  },
  {
   "cell_type": "code",
   "execution_count": null,
   "id": "74dadab4-d5dd-4c84-9668-97d6962b08f5",
   "metadata": {},
   "outputs": [],
   "source": [
    "x=12\n",
    "y=13\n",
    "x==y"
   ]
  },
  {
   "cell_type": "code",
   "execution_count": null,
   "id": "bb2c4d21-9afd-43e9-9d7c-0b527882e78b",
   "metadata": {},
   "outputs": [],
   "source": [
    "some_string=\"fortytwo\"\n",
    "some_string=='fortytwo'"
   ]
  },
  {
   "cell_type": "code",
   "execution_count": null,
   "id": "67d0ab6f-7f6b-4005-b853-8f011a11eb4f",
   "metadata": {},
   "outputs": [],
   "source": [
    "12!=12"
   ]
  },
  {
   "cell_type": "code",
   "execution_count": null,
   "id": "251ecc3b-4f31-4cb8-886e-6e9162416ea9",
   "metadata": {},
   "outputs": [],
   "source": [
    "1234<=234"
   ]
  },
  {
   "cell_type": "markdown",
   "id": "4781c84c-44e8-4d5e-b967-ff0621a2a048",
   "metadata": {},
   "source": [
    "Die logischen Verknüpfungen <code>and</code> und <code>or</code> erlauben kompliziertere Ausdrücke."
   ]
  },
  {
   "cell_type": "code",
   "execution_count": null,
   "id": "4f49e543-123d-41f8-bcb3-bb187f80f917",
   "metadata": {},
   "outputs": [],
   "source": [
    "(x!=y) and (some_string=='fortytwo')"
   ]
  },
  {
   "cell_type": "markdown",
   "id": "9898df70-f662-4f4c-90a6-ad9e0ab6d094",
   "metadata": {},
   "source": [
    "Kommentare werden mit # gemacht. Alles in einer Zeile nach # ist ein Kommentar und wird ignoriert."
   ]
  },
  {
   "cell_type": "code",
   "execution_count": null,
   "id": "7ebcc986-5e76-4129-9a99-902e1811ce4e",
   "metadata": {},
   "outputs": [],
   "source": [
    "some_variable=12.23 # dies ist ein Kommentar \n",
    "\n",
    "# Eine ganze Zeile kann auch ein Kommentar sein \n",
    "### Oft setze ich gleich drei #. Das macht keinen Unterschied und ist rein kosmetisch."
   ]
  },
  {
   "cell_type": "markdown",
   "id": "d63b8869-0bae-4650-8e35-d47441d9587d",
   "metadata": {},
   "source": [
    "### Aufgabe: Rechnung\n",
    "Berechnen Sie, welchen Rest\n",
    "$\n",
    "2^{23}-7\n",
    "$ geteilt durch 33 hinterlässt. Speichern Sie das Resultat in einer Variable namens <code>rest</code>."
   ]
  },
  {
   "cell_type": "code",
   "execution_count": null,
   "id": "2ef64be5-6c81-43a1-9c35-809317b5a335",
   "metadata": {
    "deletable": false,
    "nbgrader": {
     "cell_type": "code",
     "checksum": "a161bb475d56fc518ac80c968c179a8d",
     "grade": false,
     "grade_id": "cell-b532a3e7ad38c504",
     "locked": false,
     "schema_version": 3,
     "solution": true,
     "task": false
    }
   },
   "outputs": [],
   "source": [
    "### INSERT YOUR CODE HERE\n",
    "raise NotImplementedError()\n",
    "### END OF INSERT\n",
    "\n",
    "rest"
   ]
  },
  {
   "cell_type": "code",
   "execution_count": null,
   "id": "6ea2f9be-eddc-4914-b702-06d77eb72267",
   "metadata": {
    "deletable": false,
    "editable": false,
    "nbgrader": {
     "cell_type": "code",
     "checksum": "86fa99411b2b23a243d35b366ccc6846",
     "grade": true,
     "grade_id": "cell-c3f289c482817820",
     "locked": true,
     "points": 3,
     "schema_version": 3,
     "solution": false,
     "task": false
    }
   },
   "outputs": [],
   "source": [
    "### Dies ist eine TESTZELLE. \n",
    "### Wenn die Ausführung zu einem Fehler führt, haben Sie etwas falsch gemacht\n",
    "### Wenn bei Ausführung nichts passiert, dann ist Ihre Lösung richtig oder zumindest nicht grob falsch\n",
    "assert rest >=0\n",
    "assert rest <=32\n"
   ]
  }
 ],
 "metadata": {
  "kernelspec": {
   "display_name": "Python 3 (ipykernel)",
   "language": "python",
   "name": "python3"
  },
  "language_info": {
   "codemirror_mode": {
    "name": "ipython",
    "version": 3
   },
   "file_extension": ".py",
   "mimetype": "text/x-python",
   "name": "python",
   "nbconvert_exporter": "python",
   "pygments_lexer": "ipython3",
   "version": "3.11.7"
  }
 },
 "nbformat": 4,
 "nbformat_minor": 5
}
